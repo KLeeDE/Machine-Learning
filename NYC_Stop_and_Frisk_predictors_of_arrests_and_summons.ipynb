{
  "nbformat": 4,
  "nbformat_minor": 0,
  "metadata": {
    "colab": {
      "name": "NYC Stop and Frisk: predictors of arrests and summons.ipynb",
      "provenance": [],
      "collapsed_sections": [
        "p6VBIzMl0rUX",
        "T3NWK6ZqXPRp",
        "r8mweVdlLcF-"
      ],
      "machine_shape": "hm",
      "include_colab_link": true
    },
    "kernelspec": {
      "name": "python3",
      "display_name": "Python 3"
    }
  },
  "cells": [
    {
      "cell_type": "markdown",
      "metadata": {
        "id": "view-in-github",
        "colab_type": "text"
      },
      "source": [
        "<a href=\"https://colab.research.google.com/github/KLeeDE/Machine-Learning/blob/master/NYC_Stop_and_Frisk_predictors_of_arrests_and_summons.ipynb\" target=\"_parent\"><img src=\"https://colab.research.google.com/assets/colab-badge.svg\" alt=\"Open In Colab\"/></a>"
      ]
    },
    {
      "cell_type": "markdown",
      "metadata": {
        "id": "gdimg1zpzbzB",
        "colab_type": "text"
      },
      "source": [
        "# MLPP20 // Assignment #5 **(GGD: Total = 56 / 65)**\n",
        "\n",
        "assigned : **Apr 23, 2020**\n",
        "\n",
        "DUE : **Apr 30, 2020 11:59pm**\n",
        "\n",
        "## NYC Stop and Frisk: predictors of arrests and summons\n",
        "\n",
        "<img src=\"https://i1.wp.com/www.nationalreview.com/wp-content/uploads/2018/01/new-york-city-stop-and-frisk-crime-decline-conservatives-wrong-1.jpg?fit=789%2C460&ssl=1\" width=500x>\n",
        "\n",
        "---"
      ]
    },
    {
      "cell_type": "markdown",
      "metadata": {
        "id": "mgdZJmYA0Frh",
        "colab_type": "text"
      },
      "source": [
        "The data used for this assignment were pulled from [here](https://www1.nyc.gov/site/nypd/stats/reports-analysis/stopfrisk.page).\n",
        "\n",
        "\n",
        "<u>**Instructions for tasks that will be graded are in bold below.**</u>"
      ]
    },
    {
      "cell_type": "markdown",
      "metadata": {
        "id": "GL6_27VX0HY1",
        "colab_type": "text"
      },
      "source": [
        "### Part 1 - Background **(GGD: +10)**\n",
        "\n",
        "**<u>In your own words</u>, provide a brief (no more than 500 words) descriptive overview of the NYC Stop and Frisk program.**"
      ]
    },
    {
      "cell_type": "markdown",
      "metadata": {
        "id": "j3uVa_kT0qUR",
        "colab_type": "text"
      },
      "source": [
        "In 2013, the former NYC Mayor candidate Bill de Blasio ran a campaign ad \"end a stop-and-frisk era that unfairly targets poor people of color\" ([Stolper & Johnes, 2018](https://www.cssny.org/news/entry/stop-and-frisk)). NYC Stop and Frisk is a stop-question-and-fristk pram run by New York City Police Department (NYPD) ([Wikipedia, 2020](https://en.wikipedia.org/wiki/Stop-and-frisk_in_New_York_City)). According to the NYPD official website, NYCLU revealed that people have been subjected to police stops and street interrogations more than 5 million times since 2002 and that Black and Latinx communities continue to be the overwhelming target ([NYCLU, 2020](https://www.nyclu.org/en/stop-and-frisk-data)). The NYUPD uploads dataset and codebook which contains over 100 variables and 12,404 observations, each of which represents a stop conducted by an NYPD officer. Around 76% of people subjected to a recorded stop were innocent (neither arrested nor issued a summons) in 2016 ([Stolper & Johnes, 2018](https://www.cssny.org/news/entry/stop-and-frisk)). Among the stops reported by the NYPD in 2019, 35% resulted in an arrest or summons for the potential sign of improvement in police officers' use of tactic ([Yasmeen, 2020](https://gothamist.com/news/nyc-ending-illegal-stop-and-frisk-era)). In November 2019, the former NYC Mayor Michael Bloomberg apologized publicly for the use of tactic intended to reduce violent crime that had for years been criticized as racially biased ([Fradella & White, 2019](https://theconversation.com/stop-and-frisk-can-work-under-careful-supervision-127785)). Therefore, it is important to know how the NYC Stop and Frisk program data is shown and find implications.       \n",
        "\n",
        "**Reference**:\n",
        "\n",
        "Fradella, H. & White, M. (Dec, 2019). 'Stop-and-frisk' can work, under careful supervision.\n",
        "\n",
        "NYCLU (Apr, 2020). Stop-And-Frisk Data. \n",
        "\n",
        "Stolper, H. & Jones, J. (Apr, 2018). The Enduring Discriminatory Practice of Stop & Frisk. \n",
        "\n",
        "Yasmeen Khan (Feb, 2020). NYC Has \"A Long Way To Go\" To End The Illegal Stop-And-Frisk Era. \n",
        "\n",
        "Wikipedia (Apr, 2020).Stop-and=frisk in New York City.\n",
        "\n"
      ]
    },
    {
      "cell_type": "markdown",
      "metadata": {
        "id": "p6VBIzMl0rUX",
        "colab_type": "text"
      },
      "source": [
        "### Part 2 - Loading and Cleaning data **(GGD: +15)**"
      ]
    },
    {
      "cell_type": "markdown",
      "metadata": {
        "id": "nw67TR2-4i-Y",
        "colab_type": "text"
      },
      "source": [
        "**Read in the 2010 stop and frisk data from  `mlpp20/data/stop_and_frisk/` into a DataFrame called `sqf` setting `low_memory=False` in `pd.read_csv`.**"
      ]
    },
    {
      "cell_type": "code",
      "metadata": {
        "id": "OxfiHV8MxxLf",
        "colab_type": "code",
        "outputId": "ef677d47-7d3e-4ee1-d127-4573ebf76295",
        "colab": {
          "base_uri": "https://localhost:8080/",
          "height": 429
        }
      },
      "source": [
        "from google.colab import drive\n",
        "drive.mount('/content/drive')\n",
        "\n",
        "import numpy as np\n",
        "import pandas as pd\n",
        "import matplotlib.pyplot as plt\n",
        "\n",
        "from sklearn.tree import DecisionTreeClassifier\n",
        "from sklearn import tree\n",
        "import graphviz\n",
        "\n",
        "import os\n",
        "from sklearn.ensemble import RandomForestClassifier\n",
        "from sklearn.model_selection import train_test_split\n",
        "from sklearn.metrics import accuracy_score\n",
        "\n",
        "fname = \"/content/drive/My Drive/mlpp20/data/stop_and_frisk/2010.csv\"\n",
        "sqf = pd.read_csv(fname, low_memory=False)\n",
        "sqf.head()"
      ],
      "execution_count": 0,
      "outputs": [
        {
          "output_type": "stream",
          "text": [
            "Go to this URL in a browser: https://accounts.google.com/o/oauth2/auth?client_id=947318989803-6bn6qk8qdgf4n4g3pfee6491hc0brc4i.apps.googleusercontent.com&redirect_uri=urn%3aietf%3awg%3aoauth%3a2.0%3aoob&response_type=code&scope=email%20https%3a%2f%2fwww.googleapis.com%2fauth%2fdocs.test%20https%3a%2f%2fwww.googleapis.com%2fauth%2fdrive%20https%3a%2f%2fwww.googleapis.com%2fauth%2fdrive.photos.readonly%20https%3a%2f%2fwww.googleapis.com%2fauth%2fpeopleapi.readonly\n",
            "\n",
            "Enter your authorization code:\n",
            "··········\n",
            "Mounted at /content/drive\n"
          ],
          "name": "stdout"
        },
        {
          "output_type": "execute_result",
          "data": {
            "text/html": [
              "<div>\n",
              "<style scoped>\n",
              "    .dataframe tbody tr th:only-of-type {\n",
              "        vertical-align: middle;\n",
              "    }\n",
              "\n",
              "    .dataframe tbody tr th {\n",
              "        vertical-align: top;\n",
              "    }\n",
              "\n",
              "    .dataframe thead th {\n",
              "        text-align: right;\n",
              "    }\n",
              "</style>\n",
              "<table border=\"1\" class=\"dataframe\">\n",
              "  <thead>\n",
              "    <tr style=\"text-align: right;\">\n",
              "      <th></th>\n",
              "      <th>year</th>\n",
              "      <th>pct</th>\n",
              "      <th>ser_num</th>\n",
              "      <th>datestop</th>\n",
              "      <th>timestop</th>\n",
              "      <th>recstat</th>\n",
              "      <th>inout</th>\n",
              "      <th>trhsloc</th>\n",
              "      <th>perobs</th>\n",
              "      <th>crimsusp</th>\n",
              "      <th>perstop</th>\n",
              "      <th>typeofid</th>\n",
              "      <th>explnstp</th>\n",
              "      <th>othpers</th>\n",
              "      <th>arstmade</th>\n",
              "      <th>arstoffn</th>\n",
              "      <th>sumissue</th>\n",
              "      <th>sumoffen</th>\n",
              "      <th>compyear</th>\n",
              "      <th>comppct</th>\n",
              "      <th>offunif</th>\n",
              "      <th>officrid</th>\n",
              "      <th>frisked</th>\n",
              "      <th>searched</th>\n",
              "      <th>contrabn</th>\n",
              "      <th>adtlrept</th>\n",
              "      <th>pistol</th>\n",
              "      <th>riflshot</th>\n",
              "      <th>asltweap</th>\n",
              "      <th>knifcuti</th>\n",
              "      <th>machgun</th>\n",
              "      <th>othrweap</th>\n",
              "      <th>pf_hands</th>\n",
              "      <th>pf_wall</th>\n",
              "      <th>pf_grnd</th>\n",
              "      <th>pf_drwep</th>\n",
              "      <th>pf_ptwep</th>\n",
              "      <th>pf_baton</th>\n",
              "      <th>pf_hcuff</th>\n",
              "      <th>pf_pepsp</th>\n",
              "      <th>...</th>\n",
              "      <th>sb_admis</th>\n",
              "      <th>sb_other</th>\n",
              "      <th>repcmd</th>\n",
              "      <th>revcmd</th>\n",
              "      <th>rf_furt</th>\n",
              "      <th>rf_bulg</th>\n",
              "      <th>offverb</th>\n",
              "      <th>offshld</th>\n",
              "      <th>sex</th>\n",
              "      <th>race</th>\n",
              "      <th>dob</th>\n",
              "      <th>age</th>\n",
              "      <th>ht_feet</th>\n",
              "      <th>ht_inch</th>\n",
              "      <th>weight</th>\n",
              "      <th>haircolr</th>\n",
              "      <th>eyecolor</th>\n",
              "      <th>build</th>\n",
              "      <th>othfeatr</th>\n",
              "      <th>addrtyp</th>\n",
              "      <th>rescode</th>\n",
              "      <th>premtype</th>\n",
              "      <th>premname</th>\n",
              "      <th>addrnum</th>\n",
              "      <th>stname</th>\n",
              "      <th>stinter</th>\n",
              "      <th>crossst</th>\n",
              "      <th>aptnum</th>\n",
              "      <th>city</th>\n",
              "      <th>state</th>\n",
              "      <th>zip</th>\n",
              "      <th>addrpct</th>\n",
              "      <th>sector</th>\n",
              "      <th>beat</th>\n",
              "      <th>post</th>\n",
              "      <th>xcoord</th>\n",
              "      <th>ycoord</th>\n",
              "      <th>dettypcm</th>\n",
              "      <th>linecm</th>\n",
              "      <th>detailcm</th>\n",
              "    </tr>\n",
              "  </thead>\n",
              "  <tbody>\n",
              "    <tr>\n",
              "      <th>0</th>\n",
              "      <td>2010</td>\n",
              "      <td>78</td>\n",
              "      <td>81</td>\n",
              "      <td>1012010</td>\n",
              "      <td>340</td>\n",
              "      <td>1</td>\n",
              "      <td>O</td>\n",
              "      <td>P</td>\n",
              "      <td>1</td>\n",
              "      <td>MISD</td>\n",
              "      <td>13</td>\n",
              "      <td>V</td>\n",
              "      <td>Y</td>\n",
              "      <td>N</td>\n",
              "      <td>N</td>\n",
              "      <td></td>\n",
              "      <td>Y</td>\n",
              "      <td>240.20</td>\n",
              "      <td>0</td>\n",
              "      <td>0</td>\n",
              "      <td>Y</td>\n",
              "      <td></td>\n",
              "      <td>Y</td>\n",
              "      <td>N</td>\n",
              "      <td>N</td>\n",
              "      <td>N</td>\n",
              "      <td>N</td>\n",
              "      <td>N</td>\n",
              "      <td>N</td>\n",
              "      <td>N</td>\n",
              "      <td>N</td>\n",
              "      <td>N</td>\n",
              "      <td>Y</td>\n",
              "      <td>N</td>\n",
              "      <td>N</td>\n",
              "      <td>N</td>\n",
              "      <td>N</td>\n",
              "      <td>N</td>\n",
              "      <td>N</td>\n",
              "      <td>N</td>\n",
              "      <td>...</td>\n",
              "      <td>N</td>\n",
              "      <td>N</td>\n",
              "      <td>79</td>\n",
              "      <td>79</td>\n",
              "      <td>Y</td>\n",
              "      <td>N</td>\n",
              "      <td></td>\n",
              "      <td></td>\n",
              "      <td>M</td>\n",
              "      <td>B</td>\n",
              "      <td>5071992</td>\n",
              "      <td>17</td>\n",
              "      <td>5</td>\n",
              "      <td>10</td>\n",
              "      <td>180</td>\n",
              "      <td>BK</td>\n",
              "      <td>BR</td>\n",
              "      <td>M</td>\n",
              "      <td></td>\n",
              "      <td>L</td>\n",
              "      <td></td>\n",
              "      <td></td>\n",
              "      <td>SIDEWALK</td>\n",
              "      <td></td>\n",
              "      <td></td>\n",
              "      <td>QUINCY ST</td>\n",
              "      <td>CLASSON AV</td>\n",
              "      <td></td>\n",
              "      <td>BROOKLYN</td>\n",
              "      <td></td>\n",
              "      <td></td>\n",
              "      <td>78</td>\n",
              "      <td></td>\n",
              "      <td></td>\n",
              "      <td></td>\n",
              "      <td>995504</td>\n",
              "      <td>189189</td>\n",
              "      <td>CM</td>\n",
              "      <td>1</td>\n",
              "      <td>20</td>\n",
              "    </tr>\n",
              "    <tr>\n",
              "      <th>1</th>\n",
              "      <td>2010</td>\n",
              "      <td>26</td>\n",
              "      <td>21</td>\n",
              "      <td>1042010</td>\n",
              "      <td>1548</td>\n",
              "      <td>1</td>\n",
              "      <td>O</td>\n",
              "      <td>P</td>\n",
              "      <td>2</td>\n",
              "      <td>ROBBERY</td>\n",
              "      <td>5</td>\n",
              "      <td>P</td>\n",
              "      <td>Y</td>\n",
              "      <td>N</td>\n",
              "      <td>N</td>\n",
              "      <td></td>\n",
              "      <td>Y</td>\n",
              "      <td>POSS OF</td>\n",
              "      <td>0</td>\n",
              "      <td>0</td>\n",
              "      <td>N</td>\n",
              "      <td>I</td>\n",
              "      <td>Y</td>\n",
              "      <td>N</td>\n",
              "      <td>N</td>\n",
              "      <td>N</td>\n",
              "      <td>N</td>\n",
              "      <td>N</td>\n",
              "      <td>N</td>\n",
              "      <td>N</td>\n",
              "      <td>N</td>\n",
              "      <td>N</td>\n",
              "      <td>N</td>\n",
              "      <td>N</td>\n",
              "      <td>N</td>\n",
              "      <td>N</td>\n",
              "      <td>N</td>\n",
              "      <td>N</td>\n",
              "      <td>N</td>\n",
              "      <td>N</td>\n",
              "      <td>...</td>\n",
              "      <td>N</td>\n",
              "      <td>N</td>\n",
              "      <td>862</td>\n",
              "      <td>862</td>\n",
              "      <td>Y</td>\n",
              "      <td>N</td>\n",
              "      <td></td>\n",
              "      <td>S</td>\n",
              "      <td>M</td>\n",
              "      <td>P</td>\n",
              "      <td>5241989</td>\n",
              "      <td>20</td>\n",
              "      <td>5</td>\n",
              "      <td>6</td>\n",
              "      <td>160</td>\n",
              "      <td>BK</td>\n",
              "      <td>BR</td>\n",
              "      <td>M</td>\n",
              "      <td></td>\n",
              "      <td>L</td>\n",
              "      <td></td>\n",
              "      <td></td>\n",
              "      <td>SOUTHBOUND C TRAIN</td>\n",
              "      <td></td>\n",
              "      <td></td>\n",
              "      <td>SAINT NICHOLAS AVENUE</td>\n",
              "      <td>WEST 135 STREET</td>\n",
              "      <td></td>\n",
              "      <td>MANHATTAN</td>\n",
              "      <td></td>\n",
              "      <td></td>\n",
              "      <td>26</td>\n",
              "      <td>F</td>\n",
              "      <td></td>\n",
              "      <td></td>\n",
              "      <td>998641</td>\n",
              "      <td>236979</td>\n",
              "      <td>CM</td>\n",
              "      <td>1</td>\n",
              "      <td>85</td>\n",
              "    </tr>\n",
              "    <tr>\n",
              "      <th>2</th>\n",
              "      <td>2010</td>\n",
              "      <td>18</td>\n",
              "      <td>34</td>\n",
              "      <td>1092010</td>\n",
              "      <td>1550</td>\n",
              "      <td>1</td>\n",
              "      <td>I</td>\n",
              "      <td>T</td>\n",
              "      <td>1</td>\n",
              "      <td>MISD</td>\n",
              "      <td>6</td>\n",
              "      <td>P</td>\n",
              "      <td>Y</td>\n",
              "      <td>N</td>\n",
              "      <td>N</td>\n",
              "      <td></td>\n",
              "      <td>N</td>\n",
              "      <td></td>\n",
              "      <td>0</td>\n",
              "      <td>0</td>\n",
              "      <td>Y</td>\n",
              "      <td></td>\n",
              "      <td>Y</td>\n",
              "      <td>Y</td>\n",
              "      <td>N</td>\n",
              "      <td>N</td>\n",
              "      <td>N</td>\n",
              "      <td>N</td>\n",
              "      <td>N</td>\n",
              "      <td>N</td>\n",
              "      <td>N</td>\n",
              "      <td>N</td>\n",
              "      <td>Y</td>\n",
              "      <td>N</td>\n",
              "      <td>N</td>\n",
              "      <td>N</td>\n",
              "      <td>N</td>\n",
              "      <td>N</td>\n",
              "      <td>N</td>\n",
              "      <td>N</td>\n",
              "      <td>...</td>\n",
              "      <td>N</td>\n",
              "      <td>N</td>\n",
              "      <td>872</td>\n",
              "      <td>872</td>\n",
              "      <td>N</td>\n",
              "      <td>N</td>\n",
              "      <td></td>\n",
              "      <td></td>\n",
              "      <td>M</td>\n",
              "      <td>Q</td>\n",
              "      <td>9201955</td>\n",
              "      <td>55</td>\n",
              "      <td>5</td>\n",
              "      <td>5</td>\n",
              "      <td>145</td>\n",
              "      <td>SP</td>\n",
              "      <td>BR</td>\n",
              "      <td>M</td>\n",
              "      <td></td>\n",
              "      <td>L</td>\n",
              "      <td></td>\n",
              "      <td></td>\n",
              "      <td>N/B A PLATFORM</td>\n",
              "      <td></td>\n",
              "      <td></td>\n",
              "      <td>COLUMBUS CIRCLE</td>\n",
              "      <td>WEST 58 STREET</td>\n",
              "      <td></td>\n",
              "      <td>MANHATTAN</td>\n",
              "      <td></td>\n",
              "      <td></td>\n",
              "      <td>18</td>\n",
              "      <td>H</td>\n",
              "      <td></td>\n",
              "      <td></td>\n",
              "      <td></td>\n",
              "      <td></td>\n",
              "      <td>CM</td>\n",
              "      <td>1</td>\n",
              "      <td>20</td>\n",
              "    </tr>\n",
              "    <tr>\n",
              "      <th>3</th>\n",
              "      <td>2010</td>\n",
              "      <td>108</td>\n",
              "      <td>102</td>\n",
              "      <td>1112010</td>\n",
              "      <td>1120</td>\n",
              "      <td>A</td>\n",
              "      <td>O</td>\n",
              "      <td>P</td>\n",
              "      <td>5</td>\n",
              "      <td>BURGLARY</td>\n",
              "      <td>10</td>\n",
              "      <td>P</td>\n",
              "      <td>Y</td>\n",
              "      <td>Y</td>\n",
              "      <td>N</td>\n",
              "      <td></td>\n",
              "      <td>N</td>\n",
              "      <td></td>\n",
              "      <td>0</td>\n",
              "      <td>0</td>\n",
              "      <td>N</td>\n",
              "      <td></td>\n",
              "      <td>Y</td>\n",
              "      <td>N</td>\n",
              "      <td>N</td>\n",
              "      <td>N</td>\n",
              "      <td>N</td>\n",
              "      <td>N</td>\n",
              "      <td>N</td>\n",
              "      <td>N</td>\n",
              "      <td>N</td>\n",
              "      <td>N</td>\n",
              "      <td>N</td>\n",
              "      <td>N</td>\n",
              "      <td>N</td>\n",
              "      <td>N</td>\n",
              "      <td>N</td>\n",
              "      <td>N</td>\n",
              "      <td>N</td>\n",
              "      <td>N</td>\n",
              "      <td>...</td>\n",
              "      <td>N</td>\n",
              "      <td>N</td>\n",
              "      <td>184</td>\n",
              "      <td>184</td>\n",
              "      <td>Y</td>\n",
              "      <td>N</td>\n",
              "      <td>V</td>\n",
              "      <td>S</td>\n",
              "      <td>M</td>\n",
              "      <td>Q</td>\n",
              "      <td>5021992</td>\n",
              "      <td>17</td>\n",
              "      <td>5</td>\n",
              "      <td>9</td>\n",
              "      <td>165</td>\n",
              "      <td>BR</td>\n",
              "      <td>BR</td>\n",
              "      <td>M</td>\n",
              "      <td></td>\n",
              "      <td>L</td>\n",
              "      <td></td>\n",
              "      <td></td>\n",
              "      <td>STREET</td>\n",
              "      <td></td>\n",
              "      <td></td>\n",
              "      <td>55 STREET</td>\n",
              "      <td>QUEENS BOULEVARD</td>\n",
              "      <td></td>\n",
              "      <td>QUEENS</td>\n",
              "      <td></td>\n",
              "      <td></td>\n",
              "      <td>108</td>\n",
              "      <td>G</td>\n",
              "      <td></td>\n",
              "      <td></td>\n",
              "      <td>1009146</td>\n",
              "      <td>209683</td>\n",
              "      <td>CM</td>\n",
              "      <td>1</td>\n",
              "      <td>14</td>\n",
              "    </tr>\n",
              "    <tr>\n",
              "      <th>4</th>\n",
              "      <td>2010</td>\n",
              "      <td>23</td>\n",
              "      <td>2437</td>\n",
              "      <td>1222010</td>\n",
              "      <td>1620</td>\n",
              "      <td>1</td>\n",
              "      <td>O</td>\n",
              "      <td>H</td>\n",
              "      <td>1</td>\n",
              "      <td>CPM</td>\n",
              "      <td>5</td>\n",
              "      <td>P</td>\n",
              "      <td>Y</td>\n",
              "      <td>N</td>\n",
              "      <td>N</td>\n",
              "      <td></td>\n",
              "      <td>N</td>\n",
              "      <td></td>\n",
              "      <td>0</td>\n",
              "      <td>0</td>\n",
              "      <td>Y</td>\n",
              "      <td></td>\n",
              "      <td>N</td>\n",
              "      <td>N</td>\n",
              "      <td>N</td>\n",
              "      <td>N</td>\n",
              "      <td>N</td>\n",
              "      <td>N</td>\n",
              "      <td>N</td>\n",
              "      <td>N</td>\n",
              "      <td>N</td>\n",
              "      <td>N</td>\n",
              "      <td>N</td>\n",
              "      <td>N</td>\n",
              "      <td>N</td>\n",
              "      <td>N</td>\n",
              "      <td>N</td>\n",
              "      <td>N</td>\n",
              "      <td>N</td>\n",
              "      <td>N</td>\n",
              "      <td>...</td>\n",
              "      <td>N</td>\n",
              "      <td>N</td>\n",
              "      <td>23</td>\n",
              "      <td>23</td>\n",
              "      <td>N</td>\n",
              "      <td>N</td>\n",
              "      <td></td>\n",
              "      <td></td>\n",
              "      <td>M</td>\n",
              "      <td>B</td>\n",
              "      <td>8281954</td>\n",
              "      <td>55</td>\n",
              "      <td>6</td>\n",
              "      <td>1</td>\n",
              "      <td>250</td>\n",
              "      <td>BK</td>\n",
              "      <td>BR</td>\n",
              "      <td>H</td>\n",
              "      <td></td>\n",
              "      <td>L</td>\n",
              "      <td></td>\n",
              "      <td></td>\n",
              "      <td>STREET</td>\n",
              "      <td>1370</td>\n",
              "      <td>5 TH AVENUE</td>\n",
              "      <td></td>\n",
              "      <td></td>\n",
              "      <td></td>\n",
              "      <td>MANHATTAN</td>\n",
              "      <td></td>\n",
              "      <td></td>\n",
              "      <td>23</td>\n",
              "      <td></td>\n",
              "      <td></td>\n",
              "      <td></td>\n",
              "      <td></td>\n",
              "      <td></td>\n",
              "      <td>CM</td>\n",
              "      <td>1</td>\n",
              "      <td>27</td>\n",
              "    </tr>\n",
              "  </tbody>\n",
              "</table>\n",
              "<p>5 rows × 111 columns</p>\n",
              "</div>"
            ],
            "text/plain": [
              "   year  pct  ser_num  datestop  ...  ycoord dettypcm linecm detailcm\n",
              "0  2010   78       81   1012010  ...  189189       CM      1       20\n",
              "1  2010   26       21   1042010  ...  236979       CM      1       85\n",
              "2  2010   18       34   1092010  ...               CM      1       20\n",
              "3  2010  108      102   1112010  ...  209683       CM      1       14\n",
              "4  2010   23     2437   1222010  ...               CM      1       27\n",
              "\n",
              "[5 rows x 111 columns]"
            ]
          },
          "metadata": {
            "tags": []
          },
          "execution_count": 1
        }
      ]
    },
    {
      "cell_type": "markdown",
      "metadata": {
        "id": "04OgdYB11CXe",
        "colab_type": "text"
      },
      "source": [
        "<b> Drop all columns (see the data dictionary at the website above) except: (GGD: -2 [whether the subject was frisked is FRISKED not OTHPERS and suspected of carrying a weapong is RF_OTHSW])\n",
        "- whether an arrest was made = \"ARSTMADE\"\n",
        "- whether a summons was issued = \"SUMISSUE\"\n",
        "- the period of observation = \"PEROBS\"\n",
        "- whether the subject was frisked = \"OTHPERS\" - stopped, questioned, or frisked\n",
        "- whether the subject was suspected of carrying a weapon (rf_othsw)  = \"ASLTWEAP\"\n",
        "- the subject's sex = \"sex\"\n",
        "- the subject's age = \"age\"\n",
        "- the subject's race = \"race\"\n",
        "- the x coordinate of the stop = \"xcoord\"\n",
        "- the y coordinate of the stop =\"ycoord\"\n",
        "</b>"
      ]
    },
    {
      "cell_type": "code",
      "metadata": {
        "id": "R9rJ9ABy2k2O",
        "colab_type": "code",
        "colab": {}
      },
      "source": [
        "sqf = sqf[[\"arstmade\", \"sumissue\", \"perobs\", \"othpers\", \"asltweap\", \"sex\", \"age\", \"race\", \"xcoord\", \"ycoord\"]]"
      ],
      "execution_count": 0,
      "outputs": []
    },
    {
      "cell_type": "markdown",
      "metadata": {
        "id": "rNJvoUDdVyUE",
        "colab_type": "text"
      },
      "source": [
        "**Convert `xcoord`, `ycoord`, and `age` to numeric values using the `pd.to_numeric()` function setting `errors=\"coerce\"` <small>(see the [docs](https://pandas.pydata.org/pandas-docs/stable/reference/api/pandas.to_numeric.html))</small>.**"
      ]
    },
    {
      "cell_type": "code",
      "metadata": {
        "id": "fCDEObTM8wV0",
        "colab_type": "code",
        "colab": {}
      },
      "source": [
        "sqf[\"xcoord\"] = pd.to_numeric(sqf[\"xcoord\"], errors=\"coerce\")\n",
        "sqf[\"ycoord\"] = pd.to_numeric(sqf[\"ycoord\"], errors=\"coerce\")\n",
        "sqf[\"age\"] = pd.to_numeric(sqf[\"age\"], errors=\"coerce\")"
      ],
      "execution_count": 0,
      "outputs": []
    },
    {
      "cell_type": "markdown",
      "metadata": {
        "id": "8O4JgTHTWYuf",
        "colab_type": "text"
      },
      "source": [
        "**Convert all columns with \"Y/N\" values to 1/0 values (1=\"Yes\", 0=\"No\").**"
      ]
    },
    {
      "cell_type": "code",
      "metadata": {
        "id": "Xi6VDZwN9zwT",
        "colab_type": "code",
        "colab": {}
      },
      "source": [
        "sqf.replace((\"yes\", \"no\"), (1,0), inplace=True)\n",
        "sqf.replace((\"Y\", \"N\"), (1,0), inplace=True)"
      ],
      "execution_count": 0,
      "outputs": []
    },
    {
      "cell_type": "markdown",
      "metadata": {
        "id": "M-PMMyyTWsfq",
        "colab_type": "text"
      },
      "source": [
        "**Drop all rows with NaNs.**"
      ]
    },
    {
      "cell_type": "code",
      "metadata": {
        "id": "odUEYSnIWwNf",
        "colab_type": "code",
        "colab": {}
      },
      "source": [
        "sqf = sqf.dropna()"
      ],
      "execution_count": 0,
      "outputs": []
    },
    {
      "cell_type": "markdown",
      "metadata": {
        "id": "JTrTCt91Wv6X",
        "colab_type": "text"
      },
      "source": [
        "**Create a column called `court` signifying whether the individual was required to appear in court or not (i.e., an arrest was made or a summons was issued)**"
      ]
    },
    {
      "cell_type": "code",
      "metadata": {
        "id": "_uwBawYKBi7X",
        "colab_type": "code",
        "colab": {}
      },
      "source": [
        "sqf[\"court\"] = 2"
      ],
      "execution_count": 0,
      "outputs": []
    },
    {
      "cell_type": "markdown",
      "metadata": {
        "id": "UyEcS_WPW61Z",
        "colab_type": "text"
      },
      "source": [
        "**Drop the `arstmade` and `sumissue` columns.**"
      ]
    },
    {
      "cell_type": "code",
      "metadata": {
        "id": "UyZprBxj9zMH",
        "colab_type": "code",
        "outputId": "9aeb5968-f954-486c-d68f-c077171a8e05",
        "colab": {
          "base_uri": "https://localhost:8080/",
          "height": 195
        }
      },
      "source": [
        "sqf = sqf.drop([\"arstmade\", \"sumissue\"], axis=1)\n",
        "sqf.head()"
      ],
      "execution_count": 0,
      "outputs": [
        {
          "output_type": "execute_result",
          "data": {
            "text/html": [
              "<div>\n",
              "<style scoped>\n",
              "    .dataframe tbody tr th:only-of-type {\n",
              "        vertical-align: middle;\n",
              "    }\n",
              "\n",
              "    .dataframe tbody tr th {\n",
              "        vertical-align: top;\n",
              "    }\n",
              "\n",
              "    .dataframe thead th {\n",
              "        text-align: right;\n",
              "    }\n",
              "</style>\n",
              "<table border=\"1\" class=\"dataframe\">\n",
              "  <thead>\n",
              "    <tr style=\"text-align: right;\">\n",
              "      <th></th>\n",
              "      <th>perobs</th>\n",
              "      <th>othpers</th>\n",
              "      <th>asltweap</th>\n",
              "      <th>sex</th>\n",
              "      <th>age</th>\n",
              "      <th>race</th>\n",
              "      <th>xcoord</th>\n",
              "      <th>ycoord</th>\n",
              "      <th>court</th>\n",
              "    </tr>\n",
              "  </thead>\n",
              "  <tbody>\n",
              "    <tr>\n",
              "      <th>0</th>\n",
              "      <td>1</td>\n",
              "      <td>0</td>\n",
              "      <td>0</td>\n",
              "      <td>M</td>\n",
              "      <td>17</td>\n",
              "      <td>B</td>\n",
              "      <td>995504.0</td>\n",
              "      <td>189189.0</td>\n",
              "      <td>1</td>\n",
              "    </tr>\n",
              "    <tr>\n",
              "      <th>1</th>\n",
              "      <td>2</td>\n",
              "      <td>0</td>\n",
              "      <td>0</td>\n",
              "      <td>M</td>\n",
              "      <td>20</td>\n",
              "      <td>P</td>\n",
              "      <td>998641.0</td>\n",
              "      <td>236979.0</td>\n",
              "      <td>1</td>\n",
              "    </tr>\n",
              "    <tr>\n",
              "      <th>3</th>\n",
              "      <td>5</td>\n",
              "      <td>1</td>\n",
              "      <td>0</td>\n",
              "      <td>M</td>\n",
              "      <td>17</td>\n",
              "      <td>Q</td>\n",
              "      <td>1009146.0</td>\n",
              "      <td>209683.0</td>\n",
              "      <td>0</td>\n",
              "    </tr>\n",
              "    <tr>\n",
              "      <th>5</th>\n",
              "      <td>5</td>\n",
              "      <td>0</td>\n",
              "      <td>0</td>\n",
              "      <td>M</td>\n",
              "      <td>57</td>\n",
              "      <td>Q</td>\n",
              "      <td>997374.0</td>\n",
              "      <td>234664.0</td>\n",
              "      <td>1</td>\n",
              "    </tr>\n",
              "    <tr>\n",
              "      <th>7</th>\n",
              "      <td>2</td>\n",
              "      <td>0</td>\n",
              "      <td>0</td>\n",
              "      <td>F</td>\n",
              "      <td>35</td>\n",
              "      <td>B</td>\n",
              "      <td>999539.0</td>\n",
              "      <td>239499.0</td>\n",
              "      <td>0</td>\n",
              "    </tr>\n",
              "  </tbody>\n",
              "</table>\n",
              "</div>"
            ],
            "text/plain": [
              "   perobs  othpers  asltweap sex  age race     xcoord    ycoord  court\n",
              "0       1        0         0   M   17    B   995504.0  189189.0      1\n",
              "1       2        0         0   M   20    P   998641.0  236979.0      1\n",
              "3       5        1         0   M   17    Q  1009146.0  209683.0      0\n",
              "5       5        0         0   M   57    Q   997374.0  234664.0      1\n",
              "7       2        0         0   F   35    B   999539.0  239499.0      0"
            ]
          },
          "metadata": {
            "tags": []
          },
          "execution_count": 7
        }
      ]
    },
    {
      "cell_type": "markdown",
      "metadata": {
        "id": "T3NWK6ZqXPRp",
        "colab_type": "text"
      },
      "source": [
        "### Part 3 - Fitting a Decision Tree Classifier **(GGD: +20)**"
      ]
    },
    {
      "cell_type": "markdown",
      "metadata": {
        "id": "LWXzx8ThW_rp",
        "colab_type": "text"
      },
      "source": [
        "**`court` will be your target variable.  Create a balanced data set.**"
      ]
    },
    {
      "cell_type": "code",
      "metadata": {
        "id": "B2HE9OgxghpF",
        "colab_type": "code",
        "outputId": "36fe4063-2565-4521-9fff-34832947ad3f",
        "colab": {
          "base_uri": "https://localhost:8080/",
          "height": 188
        }
      },
      "source": [
        "# -- pull out the target variable\n",
        "court = 1 * (sqf[\"court\"] == \"A\")\n",
        "\n",
        "# Check balance\n",
        "ntrue = (sqf[\"court\"] == True).sum()\n",
        "nfalse = (sqf[\"court\"] == False).sum()\n",
        "print(\"Number of True  (sqf) : {0:5}\".format(ntrue))\n",
        "print(\"Number of Flase (sqf) : {0:5}\".format(nfalse))\n",
        "print(\"The target variable Court is imbalanced\")\n",
        "\n",
        "# Create a random training and testing set \n",
        "true = sqf[sqf[\"court\"] == True]\n",
        "false = sqf[sqf[\"court\"] == False]\n",
        "\n",
        "false_sample = false.sample(n=len(true), random_state=314)\n",
        "\n",
        "balance = pd.concat([true, false_sample])\n",
        "balance.head()\n",
        "print(\"\")\n",
        "\n",
        "# Check whether the dataset is balanced\n",
        "ntrue = (balance[\"court\"] == True).sum()\n",
        "nfalse = (balance[\"court\"] == False).sum()\n",
        "print(\"Number of True  (balance) : {0:5}\".format(ntrue))\n",
        "print(\"Number of Flase (balance) : {0:5}\".format(nfalse))\n",
        "print(\"The target variable Court is balanced\")"
      ],
      "execution_count": 0,
      "outputs": [
        {
          "output_type": "stream",
          "text": [
            "Number of True  (sqf) : 77726\n",
            "Number of Flase (sqf) : 498123\n",
            "The target variable Court is imbalanced\n",
            "\n",
            "Number of True  (balance) : 77726\n",
            "Number of Flase (balance) : 77726\n",
            "The target variable Court is balanced\n"
          ],
          "name": "stdout"
        },
        {
          "output_type": "stream",
          "text": [
            "/usr/local/lib/python3.6/dist-packages/pandas/core/ops/array_ops.py:253: FutureWarning: elementwise comparison failed; returning scalar instead, but in the future will perform elementwise comparison\n",
            "  res_values = method(rvalues)\n"
          ],
          "name": "stderr"
        }
      ]
    },
    {
      "cell_type": "markdown",
      "metadata": {
        "id": "02Aly4ZsXG7d",
        "colab_type": "text"
      },
      "source": [
        "**Extract the features and target arrays.**"
      ]
    },
    {
      "cell_type": "code",
      "metadata": {
        "id": "3ZbpKe7oCeOH",
        "colab_type": "code",
        "colab": {}
      },
      "source": [
        "targ = balance[\"court\"].copy()\n",
        "feat = balance.drop(columns=\"court\").copy()"
      ],
      "execution_count": 0,
      "outputs": []
    },
    {
      "cell_type": "markdown",
      "metadata": {
        "id": "AUWFttT0XYNc",
        "colab_type": "text"
      },
      "source": [
        "**One hot encode the features.**"
      ]
    },
    {
      "cell_type": "code",
      "metadata": {
        "id": "u4FU_PTA_yis",
        "colab_type": "code",
        "colab": {}
      },
      "source": [
        "feat = pd.get_dummies(feat)"
      ],
      "execution_count": 0,
      "outputs": []
    },
    {
      "cell_type": "markdown",
      "metadata": {
        "id": "3dOj6JRMXbb7",
        "colab_type": "text"
      },
      "source": [
        "**Create a training/testing set with an 80/20 split.**"
      ]
    },
    {
      "cell_type": "code",
      "metadata": {
        "id": "8Id5DDBj_yQX",
        "colab_type": "code",
        "colab": {}
      },
      "source": [
        "feat_tr, feat_te, targ_tr, targ_te = train_test_split(feat, targ, test_size=0.2)"
      ],
      "execution_count": 0,
      "outputs": []
    },
    {
      "cell_type": "markdown",
      "metadata": {
        "id": "MCXmjXQJXfrU",
        "colab_type": "text"
      },
      "source": [
        "**Fit a Decision Tree Classifier to the training data using the default hyperparameters.**"
      ]
    },
    {
      "cell_type": "code",
      "metadata": {
        "id": "Je3tNwXPDXtm",
        "colab_type": "code",
        "outputId": "81fffe55-a849-4509-af55-b74babec5b43",
        "colab": {
          "base_uri": "https://localhost:8080/",
          "height": 118
        }
      },
      "source": [
        "dtc = DecisionTreeClassifier()\n",
        "\n",
        "# -- fit a decision tree classifier on the TRAINING data\n",
        "dtc.fit(feat_tr, targ_tr)"
      ],
      "execution_count": 0,
      "outputs": [
        {
          "output_type": "execute_result",
          "data": {
            "text/plain": [
              "DecisionTreeClassifier(ccp_alpha=0.0, class_weight=None, criterion='gini',\n",
              "                       max_depth=None, max_features=None, max_leaf_nodes=None,\n",
              "                       min_impurity_decrease=0.0, min_impurity_split=None,\n",
              "                       min_samples_leaf=1, min_samples_split=2,\n",
              "                       min_weight_fraction_leaf=0.0, presort='deprecated',\n",
              "                       random_state=None, splitter='best')"
            ]
          },
          "metadata": {
            "tags": []
          },
          "execution_count": 12
        }
      ]
    },
    {
      "cell_type": "code",
      "metadata": {
        "id": "7emlLEHHYE89",
        "colab_type": "code",
        "outputId": "0d69fd50-2100-4932-fc62-5b7493982bdc",
        "colab": {
          "base_uri": "https://localhost:8080/",
          "height": 734
        }
      },
      "source": [
        "# -- visualize the tree (Additional)\n",
        "dt_data = tree.export_graphviz(dtc, out_file=None, \n",
        "                      filled=True, rounded=False,  \n",
        "                      special_characters=True, max_depth=3, feature_names=feat.columns, class_names=[\"A\", \"U\"])  \n",
        "graph = graphviz.Source(dt_data)\n",
        "graph"
      ],
      "execution_count": 0,
      "outputs": [
        {
          "output_type": "execute_result",
          "data": {
            "text/plain": [
              "<graphviz.files.Source at 0x7fb16b752c88>"
            ],
            "image/svg+xml": "<?xml version=\"1.0\" encoding=\"UTF-8\" standalone=\"no\"?>\n<!DOCTYPE svg PUBLIC \"-//W3C//DTD SVG 1.1//EN\"\n \"http://www.w3.org/Graphics/SVG/1.1/DTD/svg11.dtd\">\n<!-- Generated by graphviz version 2.40.1 (20161225.0304)\n -->\n<!-- Title: Tree Pages: 1 -->\n<svg width=\"1255pt\" height=\"520pt\"\n viewBox=\"0.00 0.00 1255.00 520.00\" xmlns=\"http://www.w3.org/2000/svg\" xmlns:xlink=\"http://www.w3.org/1999/xlink\">\n<g id=\"graph0\" class=\"graph\" transform=\"scale(1 1) rotate(0) translate(4 516)\">\n<title>Tree</title>\n<polygon fill=\"#ffffff\" stroke=\"transparent\" points=\"-4,4 -4,-516 1251,-516 1251,4 -4,4\"/>\n<!-- 0 -->\n<g id=\"node1\" class=\"node\">\n<title>0</title>\n<polygon fill=\"#ffffff\" stroke=\"#000000\" points=\"693.5,-512 538.5,-512 538.5,-429 693.5,-429 693.5,-512\"/>\n<text text-anchor=\"start\" x=\"560\" y=\"-496.8\" font-family=\"Times,serif\" font-size=\"14.00\" fill=\"#000000\">ycoord ≤ 219841.0</text>\n<text text-anchor=\"start\" x=\"587\" y=\"-481.8\" font-family=\"Times,serif\" font-size=\"14.00\" fill=\"#000000\">gini = 0.5</text>\n<text text-anchor=\"start\" x=\"563\" y=\"-466.8\" font-family=\"Times,serif\" font-size=\"14.00\" fill=\"#000000\">samples = 124361</text>\n<text text-anchor=\"start\" x=\"546.5\" y=\"-451.8\" font-family=\"Times,serif\" font-size=\"14.00\" fill=\"#000000\">value = [62173, 62188]</text>\n<text text-anchor=\"start\" x=\"589.5\" y=\"-436.8\" font-family=\"Times,serif\" font-size=\"14.00\" fill=\"#000000\">class = U</text>\n</g>\n<!-- 1 -->\n<g id=\"node2\" class=\"node\">\n<title>1</title>\n<polygon fill=\"#fcf1e9\" stroke=\"#000000\" points=\"528.5,-393 373.5,-393 373.5,-310 528.5,-310 528.5,-393\"/>\n<text text-anchor=\"start\" x=\"420.5\" y=\"-377.8\" font-family=\"Times,serif\" font-size=\"14.00\" fill=\"#000000\">age ≤ 15.5</text>\n<text text-anchor=\"start\" x=\"414.5\" y=\"-362.8\" font-family=\"Times,serif\" font-size=\"14.00\" fill=\"#000000\">gini = 0.498</text>\n<text text-anchor=\"start\" x=\"401.5\" y=\"-347.8\" font-family=\"Times,serif\" font-size=\"14.00\" fill=\"#000000\">samples = 80727</text>\n<text text-anchor=\"start\" x=\"381.5\" y=\"-332.8\" font-family=\"Times,serif\" font-size=\"14.00\" fill=\"#000000\">value = [42733, 37994]</text>\n<text text-anchor=\"start\" x=\"425\" y=\"-317.8\" font-family=\"Times,serif\" font-size=\"14.00\" fill=\"#000000\">class = A</text>\n</g>\n<!-- 0&#45;&gt;1 -->\n<g id=\"edge1\" class=\"edge\">\n<title>0&#45;&gt;1</title>\n<path fill=\"none\" stroke=\"#000000\" d=\"M558.291,-428.8796C544.977,-419.2774 530.7134,-408.9903 517.0741,-399.1534\"/>\n<polygon fill=\"#000000\" stroke=\"#000000\" points=\"518.8345,-396.1077 508.6764,-393.0969 514.7398,-401.7852 518.8345,-396.1077\"/>\n<text text-anchor=\"middle\" x=\"512.6736\" y=\"-414.0753\" font-family=\"Times,serif\" font-size=\"14.00\" fill=\"#000000\">True</text>\n</g>\n<!-- 54134 -->\n<g id=\"node17\" class=\"node\">\n<title>54134</title>\n<polygon fill=\"#d8ecfa\" stroke=\"#000000\" points=\"855.5,-393 700.5,-393 700.5,-310 855.5,-310 855.5,-393\"/>\n<text text-anchor=\"start\" x=\"747.5\" y=\"-377.8\" font-family=\"Times,serif\" font-size=\"14.00\" fill=\"#000000\">age ≤ 32.5</text>\n<text text-anchor=\"start\" x=\"741.5\" y=\"-362.8\" font-family=\"Times,serif\" font-size=\"14.00\" fill=\"#000000\">gini = 0.494</text>\n<text text-anchor=\"start\" x=\"728.5\" y=\"-347.8\" font-family=\"Times,serif\" font-size=\"14.00\" fill=\"#000000\">samples = 43634</text>\n<text text-anchor=\"start\" x=\"708.5\" y=\"-332.8\" font-family=\"Times,serif\" font-size=\"14.00\" fill=\"#000000\">value = [19440, 24194]</text>\n<text text-anchor=\"start\" x=\"751.5\" y=\"-317.8\" font-family=\"Times,serif\" font-size=\"14.00\" fill=\"#000000\">class = U</text>\n</g>\n<!-- 0&#45;&gt;54134 -->\n<g id=\"edge16\" class=\"edge\">\n<title>0&#45;&gt;54134</title>\n<path fill=\"none\" stroke=\"#000000\" d=\"M672.6597,-428.8796C685.7316,-419.2774 699.7359,-408.9903 713.1273,-399.1534\"/>\n<polygon fill=\"#000000\" stroke=\"#000000\" points=\"715.385,-401.8378 721.3723,-393.0969 711.2409,-396.1963 715.385,-401.8378\"/>\n<text text-anchor=\"middle\" x=\"717.5907\" y=\"-414.1093\" font-family=\"Times,serif\" font-size=\"14.00\" fill=\"#000000\">False</text>\n</g>\n<!-- 2 -->\n<g id=\"node3\" class=\"node\">\n<title>2</title>\n<polygon fill=\"#efb388\" stroke=\"#000000\" points=\"276,-274 144,-274 144,-191 276,-191 276,-274\"/>\n<text text-anchor=\"start\" x=\"179.5\" y=\"-258.8\" font-family=\"Times,serif\" font-size=\"14.00\" fill=\"#000000\">age ≤ 14.5</text>\n<text text-anchor=\"start\" x=\"173.5\" y=\"-243.8\" font-family=\"Times,serif\" font-size=\"14.00\" fill=\"#000000\">gini = 0.408</text>\n<text text-anchor=\"start\" x=\"164.5\" y=\"-228.8\" font-family=\"Times,serif\" font-size=\"14.00\" fill=\"#000000\">samples = 2900</text>\n<text text-anchor=\"start\" x=\"152\" y=\"-213.8\" font-family=\"Times,serif\" font-size=\"14.00\" fill=\"#000000\">value = [2073, 827]</text>\n<text text-anchor=\"start\" x=\"184\" y=\"-198.8\" font-family=\"Times,serif\" font-size=\"14.00\" fill=\"#000000\">class = A</text>\n</g>\n<!-- 1&#45;&gt;2 -->\n<g id=\"edge2\" class=\"edge\">\n<title>1&#45;&gt;2</title>\n<path fill=\"none\" stroke=\"#000000\" d=\"M373.4195,-313.1926C345.1102,-299.2141 313.1654,-283.4406 285.0777,-269.5715\"/>\n<polygon fill=\"#000000\" stroke=\"#000000\" points=\"286.6194,-266.4294 276.1033,-265.1402 283.5202,-272.706 286.6194,-266.4294\"/>\n</g>\n<!-- 1495 -->\n<g id=\"node10\" class=\"node\">\n<title>1495</title>\n<polygon fill=\"#fdf4ee\" stroke=\"#000000\" points=\"528.5,-274 373.5,-274 373.5,-191 528.5,-191 528.5,-274\"/>\n<text text-anchor=\"start\" x=\"420.5\" y=\"-258.8\" font-family=\"Times,serif\" font-size=\"14.00\" fill=\"#000000\">age ≤ 35.5</text>\n<text text-anchor=\"start\" x=\"414.5\" y=\"-243.8\" font-family=\"Times,serif\" font-size=\"14.00\" fill=\"#000000\">gini = 0.499</text>\n<text text-anchor=\"start\" x=\"401.5\" y=\"-228.8\" font-family=\"Times,serif\" font-size=\"14.00\" fill=\"#000000\">samples = 77827</text>\n<text text-anchor=\"start\" x=\"381.5\" y=\"-213.8\" font-family=\"Times,serif\" font-size=\"14.00\" fill=\"#000000\">value = [40660, 37167]</text>\n<text text-anchor=\"start\" x=\"425\" y=\"-198.8\" font-family=\"Times,serif\" font-size=\"14.00\" fill=\"#000000\">class = A</text>\n</g>\n<!-- 1&#45;&gt;1495 -->\n<g id=\"edge9\" class=\"edge\">\n<title>1&#45;&gt;1495</title>\n<path fill=\"none\" stroke=\"#000000\" d=\"M451,-309.8796C451,-301.6838 451,-292.9891 451,-284.5013\"/>\n<polygon fill=\"#000000\" stroke=\"#000000\" points=\"454.5001,-284.298 451,-274.2981 447.5001,-284.2981 454.5001,-284.298\"/>\n</g>\n<!-- 3 -->\n<g id=\"node4\" class=\"node\">\n<title>3</title>\n<polygon fill=\"#f3c7a6\" stroke=\"#000000\" points=\"125.5,-155 .5,-155 .5,-72 125.5,-72 125.5,-155\"/>\n<text text-anchor=\"start\" x=\"26.5\" y=\"-139.8\" font-family=\"Times,serif\" font-size=\"14.00\" fill=\"#000000\">perobs ≤ 1.5</text>\n<text text-anchor=\"start\" x=\"26.5\" y=\"-124.8\" font-family=\"Times,serif\" font-size=\"14.00\" fill=\"#000000\">gini = 0.458</text>\n<text text-anchor=\"start\" x=\"17.5\" y=\"-109.8\" font-family=\"Times,serif\" font-size=\"14.00\" fill=\"#000000\">samples = 1180</text>\n<text text-anchor=\"start\" x=\"8.5\" y=\"-94.8\" font-family=\"Times,serif\" font-size=\"14.00\" fill=\"#000000\">value = [760, 420]</text>\n<text text-anchor=\"start\" x=\"37\" y=\"-79.8\" font-family=\"Times,serif\" font-size=\"14.00\" fill=\"#000000\">class = A</text>\n</g>\n<!-- 2&#45;&gt;3 -->\n<g id=\"edge3\" class=\"edge\">\n<title>2&#45;&gt;3</title>\n<path fill=\"none\" stroke=\"#000000\" d=\"M158.5865,-190.8796C146.9048,-181.4229 134.4025,-171.302 122.419,-161.6011\"/>\n<polygon fill=\"#000000\" stroke=\"#000000\" points=\"124.6076,-158.8697 114.6329,-155.2981 120.2032,-164.3105 124.6076,-158.8697\"/>\n</g>\n<!-- 688 -->\n<g id=\"node7\" class=\"node\">\n<title>688</title>\n<polygon fill=\"#eda876\" stroke=\"#000000\" points=\"276,-155 144,-155 144,-72 276,-72 276,-155\"/>\n<text text-anchor=\"start\" x=\"154\" y=\"-139.8\" font-family=\"Times,serif\" font-size=\"14.00\" fill=\"#000000\">xcoord ≤ 988447.0</text>\n<text text-anchor=\"start\" x=\"173.5\" y=\"-124.8\" font-family=\"Times,serif\" font-size=\"14.00\" fill=\"#000000\">gini = 0.361</text>\n<text text-anchor=\"start\" x=\"164.5\" y=\"-109.8\" font-family=\"Times,serif\" font-size=\"14.00\" fill=\"#000000\">samples = 1720</text>\n<text text-anchor=\"start\" x=\"152\" y=\"-94.8\" font-family=\"Times,serif\" font-size=\"14.00\" fill=\"#000000\">value = [1313, 407]</text>\n<text text-anchor=\"start\" x=\"184\" y=\"-79.8\" font-family=\"Times,serif\" font-size=\"14.00\" fill=\"#000000\">class = A</text>\n</g>\n<!-- 2&#45;&gt;688 -->\n<g id=\"edge6\" class=\"edge\">\n<title>2&#45;&gt;688</title>\n<path fill=\"none\" stroke=\"#000000\" d=\"M210,-190.8796C210,-182.6838 210,-173.9891 210,-165.5013\"/>\n<polygon fill=\"#000000\" stroke=\"#000000\" points=\"213.5001,-165.298 210,-155.2981 206.5001,-165.2981 213.5001,-165.298\"/>\n</g>\n<!-- 4 -->\n<g id=\"node5\" class=\"node\">\n<title>4</title>\n<polygon fill=\"#c0c0c0\" stroke=\"#000000\" points=\"54,-36 0,-36 0,0 54,0 54,-36\"/>\n<text text-anchor=\"middle\" x=\"27\" y=\"-14.3\" font-family=\"Times,serif\" font-size=\"14.00\" fill=\"#000000\">(...)</text>\n</g>\n<!-- 3&#45;&gt;4 -->\n<g id=\"edge4\" class=\"edge\">\n<title>3&#45;&gt;4</title>\n<path fill=\"none\" stroke=\"#000000\" d=\"M47.3146,-71.8901C43.9739,-63.0279 40.525,-53.8788 37.4386,-45.6913\"/>\n<polygon fill=\"#000000\" stroke=\"#000000\" points=\"40.6877,-44.3878 33.8853,-36.2651 34.1376,-46.8569 40.6877,-44.3878\"/>\n</g>\n<!-- 451 -->\n<g id=\"node6\" class=\"node\">\n<title>451</title>\n<polygon fill=\"#c0c0c0\" stroke=\"#000000\" points=\"126,-36 72,-36 72,0 126,0 126,-36\"/>\n<text text-anchor=\"middle\" x=\"99\" y=\"-14.3\" font-family=\"Times,serif\" font-size=\"14.00\" fill=\"#000000\">(...)</text>\n</g>\n<!-- 3&#45;&gt;451 -->\n<g id=\"edge5\" class=\"edge\">\n<title>3&#45;&gt;451</title>\n<path fill=\"none\" stroke=\"#000000\" d=\"M78.6854,-71.8901C82.0261,-63.0279 85.475,-53.8788 88.5614,-45.6913\"/>\n<polygon fill=\"#000000\" stroke=\"#000000\" points=\"91.8624,-46.8569 92.1147,-36.2651 85.3123,-44.3878 91.8624,-46.8569\"/>\n</g>\n<!-- 689 -->\n<g id=\"node8\" class=\"node\">\n<title>689</title>\n<polygon fill=\"#c0c0c0\" stroke=\"#000000\" points=\"218,-36 164,-36 164,0 218,0 218,-36\"/>\n<text text-anchor=\"middle\" x=\"191\" y=\"-14.3\" font-family=\"Times,serif\" font-size=\"14.00\" fill=\"#000000\">(...)</text>\n</g>\n<!-- 688&#45;&gt;689 -->\n<g id=\"edge7\" class=\"edge\">\n<title>688&#45;&gt;689</title>\n<path fill=\"none\" stroke=\"#000000\" d=\"M201.7216,-71.8901C199.9972,-63.2227 198.2182,-54.2808 196.6169,-46.2325\"/>\n<polygon fill=\"#000000\" stroke=\"#000000\" points=\"200.018,-45.3899 194.6339,-36.2651 193.1525,-46.7559 200.018,-45.3899\"/>\n</g>\n<!-- 842 -->\n<g id=\"node9\" class=\"node\">\n<title>842</title>\n<polygon fill=\"#c0c0c0\" stroke=\"#000000\" points=\"290,-36 236,-36 236,0 290,0 290,-36\"/>\n<text text-anchor=\"middle\" x=\"263\" y=\"-14.3\" font-family=\"Times,serif\" font-size=\"14.00\" fill=\"#000000\">(...)</text>\n</g>\n<!-- 688&#45;&gt;842 -->\n<g id=\"edge8\" class=\"edge\">\n<title>688&#45;&gt;842</title>\n<path fill=\"none\" stroke=\"#000000\" d=\"M233.0924,-71.8901C238.1188,-62.8331 243.3115,-53.4765 247.9309,-45.1528\"/>\n<polygon fill=\"#000000\" stroke=\"#000000\" points=\"251.0711,-46.7073 252.8633,-36.2651 244.9504,-43.3104 251.0711,-46.7073\"/>\n</g>\n<!-- 1496 -->\n<g id=\"node11\" class=\"node\">\n<title>1496</title>\n<polygon fill=\"#fbede3\" stroke=\"#000000\" points=\"449.5,-155 294.5,-155 294.5,-72 449.5,-72 449.5,-155\"/>\n<text text-anchor=\"start\" x=\"335.5\" y=\"-139.8\" font-family=\"Times,serif\" font-size=\"14.00\" fill=\"#000000\">perobs ≤ 1.5</text>\n<text text-anchor=\"start\" x=\"335.5\" y=\"-124.8\" font-family=\"Times,serif\" font-size=\"14.00\" fill=\"#000000\">gini = 0.497</text>\n<text text-anchor=\"start\" x=\"322.5\" y=\"-109.8\" font-family=\"Times,serif\" font-size=\"14.00\" fill=\"#000000\">samples = 57177</text>\n<text text-anchor=\"start\" x=\"302.5\" y=\"-94.8\" font-family=\"Times,serif\" font-size=\"14.00\" fill=\"#000000\">value = [30762, 26415]</text>\n<text text-anchor=\"start\" x=\"346\" y=\"-79.8\" font-family=\"Times,serif\" font-size=\"14.00\" fill=\"#000000\">class = A</text>\n</g>\n<!-- 1495&#45;&gt;1496 -->\n<g id=\"edge10\" class=\"edge\">\n<title>1495&#45;&gt;1496</title>\n<path fill=\"none\" stroke=\"#000000\" d=\"M423.3696,-190.8796C417.57,-182.1434 411.3941,-172.8404 405.4092,-163.8253\"/>\n<polygon fill=\"#000000\" stroke=\"#000000\" points=\"408.1951,-161.6935 399.7483,-155.2981 402.3632,-165.5652 408.1951,-161.6935\"/>\n</g>\n<!-- 40463 -->\n<g id=\"node14\" class=\"node\">\n<title>40463</title>\n<polygon fill=\"#eff7fd\" stroke=\"#000000\" points=\"614.5,-155 467.5,-155 467.5,-72 614.5,-72 614.5,-155\"/>\n<text text-anchor=\"start\" x=\"485\" y=\"-139.8\" font-family=\"Times,serif\" font-size=\"14.00\" fill=\"#000000\">ycoord ≤ 205834.0</text>\n<text text-anchor=\"start\" x=\"504.5\" y=\"-124.8\" font-family=\"Times,serif\" font-size=\"14.00\" fill=\"#000000\">gini = 0.499</text>\n<text text-anchor=\"start\" x=\"491.5\" y=\"-109.8\" font-family=\"Times,serif\" font-size=\"14.00\" fill=\"#000000\">samples = 20650</text>\n<text text-anchor=\"start\" x=\"475.5\" y=\"-94.8\" font-family=\"Times,serif\" font-size=\"14.00\" fill=\"#000000\">value = [9898, 10752]</text>\n<text text-anchor=\"start\" x=\"514.5\" y=\"-79.8\" font-family=\"Times,serif\" font-size=\"14.00\" fill=\"#000000\">class = U</text>\n</g>\n<!-- 1495&#45;&gt;40463 -->\n<g id=\"edge13\" class=\"edge\">\n<title>1495&#45;&gt;40463</title>\n<path fill=\"none\" stroke=\"#000000\" d=\"M482.4776,-190.8796C489.1529,-182.0534 496.2658,-172.6485 503.1496,-163.5466\"/>\n<polygon fill=\"#000000\" stroke=\"#000000\" points=\"506.1474,-165.3852 509.388,-155.2981 500.5643,-161.1626 506.1474,-165.3852\"/>\n</g>\n<!-- 1497 -->\n<g id=\"node12\" class=\"node\">\n<title>1497</title>\n<polygon fill=\"#c0c0c0\" stroke=\"#000000\" points=\"372,-36 318,-36 318,0 372,0 372,-36\"/>\n<text text-anchor=\"middle\" x=\"345\" y=\"-14.3\" font-family=\"Times,serif\" font-size=\"14.00\" fill=\"#000000\">(...)</text>\n</g>\n<!-- 1496&#45;&gt;1497 -->\n<g id=\"edge11\" class=\"edge\">\n<title>1496&#45;&gt;1497</title>\n<path fill=\"none\" stroke=\"#000000\" d=\"M360.236,-71.8901C357.7579,-63.1253 355.2006,-54.0798 352.9054,-45.9615\"/>\n<polygon fill=\"#000000\" stroke=\"#000000\" points=\"356.2526,-44.9357 350.164,-36.2651 349.5166,-46.8401 356.2526,-44.9357\"/>\n</g>\n<!-- 24350 -->\n<g id=\"node13\" class=\"node\">\n<title>24350</title>\n<polygon fill=\"#c0c0c0\" stroke=\"#000000\" points=\"444,-36 390,-36 390,0 444,0 444,-36\"/>\n<text text-anchor=\"middle\" x=\"417\" y=\"-14.3\" font-family=\"Times,serif\" font-size=\"14.00\" fill=\"#000000\">(...)</text>\n</g>\n<!-- 1496&#45;&gt;24350 -->\n<g id=\"edge12\" class=\"edge\">\n<title>1496&#45;&gt;24350</title>\n<path fill=\"none\" stroke=\"#000000\" d=\"M391.6067,-71.8901C395.8285,-62.9305 400.1885,-53.6777 404.0788,-45.4217\"/>\n<polygon fill=\"#000000\" stroke=\"#000000\" points=\"407.2969,-46.8031 408.3934,-36.2651 400.9647,-43.8192 407.2969,-46.8031\"/>\n</g>\n<!-- 40464 -->\n<g id=\"node15\" class=\"node\">\n<title>40464</title>\n<polygon fill=\"#c0c0c0\" stroke=\"#000000\" points=\"527,-36 473,-36 473,0 527,0 527,-36\"/>\n<text text-anchor=\"middle\" x=\"500\" y=\"-14.3\" font-family=\"Times,serif\" font-size=\"14.00\" fill=\"#000000\">(...)</text>\n</g>\n<!-- 40463&#45;&gt;40464 -->\n<g id=\"edge14\" class=\"edge\">\n<title>40463&#45;&gt;40464</title>\n<path fill=\"none\" stroke=\"#000000\" d=\"M523.1361,-71.8901C519.3314,-63.0279 515.4035,-53.8788 511.8884,-45.6913\"/>\n<polygon fill=\"#000000\" stroke=\"#000000\" points=\"515.0028,-44.0733 507.8416,-36.2651 508.5705,-46.8348 515.0028,-44.0733\"/>\n</g>\n<!-- 51211 -->\n<g id=\"node16\" class=\"node\">\n<title>51211</title>\n<polygon fill=\"#c0c0c0\" stroke=\"#000000\" points=\"599,-36 545,-36 545,0 599,0 599,-36\"/>\n<text text-anchor=\"middle\" x=\"572\" y=\"-14.3\" font-family=\"Times,serif\" font-size=\"14.00\" fill=\"#000000\">(...)</text>\n</g>\n<!-- 40463&#45;&gt;51211 -->\n<g id=\"edge15\" class=\"edge\">\n<title>40463&#45;&gt;51211</title>\n<path fill=\"none\" stroke=\"#000000\" d=\"M554.5069,-71.8901C557.352,-63.1253 560.2882,-54.0798 562.9235,-45.9615\"/>\n<polygon fill=\"#000000\" stroke=\"#000000\" points=\"566.3125,-46.8572 566.071,-36.2651 559.6545,-44.6959 566.3125,-46.8572\"/>\n</g>\n<!-- 54135 -->\n<g id=\"node18\" class=\"node\">\n<title>54135</title>\n<polygon fill=\"#f2f8fd\" stroke=\"#000000\" points=\"855.5,-274 700.5,-274 700.5,-191 855.5,-191 855.5,-274\"/>\n<text text-anchor=\"start\" x=\"718\" y=\"-258.8\" font-family=\"Times,serif\" font-size=\"14.00\" fill=\"#000000\">xcoord ≤ 1005307.5</text>\n<text text-anchor=\"start\" x=\"741.5\" y=\"-243.8\" font-family=\"Times,serif\" font-size=\"14.00\" fill=\"#000000\">gini = 0.499</text>\n<text text-anchor=\"start\" x=\"728.5\" y=\"-228.8\" font-family=\"Times,serif\" font-size=\"14.00\" fill=\"#000000\">samples = 29983</text>\n<text text-anchor=\"start\" x=\"708.5\" y=\"-213.8\" font-family=\"Times,serif\" font-size=\"14.00\" fill=\"#000000\">value = [14464, 15519]</text>\n<text text-anchor=\"start\" x=\"751.5\" y=\"-198.8\" font-family=\"Times,serif\" font-size=\"14.00\" fill=\"#000000\">class = U</text>\n</g>\n<!-- 54134&#45;&gt;54135 -->\n<g id=\"edge17\" class=\"edge\">\n<title>54134&#45;&gt;54135</title>\n<path fill=\"none\" stroke=\"#000000\" d=\"M778,-309.8796C778,-301.6838 778,-292.9891 778,-284.5013\"/>\n<polygon fill=\"#000000\" stroke=\"#000000\" points=\"781.5001,-284.298 778,-274.2981 774.5001,-284.2981 781.5001,-284.298\"/>\n</g>\n<!-- 74620 -->\n<g id=\"node25\" class=\"node\">\n<title>74620</title>\n<polygon fill=\"#abd5f4\" stroke=\"#000000\" points=\"1089,-274 949,-274 949,-191 1089,-191 1089,-274\"/>\n<text text-anchor=\"start\" x=\"959\" y=\"-258.8\" font-family=\"Times,serif\" font-size=\"14.00\" fill=\"#000000\">xcoord ≤ 1003532.0</text>\n<text text-anchor=\"start\" x=\"982.5\" y=\"-243.8\" font-family=\"Times,serif\" font-size=\"14.00\" fill=\"#000000\">gini = 0.463</text>\n<text text-anchor=\"start\" x=\"969.5\" y=\"-228.8\" font-family=\"Times,serif\" font-size=\"14.00\" fill=\"#000000\">samples = 13651</text>\n<text text-anchor=\"start\" x=\"957\" y=\"-213.8\" font-family=\"Times,serif\" font-size=\"14.00\" fill=\"#000000\">value = [4976, 8675]</text>\n<text text-anchor=\"start\" x=\"992.5\" y=\"-198.8\" font-family=\"Times,serif\" font-size=\"14.00\" fill=\"#000000\">class = U</text>\n</g>\n<!-- 54134&#45;&gt;74620 -->\n<g id=\"edge24\" class=\"edge\">\n<title>54134&#45;&gt;74620</title>\n<path fill=\"none\" stroke=\"#000000\" d=\"M855.5805,-313.1926C882.531,-299.8851 912.7764,-284.9507 939.852,-271.5814\"/>\n<polygon fill=\"#000000\" stroke=\"#000000\" points=\"941.4864,-274.6778 948.9033,-267.1121 938.3872,-268.4013 941.4864,-274.6778\"/>\n</g>\n<!-- 54136 -->\n<g id=\"node19\" class=\"node\">\n<title>54136</title>\n<polygon fill=\"#cfe7f9\" stroke=\"#000000\" points=\"773,-155 633,-155 633,-72 773,-72 773,-155\"/>\n<text text-anchor=\"start\" x=\"672.5\" y=\"-139.8\" font-family=\"Times,serif\" font-size=\"14.00\" fill=\"#000000\">age ≤ 15.5</text>\n<text text-anchor=\"start\" x=\"666.5\" y=\"-124.8\" font-family=\"Times,serif\" font-size=\"14.00\" fill=\"#000000\">gini = 0.491</text>\n<text text-anchor=\"start\" x=\"653.5\" y=\"-109.8\" font-family=\"Times,serif\" font-size=\"14.00\" fill=\"#000000\">samples = 12971</text>\n<text text-anchor=\"start\" x=\"641\" y=\"-94.8\" font-family=\"Times,serif\" font-size=\"14.00\" fill=\"#000000\">value = [5601, 7370]</text>\n<text text-anchor=\"start\" x=\"676.5\" y=\"-79.8\" font-family=\"Times,serif\" font-size=\"14.00\" fill=\"#000000\">class = U</text>\n</g>\n<!-- 54135&#45;&gt;54136 -->\n<g id=\"edge18\" class=\"edge\">\n<title>54135&#45;&gt;54136</title>\n<path fill=\"none\" stroke=\"#000000\" d=\"M751.7686,-190.8796C746.2627,-182.1434 740.3994,-172.8404 734.7176,-163.8253\"/>\n<polygon fill=\"#000000\" stroke=\"#000000\" points=\"737.6363,-161.8919 729.3433,-155.2981 731.7143,-165.6242 737.6363,-161.8919\"/>\n</g>\n<!-- 63231 -->\n<g id=\"node22\" class=\"node\">\n<title>63231</title>\n<polygon fill=\"#fdf5ef\" stroke=\"#000000\" points=\"931,-155 791,-155 791,-72 931,-72 931,-155\"/>\n<text text-anchor=\"start\" x=\"826.5\" y=\"-139.8\" font-family=\"Times,serif\" font-size=\"14.00\" fill=\"#000000\">sex_F ≤ 0.5</text>\n<text text-anchor=\"start\" x=\"824.5\" y=\"-124.8\" font-family=\"Times,serif\" font-size=\"14.00\" fill=\"#000000\">gini = 0.499</text>\n<text text-anchor=\"start\" x=\"811.5\" y=\"-109.8\" font-family=\"Times,serif\" font-size=\"14.00\" fill=\"#000000\">samples = 17012</text>\n<text text-anchor=\"start\" x=\"799\" y=\"-94.8\" font-family=\"Times,serif\" font-size=\"14.00\" fill=\"#000000\">value = [8863, 8149]</text>\n<text text-anchor=\"start\" x=\"835\" y=\"-79.8\" font-family=\"Times,serif\" font-size=\"14.00\" fill=\"#000000\">class = A</text>\n</g>\n<!-- 54135&#45;&gt;63231 -->\n<g id=\"edge21\" class=\"edge\">\n<title>54135&#45;&gt;63231</title>\n<path fill=\"none\" stroke=\"#000000\" d=\"M807.0294,-190.8796C813.1855,-182.0534 819.7451,-172.6485 826.0936,-163.5466\"/>\n<polygon fill=\"#000000\" stroke=\"#000000\" points=\"828.9967,-165.5024 831.8467,-155.2981 823.2552,-161.4978 828.9967,-165.5024\"/>\n</g>\n<!-- 54137 -->\n<g id=\"node20\" class=\"node\">\n<title>54137</title>\n<polygon fill=\"#c0c0c0\" stroke=\"#000000\" points=\"676,-36 622,-36 622,0 676,0 676,-36\"/>\n<text text-anchor=\"middle\" x=\"649\" y=\"-14.3\" font-family=\"Times,serif\" font-size=\"14.00\" fill=\"#000000\">(...)</text>\n</g>\n<!-- 54136&#45;&gt;54137 -->\n<g id=\"edge19\" class=\"edge\">\n<title>54136&#45;&gt;54137</title>\n<path fill=\"none\" stroke=\"#000000\" d=\"M679.4719,-71.8901C674.3507,-62.8331 669.06,-53.4765 664.3534,-45.1528\"/>\n<polygon fill=\"#000000\" stroke=\"#000000\" points=\"667.2967,-43.2472 659.3279,-36.2651 661.2034,-46.6926 667.2967,-43.2472\"/>\n</g>\n<!-- 54534 -->\n<g id=\"node21\" class=\"node\">\n<title>54534</title>\n<polygon fill=\"#c0c0c0\" stroke=\"#000000\" points=\"748,-36 694,-36 694,0 748,0 748,-36\"/>\n<text text-anchor=\"middle\" x=\"721\" y=\"-14.3\" font-family=\"Times,serif\" font-size=\"14.00\" fill=\"#000000\">(...)</text>\n</g>\n<!-- 54136&#45;&gt;54534 -->\n<g id=\"edge20\" class=\"edge\">\n<title>54136&#45;&gt;54534</title>\n<path fill=\"none\" stroke=\"#000000\" d=\"M710.8427,-71.8901C712.4764,-63.2227 714.1617,-54.2808 715.6787,-46.2325\"/>\n<polygon fill=\"#000000\" stroke=\"#000000\" points=\"719.1445,-46.7404 717.5574,-36.2651 712.2656,-45.4438 719.1445,-46.7404\"/>\n</g>\n<!-- 63232 -->\n<g id=\"node23\" class=\"node\">\n<title>63232</title>\n<polygon fill=\"#c0c0c0\" stroke=\"#000000\" points=\"823,-36 769,-36 769,0 823,0 823,-36\"/>\n<text text-anchor=\"middle\" x=\"796\" y=\"-14.3\" font-family=\"Times,serif\" font-size=\"14.00\" fill=\"#000000\">(...)</text>\n</g>\n<!-- 63231&#45;&gt;63232 -->\n<g id=\"edge22\" class=\"edge\">\n<title>63231&#45;&gt;63232</title>\n<path fill=\"none\" stroke=\"#000000\" d=\"M832.6791,-71.8901C826.3821,-62.6384 819.8723,-53.0739 814.1165,-44.6173\"/>\n<polygon fill=\"#000000\" stroke=\"#000000\" points=\"816.9518,-42.5626 808.4317,-36.2651 811.165,-46.5013 816.9518,-42.5626\"/>\n</g>\n<!-- 73803 -->\n<g id=\"node24\" class=\"node\">\n<title>73803</title>\n<polygon fill=\"#c0c0c0\" stroke=\"#000000\" points=\"895,-36 841,-36 841,0 895,0 895,-36\"/>\n<text text-anchor=\"middle\" x=\"868\" y=\"-14.3\" font-family=\"Times,serif\" font-size=\"14.00\" fill=\"#000000\">(...)</text>\n</g>\n<!-- 63231&#45;&gt;73803 -->\n<g id=\"edge23\" class=\"edge\">\n<title>63231&#45;&gt;73803</title>\n<path fill=\"none\" stroke=\"#000000\" d=\"M864.0499,-71.8901C864.6781,-63.3201 865.3259,-54.4817 865.9107,-46.5041\"/>\n<polygon fill=\"#000000\" stroke=\"#000000\" points=\"869.4207,-46.4942 866.6612,-36.2651 862.4394,-45.9825 869.4207,-46.4942\"/>\n</g>\n<!-- 74621 -->\n<g id=\"node26\" class=\"node\">\n<title>74621</title>\n<polygon fill=\"#96cbf1\" stroke=\"#000000\" points=\"1089,-155 949,-155 949,-72 1089,-72 1089,-155\"/>\n<text text-anchor=\"start\" x=\"963\" y=\"-139.8\" font-family=\"Times,serif\" font-size=\"14.00\" fill=\"#000000\">xcoord ≤ 999551.5</text>\n<text text-anchor=\"start\" x=\"982.5\" y=\"-124.8\" font-family=\"Times,serif\" font-size=\"14.00\" fill=\"#000000\">gini = 0.434</text>\n<text text-anchor=\"start\" x=\"973.5\" y=\"-109.8\" font-family=\"Times,serif\" font-size=\"14.00\" fill=\"#000000\">samples = 6890</text>\n<text text-anchor=\"start\" x=\"957\" y=\"-94.8\" font-family=\"Times,serif\" font-size=\"14.00\" fill=\"#000000\">value = [2196, 4694]</text>\n<text text-anchor=\"start\" x=\"992.5\" y=\"-79.8\" font-family=\"Times,serif\" font-size=\"14.00\" fill=\"#000000\">class = U</text>\n</g>\n<!-- 74620&#45;&gt;74621 -->\n<g id=\"edge25\" class=\"edge\">\n<title>74620&#45;&gt;74621</title>\n<path fill=\"none\" stroke=\"#000000\" d=\"M1019,-190.8796C1019,-182.6838 1019,-173.9891 1019,-165.5013\"/>\n<polygon fill=\"#000000\" stroke=\"#000000\" points=\"1022.5001,-165.298 1019,-155.2981 1015.5001,-165.2981 1022.5001,-165.298\"/>\n</g>\n<!-- 78968 -->\n<g id=\"node29\" class=\"node\">\n<title>78968</title>\n<polygon fill=\"#c3e1f7\" stroke=\"#000000\" points=\"1247,-155 1107,-155 1107,-72 1247,-72 1247,-155\"/>\n<text text-anchor=\"start\" x=\"1121\" y=\"-139.8\" font-family=\"Times,serif\" font-size=\"14.00\" fill=\"#000000\">ycoord ≤ 226568.0</text>\n<text text-anchor=\"start\" x=\"1140.5\" y=\"-124.8\" font-family=\"Times,serif\" font-size=\"14.00\" fill=\"#000000\">gini = 0.484</text>\n<text text-anchor=\"start\" x=\"1131.5\" y=\"-109.8\" font-family=\"Times,serif\" font-size=\"14.00\" fill=\"#000000\">samples = 6761</text>\n<text text-anchor=\"start\" x=\"1115\" y=\"-94.8\" font-family=\"Times,serif\" font-size=\"14.00\" fill=\"#000000\">value = [2780, 3981]</text>\n<text text-anchor=\"start\" x=\"1150.5\" y=\"-79.8\" font-family=\"Times,serif\" font-size=\"14.00\" fill=\"#000000\">class = U</text>\n</g>\n<!-- 74620&#45;&gt;78968 -->\n<g id=\"edge28\" class=\"edge\">\n<title>74620&#45;&gt;78968</title>\n<path fill=\"none\" stroke=\"#000000\" d=\"M1074.2607,-190.8796C1087.0099,-181.2774 1100.6683,-170.9903 1113.7291,-161.1534\"/>\n<polygon fill=\"#000000\" stroke=\"#000000\" points=\"1115.8883,-163.9089 1121.7705,-155.0969 1111.6769,-158.3174 1115.8883,-163.9089\"/>\n</g>\n<!-- 74622 -->\n<g id=\"node27\" class=\"node\">\n<title>74622</title>\n<polygon fill=\"#c0c0c0\" stroke=\"#000000\" points=\"999,-36 945,-36 945,0 999,0 999,-36\"/>\n<text text-anchor=\"middle\" x=\"972\" y=\"-14.3\" font-family=\"Times,serif\" font-size=\"14.00\" fill=\"#000000\">(...)</text>\n</g>\n<!-- 74621&#45;&gt;74622 -->\n<g id=\"edge26\" class=\"edge\">\n<title>74621&#45;&gt;74622</title>\n<path fill=\"none\" stroke=\"#000000\" d=\"M998.5218,-71.8901C994.1124,-62.9305 989.5586,-53.6777 985.4955,-45.4217\"/>\n<polygon fill=\"#000000\" stroke=\"#000000\" points=\"988.5451,-43.6919 980.9891,-36.2651 982.2645,-46.7829 988.5451,-43.6919\"/>\n</g>\n<!-- 76917 -->\n<g id=\"node28\" class=\"node\">\n<title>76917</title>\n<polygon fill=\"#c0c0c0\" stroke=\"#000000\" points=\"1071,-36 1017,-36 1017,0 1071,0 1071,-36\"/>\n<text text-anchor=\"middle\" x=\"1044\" y=\"-14.3\" font-family=\"Times,serif\" font-size=\"14.00\" fill=\"#000000\">(...)</text>\n</g>\n<!-- 74621&#45;&gt;76917 -->\n<g id=\"edge27\" class=\"edge\">\n<title>74621&#45;&gt;76917</title>\n<path fill=\"none\" stroke=\"#000000\" d=\"M1029.8926,-71.8901C1032.1871,-63.1253 1034.555,-54.0798 1036.6802,-45.9615\"/>\n<polygon fill=\"#000000\" stroke=\"#000000\" points=\"1040.0719,-46.8255 1039.2186,-36.2651 1033.3001,-45.0527 1040.0719,-46.8255\"/>\n</g>\n<!-- 78969 -->\n<g id=\"node30\" class=\"node\">\n<title>78969</title>\n<polygon fill=\"#c0c0c0\" stroke=\"#000000\" points=\"1168,-36 1114,-36 1114,0 1168,0 1168,-36\"/>\n<text text-anchor=\"middle\" x=\"1141\" y=\"-14.3\" font-family=\"Times,serif\" font-size=\"14.00\" fill=\"#000000\">(...)</text>\n</g>\n<!-- 78968&#45;&gt;78969 -->\n<g id=\"edge29\" class=\"edge\">\n<title>78968&#45;&gt;78969</title>\n<path fill=\"none\" stroke=\"#000000\" d=\"M1161.3146,-71.8901C1157.9739,-63.0279 1154.525,-53.8788 1151.4386,-45.6913\"/>\n<polygon fill=\"#000000\" stroke=\"#000000\" points=\"1154.6877,-44.3878 1147.8853,-36.2651 1148.1376,-46.8569 1154.6877,-44.3878\"/>\n</g>\n<!-- 79070 -->\n<g id=\"node31\" class=\"node\">\n<title>79070</title>\n<polygon fill=\"#c0c0c0\" stroke=\"#000000\" points=\"1240,-36 1186,-36 1186,0 1240,0 1240,-36\"/>\n<text text-anchor=\"middle\" x=\"1213\" y=\"-14.3\" font-family=\"Times,serif\" font-size=\"14.00\" fill=\"#000000\">(...)</text>\n</g>\n<!-- 78968&#45;&gt;79070 -->\n<g id=\"edge30\" class=\"edge\">\n<title>78968&#45;&gt;79070</title>\n<path fill=\"none\" stroke=\"#000000\" d=\"M1192.6854,-71.8901C1196.0261,-63.0279 1199.475,-53.8788 1202.5614,-45.6913\"/>\n<polygon fill=\"#000000\" stroke=\"#000000\" points=\"1205.8624,-46.8569 1206.1147,-36.2651 1199.3123,-44.3878 1205.8624,-46.8569\"/>\n</g>\n</g>\n</svg>\n"
          },
          "metadata": {
            "tags": []
          },
          "execution_count": 66
        }
      ]
    },
    {
      "cell_type": "markdown",
      "metadata": {
        "id": "8SmqV8BpXrb1",
        "colab_type": "text"
      },
      "source": [
        "**Print the training and testing accuracy.**"
      ]
    },
    {
      "cell_type": "code",
      "metadata": {
        "id": "uOXewNFULcO6",
        "colab_type": "code",
        "outputId": "b330caaa-e5b9-4303-8636-035dcf4e285b",
        "colab": {
          "base_uri": "https://localhost:8080/",
          "height": 50
        }
      },
      "source": [
        "# -- assess the accuracy on the TRAINING data\n",
        "pred_tr = dtc.predict(feat_tr)\n",
        "acc_tr = accuracy_score(targ_tr, pred_tr)\n",
        "print(\"Training accuracy = {0:.3f}\".format(acc_tr))\n",
        "\n",
        "# -- assess the accuracy on the TESTING data\n",
        "pred_te = dtc.predict(feat_te)\n",
        "acc_te = accuracy_score(targ_te, pred_te)\n",
        "print(\"Testing accuracy = {0:.3f}\".format(acc_te))"
      ],
      "execution_count": 0,
      "outputs": [
        {
          "output_type": "stream",
          "text": [
            "Training accuracy = 0.990\n",
            "Testing accuracy = 0.575\n"
          ],
          "name": "stdout"
        }
      ]
    },
    {
      "cell_type": "markdown",
      "metadata": {
        "id": "r8mweVdlLcF-",
        "colab_type": "text"
      },
      "source": [
        "### Part 4 - Tuning Hyperparameters and Applying a Random Forest model **(GGD: +11)**"
      ]
    },
    {
      "cell_type": "markdown",
      "metadata": {
        "id": "IsqubnbCLb8-",
        "colab_type": "text"
      },
      "source": [
        "**Use grid search with cross validation to tune hyperparameters in the Decision Tree Classifier so that you minimize overfitting while maximizing testing accuracy.**"
      ]
    },
    {
      "cell_type": "code",
      "metadata": {
        "id": "gxhMh83AnnCE",
        "colab_type": "code",
        "outputId": "1d4b94ed-dd6f-4399-84b7-345297a46b1b",
        "colab": {
          "base_uri": "https://localhost:8080/",
          "height": 34
        }
      },
      "source": [
        "# -- import helper tools from sklearn\n",
        "from sklearn.model_selection import GridSearchCV\n",
        "\n",
        "# -- select the parameter(s) to tune and the values to try\n",
        "tuned_parameters = [{\"min_samples_leaf\" : [1, 2, 5, 10, 20, 50, 100, 200, 1000]}]\n",
        "\n",
        "# -- perform Grid Search\n",
        "dtc_tune = DecisionTreeClassifier()\n",
        "cv_tune = GridSearchCV(dtc_tune, tuned_parameters)\n",
        "cv_tune.fit(feat_tr, targ_tr)\n",
        "\n",
        "# -- print out the params with the highest \"score\"\n",
        "print(cv_tune.best_params_)"
      ],
      "execution_count": 0,
      "outputs": [
        {
          "output_type": "stream",
          "text": [
            "{'min_samples_leaf': 50}\n"
          ],
          "name": "stdout"
        }
      ]
    },
    {
      "cell_type": "markdown",
      "metadata": {
        "id": "BTQ0Vkl7ZF6k",
        "colab_type": "text"
      },
      "source": [
        "**What are the training and testing accuracy using the best fit hyperparameters from grid search?**"
      ]
    },
    {
      "cell_type": "code",
      "metadata": {
        "id": "vCOprUSQZO_L",
        "colab_type": "code",
        "outputId": "e6f11b97-e2d6-4453-cf12-3037a0126f7e",
        "colab": {
          "base_uri": "https://localhost:8080/",
          "height": 50
        }
      },
      "source": [
        "# -- define classifier\n",
        "dtc_mod = DecisionTreeClassifier(min_samples_leaf=50)\n",
        "\n",
        "# -- fit a decision tree classifier on the TRAINING data\n",
        "dtc_mod.fit(feat_tr, targ_tr)\n",
        "\n",
        "# -- assess the accuracy on the TRAINING data\n",
        "pred_tr = dtc_mod.predict(feat_tr)\n",
        "acc_tr = accuracy_score(targ_tr, pred_tr)\n",
        "print(\"Training accuracy = {0:.3f}\".format(acc_tr))\n",
        "\n",
        "# -- assess the accuracy on the TESTING data\n",
        "pred_te = dtc_mod.predict(feat_te)\n",
        "acc_te = accuracy_score(targ_te, pred_te)\n",
        "print(\"Testing accuracy = {0:.3f}\".format(acc_te))"
      ],
      "execution_count": 0,
      "outputs": [
        {
          "output_type": "stream",
          "text": [
            "Training accuracy = 0.646\n",
            "Testing accuracy = 0.579\n"
          ],
          "name": "stdout"
        }
      ]
    },
    {
      "cell_type": "code",
      "metadata": {
        "id": "G0-N89Zrwv4t",
        "colab_type": "code",
        "outputId": "a485e8f9-8e14-4633-cd43-b44a8b95a5b0",
        "colab": {
          "base_uri": "https://localhost:8080/",
          "height": 1000
        }
      },
      "source": [
        "# -- visualize the tree (Additional)\n",
        "dt_data = tree.export_graphviz(dtc_mod, out_file=None, \n",
        "                      filled=True, rounded=False,  \n",
        "                      special_characters=True, max_depth=5, feature_names=feat.columns, class_names=[\"A\", \"U\"])  \n",
        "graph = graphviz.Source(dt_data)\n",
        "graph"
      ],
      "execution_count": 0,
      "outputs": [
        {
          "output_type": "execute_result",
          "data": {
            "text/plain": [
              "<graphviz.files.Source at 0x7fb16b752d30>"
            ],
            "image/svg+xml": "<?xml version=\"1.0\" encoding=\"UTF-8\" standalone=\"no\"?>\n<!DOCTYPE svg PUBLIC \"-//W3C//DTD SVG 1.1//EN\"\n \"http://www.w3.org/Graphics/SVG/1.1/DTD/svg11.dtd\">\n<!-- Generated by graphviz version 2.40.1 (20161225.0304)\n -->\n<!-- Title: Tree Pages: 1 -->\n<svg width=\"4697pt\" height=\"758pt\"\n viewBox=\"0.00 0.00 4697.00 758.00\" xmlns=\"http://www.w3.org/2000/svg\" xmlns:xlink=\"http://www.w3.org/1999/xlink\">\n<g id=\"graph0\" class=\"graph\" transform=\"scale(1 1) rotate(0) translate(4 754)\">\n<title>Tree</title>\n<polygon fill=\"#ffffff\" stroke=\"transparent\" points=\"-4,4 -4,-754 4693,-754 4693,4 -4,4\"/>\n<!-- 0 -->\n<g id=\"node1\" class=\"node\">\n<title>0</title>\n<polygon fill=\"#ffffff\" stroke=\"#000000\" points=\"2345.5,-750 2190.5,-750 2190.5,-667 2345.5,-667 2345.5,-750\"/>\n<text text-anchor=\"start\" x=\"2212\" y=\"-734.8\" font-family=\"Times,serif\" font-size=\"14.00\" fill=\"#000000\">ycoord ≤ 219841.0</text>\n<text text-anchor=\"start\" x=\"2239\" y=\"-719.8\" font-family=\"Times,serif\" font-size=\"14.00\" fill=\"#000000\">gini = 0.5</text>\n<text text-anchor=\"start\" x=\"2215\" y=\"-704.8\" font-family=\"Times,serif\" font-size=\"14.00\" fill=\"#000000\">samples = 124361</text>\n<text text-anchor=\"start\" x=\"2198.5\" y=\"-689.8\" font-family=\"Times,serif\" font-size=\"14.00\" fill=\"#000000\">value = [62173, 62188]</text>\n<text text-anchor=\"start\" x=\"2241.5\" y=\"-674.8\" font-family=\"Times,serif\" font-size=\"14.00\" fill=\"#000000\">class = U</text>\n</g>\n<!-- 1 -->\n<g id=\"node2\" class=\"node\">\n<title>1</title>\n<polygon fill=\"#fcf1e9\" stroke=\"#000000\" points=\"1818.5,-631 1663.5,-631 1663.5,-548 1818.5,-548 1818.5,-631\"/>\n<text text-anchor=\"start\" x=\"1710.5\" y=\"-615.8\" font-family=\"Times,serif\" font-size=\"14.00\" fill=\"#000000\">age ≤ 15.5</text>\n<text text-anchor=\"start\" x=\"1704.5\" y=\"-600.8\" font-family=\"Times,serif\" font-size=\"14.00\" fill=\"#000000\">gini = 0.498</text>\n<text text-anchor=\"start\" x=\"1691.5\" y=\"-585.8\" font-family=\"Times,serif\" font-size=\"14.00\" fill=\"#000000\">samples = 80727</text>\n<text text-anchor=\"start\" x=\"1671.5\" y=\"-570.8\" font-family=\"Times,serif\" font-size=\"14.00\" fill=\"#000000\">value = [42733, 37994]</text>\n<text text-anchor=\"start\" x=\"1715\" y=\"-555.8\" font-family=\"Times,serif\" font-size=\"14.00\" fill=\"#000000\">class = A</text>\n</g>\n<!-- 0&#45;&gt;1 -->\n<g id=\"edge1\" class=\"edge\">\n<title>0&#45;&gt;1</title>\n<path fill=\"none\" stroke=\"#000000\" d=\"M2190.2393,-690.9411C2093.6737,-669.136 1929.3937,-632.0405 1828.5122,-609.2608\"/>\n<polygon fill=\"#000000\" stroke=\"#000000\" points=\"1829.1754,-605.8225 1818.65,-607.0339 1827.6335,-612.6506 1829.1754,-605.8225\"/>\n<text text-anchor=\"middle\" x=\"1831.9998\" y=\"-624.4711\" font-family=\"Times,serif\" font-size=\"14.00\" fill=\"#000000\">True</text>\n</g>\n<!-- 2436 -->\n<g id=\"node61\" class=\"node\">\n<title>2436</title>\n<polygon fill=\"#d8ecfa\" stroke=\"#000000\" points=\"3083.5,-631 2928.5,-631 2928.5,-548 3083.5,-548 3083.5,-631\"/>\n<text text-anchor=\"start\" x=\"2975.5\" y=\"-615.8\" font-family=\"Times,serif\" font-size=\"14.00\" fill=\"#000000\">age ≤ 32.5</text>\n<text text-anchor=\"start\" x=\"2969.5\" y=\"-600.8\" font-family=\"Times,serif\" font-size=\"14.00\" fill=\"#000000\">gini = 0.494</text>\n<text text-anchor=\"start\" x=\"2956.5\" y=\"-585.8\" font-family=\"Times,serif\" font-size=\"14.00\" fill=\"#000000\">samples = 43634</text>\n<text text-anchor=\"start\" x=\"2936.5\" y=\"-570.8\" font-family=\"Times,serif\" font-size=\"14.00\" fill=\"#000000\">value = [19440, 24194]</text>\n<text text-anchor=\"start\" x=\"2979.5\" y=\"-555.8\" font-family=\"Times,serif\" font-size=\"14.00\" fill=\"#000000\">class = U</text>\n</g>\n<!-- 0&#45;&gt;2436 -->\n<g id=\"edge60\" class=\"edge\">\n<title>0&#45;&gt;2436</title>\n<path fill=\"none\" stroke=\"#000000\" d=\"M2345.5841,-695.9898C2484.001,-673.6706 2772.6187,-627.1319 2918.1231,-603.6699\"/>\n<polygon fill=\"#000000\" stroke=\"#000000\" points=\"2919.0328,-607.0685 2928.3481,-602.0211 2917.9184,-600.1577 2919.0328,-607.0685\"/>\n<text text-anchor=\"middle\" x=\"2913.7099\" y=\"-618.5875\" font-family=\"Times,serif\" font-size=\"14.00\" fill=\"#000000\">False</text>\n</g>\n<!-- 2 -->\n<g id=\"node3\" class=\"node\">\n<title>2</title>\n<polygon fill=\"#efb388\" stroke=\"#000000\" points=\"885,-512 753,-512 753,-429 885,-429 885,-512\"/>\n<text text-anchor=\"start\" x=\"788.5\" y=\"-496.8\" font-family=\"Times,serif\" font-size=\"14.00\" fill=\"#000000\">age ≤ 14.5</text>\n<text text-anchor=\"start\" x=\"782.5\" y=\"-481.8\" font-family=\"Times,serif\" font-size=\"14.00\" fill=\"#000000\">gini = 0.408</text>\n<text text-anchor=\"start\" x=\"773.5\" y=\"-466.8\" font-family=\"Times,serif\" font-size=\"14.00\" fill=\"#000000\">samples = 2900</text>\n<text text-anchor=\"start\" x=\"761\" y=\"-451.8\" font-family=\"Times,serif\" font-size=\"14.00\" fill=\"#000000\">value = [2073, 827]</text>\n<text text-anchor=\"start\" x=\"793\" y=\"-436.8\" font-family=\"Times,serif\" font-size=\"14.00\" fill=\"#000000\">class = A</text>\n</g>\n<!-- 1&#45;&gt;2 -->\n<g id=\"edge2\" class=\"edge\">\n<title>1&#45;&gt;2</title>\n<path fill=\"none\" stroke=\"#000000\" d=\"M1663.1854,-579.4567C1488.7692,-556.9453 1068.308,-502.6775 895.3134,-480.3496\"/>\n<polygon fill=\"#000000\" stroke=\"#000000\" points=\"895.6394,-476.8627 885.2736,-479.0538 894.7433,-483.8051 895.6394,-476.8627\"/>\n</g>\n<!-- 89 -->\n<g id=\"node30\" class=\"node\">\n<title>89</title>\n<polygon fill=\"#fdf4ee\" stroke=\"#000000\" points=\"1818.5,-512 1663.5,-512 1663.5,-429 1818.5,-429 1818.5,-512\"/>\n<text text-anchor=\"start\" x=\"1710.5\" y=\"-496.8\" font-family=\"Times,serif\" font-size=\"14.00\" fill=\"#000000\">age ≤ 35.5</text>\n<text text-anchor=\"start\" x=\"1704.5\" y=\"-481.8\" font-family=\"Times,serif\" font-size=\"14.00\" fill=\"#000000\">gini = 0.499</text>\n<text text-anchor=\"start\" x=\"1691.5\" y=\"-466.8\" font-family=\"Times,serif\" font-size=\"14.00\" fill=\"#000000\">samples = 77827</text>\n<text text-anchor=\"start\" x=\"1671.5\" y=\"-451.8\" font-family=\"Times,serif\" font-size=\"14.00\" fill=\"#000000\">value = [40660, 37167]</text>\n<text text-anchor=\"start\" x=\"1715\" y=\"-436.8\" font-family=\"Times,serif\" font-size=\"14.00\" fill=\"#000000\">class = A</text>\n</g>\n<!-- 1&#45;&gt;89 -->\n<g id=\"edge29\" class=\"edge\">\n<title>1&#45;&gt;89</title>\n<path fill=\"none\" stroke=\"#000000\" d=\"M1741,-547.8796C1741,-539.6838 1741,-530.9891 1741,-522.5013\"/>\n<polygon fill=\"#000000\" stroke=\"#000000\" points=\"1744.5001,-522.298 1741,-512.2981 1737.5001,-522.2981 1744.5001,-522.298\"/>\n</g>\n<!-- 3 -->\n<g id=\"node4\" class=\"node\">\n<title>3</title>\n<polygon fill=\"#f3c7a6\" stroke=\"#000000\" points=\"485.5,-393 360.5,-393 360.5,-310 485.5,-310 485.5,-393\"/>\n<text text-anchor=\"start\" x=\"386.5\" y=\"-377.8\" font-family=\"Times,serif\" font-size=\"14.00\" fill=\"#000000\">perobs ≤ 1.5</text>\n<text text-anchor=\"start\" x=\"386.5\" y=\"-362.8\" font-family=\"Times,serif\" font-size=\"14.00\" fill=\"#000000\">gini = 0.458</text>\n<text text-anchor=\"start\" x=\"377.5\" y=\"-347.8\" font-family=\"Times,serif\" font-size=\"14.00\" fill=\"#000000\">samples = 1180</text>\n<text text-anchor=\"start\" x=\"368.5\" y=\"-332.8\" font-family=\"Times,serif\" font-size=\"14.00\" fill=\"#000000\">value = [760, 420]</text>\n<text text-anchor=\"start\" x=\"397\" y=\"-317.8\" font-family=\"Times,serif\" font-size=\"14.00\" fill=\"#000000\">class = A</text>\n</g>\n<!-- 2&#45;&gt;3 -->\n<g id=\"edge3\" class=\"edge\">\n<title>2&#45;&gt;3</title>\n<path fill=\"none\" stroke=\"#000000\" d=\"M752.7185,-450.5821C681.4958,-429.1793 568.6587,-395.2712 495.2194,-373.2023\"/>\n<polygon fill=\"#000000\" stroke=\"#000000\" points=\"496.1575,-369.8296 485.5732,-370.3036 494.1429,-376.5335 496.1575,-369.8296\"/>\n</g>\n<!-- 38 -->\n<g id=\"node17\" class=\"node\">\n<title>38</title>\n<polygon fill=\"#eda876\" stroke=\"#000000\" points=\"885,-393 753,-393 753,-310 885,-310 885,-393\"/>\n<text text-anchor=\"start\" x=\"763\" y=\"-377.8\" font-family=\"Times,serif\" font-size=\"14.00\" fill=\"#000000\">xcoord ≤ 988447.0</text>\n<text text-anchor=\"start\" x=\"782.5\" y=\"-362.8\" font-family=\"Times,serif\" font-size=\"14.00\" fill=\"#000000\">gini = 0.361</text>\n<text text-anchor=\"start\" x=\"773.5\" y=\"-347.8\" font-family=\"Times,serif\" font-size=\"14.00\" fill=\"#000000\">samples = 1720</text>\n<text text-anchor=\"start\" x=\"761\" y=\"-332.8\" font-family=\"Times,serif\" font-size=\"14.00\" fill=\"#000000\">value = [1313, 407]</text>\n<text text-anchor=\"start\" x=\"793\" y=\"-317.8\" font-family=\"Times,serif\" font-size=\"14.00\" fill=\"#000000\">class = A</text>\n</g>\n<!-- 2&#45;&gt;38 -->\n<g id=\"edge16\" class=\"edge\">\n<title>2&#45;&gt;38</title>\n<path fill=\"none\" stroke=\"#000000\" d=\"M819,-428.8796C819,-420.6838 819,-411.9891 819,-403.5013\"/>\n<polygon fill=\"#000000\" stroke=\"#000000\" points=\"822.5001,-403.298 819,-393.2981 815.5001,-403.2981 822.5001,-403.298\"/>\n</g>\n<!-- 4 -->\n<g id=\"node5\" class=\"node\">\n<title>4</title>\n<polygon fill=\"#f7d6bf\" stroke=\"#000000\" points=\"286,-274 152,-274 152,-191 286,-191 286,-274\"/>\n<text text-anchor=\"start\" x=\"160\" y=\"-258.8\" font-family=\"Times,serif\" font-size=\"14.00\" fill=\"#000000\">xcoord ≤ 1026111.0</text>\n<text text-anchor=\"start\" x=\"182.5\" y=\"-243.8\" font-family=\"Times,serif\" font-size=\"14.00\" fill=\"#000000\">gini = 0.482</text>\n<text text-anchor=\"start\" x=\"177\" y=\"-228.8\" font-family=\"Times,serif\" font-size=\"14.00\" fill=\"#000000\">samples = 708</text>\n<text text-anchor=\"start\" x=\"164.5\" y=\"-213.8\" font-family=\"Times,serif\" font-size=\"14.00\" fill=\"#000000\">value = [422, 286]</text>\n<text text-anchor=\"start\" x=\"193\" y=\"-198.8\" font-family=\"Times,serif\" font-size=\"14.00\" fill=\"#000000\">class = A</text>\n</g>\n<!-- 3&#45;&gt;4 -->\n<g id=\"edge4\" class=\"edge\">\n<title>3&#45;&gt;4</title>\n<path fill=\"none\" stroke=\"#000000\" d=\"M360.4069,-314.9874C339.716,-302.9177 316.4687,-289.3567 294.8923,-276.7705\"/>\n<polygon fill=\"#000000\" stroke=\"#000000\" points=\"296.4817,-273.6457 286.0803,-271.6302 292.9546,-279.6922 296.4817,-273.6457\"/>\n</g>\n<!-- 25 -->\n<g id=\"node12\" class=\"node\">\n<title>25</title>\n<polygon fill=\"#efb387\" stroke=\"#000000\" points=\"485.5,-274 360.5,-274 360.5,-191 485.5,-191 485.5,-274\"/>\n<text text-anchor=\"start\" x=\"392.5\" y=\"-258.8\" font-family=\"Times,serif\" font-size=\"14.00\" fill=\"#000000\">age ≤ 12.5</text>\n<text text-anchor=\"start\" x=\"386.5\" y=\"-243.8\" font-family=\"Times,serif\" font-size=\"14.00\" fill=\"#000000\">gini = 0.407</text>\n<text text-anchor=\"start\" x=\"381\" y=\"-228.8\" font-family=\"Times,serif\" font-size=\"14.00\" fill=\"#000000\">samples = 472</text>\n<text text-anchor=\"start\" x=\"368.5\" y=\"-213.8\" font-family=\"Times,serif\" font-size=\"14.00\" fill=\"#000000\">value = [338, 134]</text>\n<text text-anchor=\"start\" x=\"397\" y=\"-198.8\" font-family=\"Times,serif\" font-size=\"14.00\" fill=\"#000000\">class = A</text>\n</g>\n<!-- 3&#45;&gt;25 -->\n<g id=\"edge11\" class=\"edge\">\n<title>3&#45;&gt;25</title>\n<path fill=\"none\" stroke=\"#000000\" d=\"M423,-309.8796C423,-301.6838 423,-292.9891 423,-284.5013\"/>\n<polygon fill=\"#000000\" stroke=\"#000000\" points=\"426.5001,-284.298 423,-274.2981 419.5001,-284.2981 426.5001,-284.298\"/>\n</g>\n<!-- 5 -->\n<g id=\"node6\" class=\"node\">\n<title>5</title>\n<polygon fill=\"#f4c9ab\" stroke=\"#000000\" points=\"146,-155 18,-155 18,-72 146,-72 146,-155\"/>\n<text text-anchor=\"start\" x=\"26\" y=\"-139.8\" font-family=\"Times,serif\" font-size=\"14.00\" fill=\"#000000\">xcoord ≤ 992893.5</text>\n<text text-anchor=\"start\" x=\"45.5\" y=\"-124.8\" font-family=\"Times,serif\" font-size=\"14.00\" fill=\"#000000\">gini = 0.464</text>\n<text text-anchor=\"start\" x=\"40\" y=\"-109.8\" font-family=\"Times,serif\" font-size=\"14.00\" fill=\"#000000\">samples = 556</text>\n<text text-anchor=\"start\" x=\"27.5\" y=\"-94.8\" font-family=\"Times,serif\" font-size=\"14.00\" fill=\"#000000\">value = [353, 203]</text>\n<text text-anchor=\"start\" x=\"56\" y=\"-79.8\" font-family=\"Times,serif\" font-size=\"14.00\" fill=\"#000000\">class = A</text>\n</g>\n<!-- 4&#45;&gt;5 -->\n<g id=\"edge5\" class=\"edge\">\n<title>4&#45;&gt;5</title>\n<path fill=\"none\" stroke=\"#000000\" d=\"M171.084,-190.8796C160.3007,-181.513 148.7671,-171.4948 137.6961,-161.8784\"/>\n<polygon fill=\"#000000\" stroke=\"#000000\" points=\"139.9653,-159.2134 130.1205,-155.2981 135.3749,-164.4982 139.9653,-159.2134\"/>\n</g>\n<!-- 22 -->\n<g id=\"node9\" class=\"node\">\n<title>22</title>\n<polygon fill=\"#deeefb\" stroke=\"#000000\" points=\"274,-155 164,-155 164,-72 274,-72 274,-155\"/>\n<text text-anchor=\"start\" x=\"182\" y=\"-139.8\" font-family=\"Times,serif\" font-size=\"14.00\" fill=\"#000000\">race_B ≤ 0.5</text>\n<text text-anchor=\"start\" x=\"182.5\" y=\"-124.8\" font-family=\"Times,serif\" font-size=\"14.00\" fill=\"#000000\">gini = 0.496</text>\n<text text-anchor=\"start\" x=\"177\" y=\"-109.8\" font-family=\"Times,serif\" font-size=\"14.00\" fill=\"#000000\">samples = 152</text>\n<text text-anchor=\"start\" x=\"172\" y=\"-94.8\" font-family=\"Times,serif\" font-size=\"14.00\" fill=\"#000000\">value = [69, 83]</text>\n<text text-anchor=\"start\" x=\"192.5\" y=\"-79.8\" font-family=\"Times,serif\" font-size=\"14.00\" fill=\"#000000\">class = U</text>\n</g>\n<!-- 4&#45;&gt;22 -->\n<g id=\"edge8\" class=\"edge\">\n<title>4&#45;&gt;22</title>\n<path fill=\"none\" stroke=\"#000000\" d=\"M219,-190.8796C219,-182.6838 219,-173.9891 219,-165.5013\"/>\n<polygon fill=\"#000000\" stroke=\"#000000\" points=\"222.5001,-165.298 219,-155.2981 215.5001,-165.2981 222.5001,-165.298\"/>\n</g>\n<!-- 6 -->\n<g id=\"node7\" class=\"node\">\n<title>6</title>\n<polygon fill=\"#c0c0c0\" stroke=\"#000000\" points=\"54,-36 0,-36 0,0 54,0 54,-36\"/>\n<text text-anchor=\"middle\" x=\"27\" y=\"-14.3\" font-family=\"Times,serif\" font-size=\"14.00\" fill=\"#000000\">(...)</text>\n</g>\n<!-- 5&#45;&gt;6 -->\n<g id=\"edge6\" class=\"edge\">\n<title>5&#45;&gt;6</title>\n<path fill=\"none\" stroke=\"#000000\" d=\"M58.0362,-71.8901C52.8201,-62.8331 47.4315,-53.4765 42.6378,-45.1528\"/>\n<polygon fill=\"#000000\" stroke=\"#000000\" points=\"45.5429,-43.184 37.5192,-36.2651 39.4769,-46.6775 45.5429,-43.184\"/>\n</g>\n<!-- 11 -->\n<g id=\"node8\" class=\"node\">\n<title>11</title>\n<polygon fill=\"#c0c0c0\" stroke=\"#000000\" points=\"126,-36 72,-36 72,0 126,0 126,-36\"/>\n<text text-anchor=\"middle\" x=\"99\" y=\"-14.3\" font-family=\"Times,serif\" font-size=\"14.00\" fill=\"#000000\">(...)</text>\n</g>\n<!-- 5&#45;&gt;11 -->\n<g id=\"edge7\" class=\"edge\">\n<title>5&#45;&gt;11</title>\n<path fill=\"none\" stroke=\"#000000\" d=\"M89.407,-71.8901C90.9499,-63.2227 92.5416,-54.2808 93.9743,-46.2325\"/>\n<polygon fill=\"#000000\" stroke=\"#000000\" points=\"97.4418,-46.7238 95.7486,-36.2651 90.5502,-45.4969 97.4418,-46.7238\"/>\n</g>\n<!-- 23 -->\n<g id=\"node10\" class=\"node\">\n<title>23</title>\n<polygon fill=\"#c0c0c0\" stroke=\"#000000\" points=\"230,-36 176,-36 176,0 230,0 230,-36\"/>\n<text text-anchor=\"middle\" x=\"203\" y=\"-14.3\" font-family=\"Times,serif\" font-size=\"14.00\" fill=\"#000000\">(...)</text>\n</g>\n<!-- 22&#45;&gt;23 -->\n<g id=\"edge9\" class=\"edge\">\n<title>22&#45;&gt;23</title>\n<path fill=\"none\" stroke=\"#000000\" d=\"M212.0287,-71.8901C210.5766,-63.2227 209.0785,-54.2808 207.73,-46.2325\"/>\n<polygon fill=\"#000000\" stroke=\"#000000\" points=\"211.1645,-45.5493 206.0601,-36.2651 204.2607,-46.706 211.1645,-45.5493\"/>\n</g>\n<!-- 24 -->\n<g id=\"node11\" class=\"node\">\n<title>24</title>\n<polygon fill=\"#c0c0c0\" stroke=\"#000000\" points=\"302,-36 248,-36 248,0 302,0 302,-36\"/>\n<text text-anchor=\"middle\" x=\"275\" y=\"-14.3\" font-family=\"Times,serif\" font-size=\"14.00\" fill=\"#000000\">(...)</text>\n</g>\n<!-- 22&#45;&gt;24 -->\n<g id=\"edge10\" class=\"edge\">\n<title>22&#45;&gt;24</title>\n<path fill=\"none\" stroke=\"#000000\" d=\"M243.3995,-71.8901C248.7104,-62.8331 254.197,-53.4765 259.0779,-45.1528\"/>\n<polygon fill=\"#000000\" stroke=\"#000000\" points=\"262.2504,-46.6619 264.2896,-36.2651 256.212,-43.121 262.2504,-46.6619\"/>\n</g>\n<!-- 26 -->\n<g id=\"node13\" class=\"node\">\n<title>26</title>\n<polygon fill=\"#fae7d9\" stroke=\"#000000\" points=\"402,-147.5 292,-147.5 292,-79.5 402,-79.5 402,-147.5\"/>\n<text text-anchor=\"start\" x=\"310.5\" y=\"-132.3\" font-family=\"Times,serif\" font-size=\"14.00\" fill=\"#000000\">gini = 0.494</text>\n<text text-anchor=\"start\" x=\"309\" y=\"-117.3\" font-family=\"Times,serif\" font-size=\"14.00\" fill=\"#000000\">samples = 85</text>\n<text text-anchor=\"start\" x=\"300\" y=\"-102.3\" font-family=\"Times,serif\" font-size=\"14.00\" fill=\"#000000\">value = [47, 38]</text>\n<text text-anchor=\"start\" x=\"321\" y=\"-87.3\" font-family=\"Times,serif\" font-size=\"14.00\" fill=\"#000000\">class = A</text>\n</g>\n<!-- 25&#45;&gt;26 -->\n<g id=\"edge12\" class=\"edge\">\n<title>25&#45;&gt;26</title>\n<path fill=\"none\" stroke=\"#000000\" d=\"M396.4189,-190.8796C389.326,-179.7735 381.6479,-167.7513 374.5063,-156.5691\"/>\n<polygon fill=\"#000000\" stroke=\"#000000\" points=\"377.2477,-154.3589 368.9154,-147.8149 371.3482,-158.1267 377.2477,-154.3589\"/>\n</g>\n<!-- 27 -->\n<g id=\"node14\" class=\"node\">\n<title>27</title>\n<polygon fill=\"#eeab7a\" stroke=\"#000000\" points=\"537.5,-155 420.5,-155 420.5,-72 537.5,-72 537.5,-155\"/>\n<text text-anchor=\"start\" x=\"441.5\" y=\"-139.8\" font-family=\"Times,serif\" font-size=\"14.00\" fill=\"#000000\">race_Q ≤ 0.5</text>\n<text text-anchor=\"start\" x=\"442.5\" y=\"-124.8\" font-family=\"Times,serif\" font-size=\"14.00\" fill=\"#000000\">gini = 0.373</text>\n<text text-anchor=\"start\" x=\"437\" y=\"-109.8\" font-family=\"Times,serif\" font-size=\"14.00\" fill=\"#000000\">samples = 387</text>\n<text text-anchor=\"start\" x=\"428.5\" y=\"-94.8\" font-family=\"Times,serif\" font-size=\"14.00\" fill=\"#000000\">value = [291, 96]</text>\n<text text-anchor=\"start\" x=\"453\" y=\"-79.8\" font-family=\"Times,serif\" font-size=\"14.00\" fill=\"#000000\">class = A</text>\n</g>\n<!-- 25&#45;&gt;27 -->\n<g id=\"edge13\" class=\"edge\">\n<title>25&#45;&gt;27</title>\n<path fill=\"none\" stroke=\"#000000\" d=\"M442.5861,-190.8796C446.6124,-182.3236 450.8947,-173.2238 455.0549,-164.3833\"/>\n<polygon fill=\"#000000\" stroke=\"#000000\" points=\"458.2392,-165.8366 459.3303,-155.2981 451.9054,-162.856 458.2392,-165.8366\"/>\n</g>\n<!-- 28 -->\n<g id=\"node15\" class=\"node\">\n<title>28</title>\n<polygon fill=\"#c0c0c0\" stroke=\"#000000\" points=\"451,-36 397,-36 397,0 451,0 451,-36\"/>\n<text text-anchor=\"middle\" x=\"424\" y=\"-14.3\" font-family=\"Times,serif\" font-size=\"14.00\" fill=\"#000000\">(...)</text>\n</g>\n<!-- 27&#45;&gt;28 -->\n<g id=\"edge14\" class=\"edge\">\n<title>27&#45;&gt;28</title>\n<path fill=\"none\" stroke=\"#000000\" d=\"M455.0362,-71.8901C449.8201,-62.8331 444.4315,-53.4765 439.6378,-45.1528\"/>\n<polygon fill=\"#000000\" stroke=\"#000000\" points=\"442.5429,-43.184 434.5192,-36.2651 436.4769,-46.6775 442.5429,-43.184\"/>\n</g>\n<!-- 37 -->\n<g id=\"node16\" class=\"node\">\n<title>37</title>\n<polygon fill=\"#c0c0c0\" stroke=\"#000000\" points=\"523,-36 469,-36 469,0 523,0 523,-36\"/>\n<text text-anchor=\"middle\" x=\"496\" y=\"-14.3\" font-family=\"Times,serif\" font-size=\"14.00\" fill=\"#000000\">(...)</text>\n</g>\n<!-- 27&#45;&gt;37 -->\n<g id=\"edge15\" class=\"edge\">\n<title>27&#45;&gt;37</title>\n<path fill=\"none\" stroke=\"#000000\" d=\"M486.407,-71.8901C487.9499,-63.2227 489.5416,-54.2808 490.9743,-46.2325\"/>\n<polygon fill=\"#000000\" stroke=\"#000000\" points=\"494.4418,-46.7238 492.7486,-36.2651 487.5502,-45.4969 494.4418,-46.7238\"/>\n</g>\n<!-- 39 -->\n<g id=\"node18\" class=\"node\">\n<title>39</title>\n<polygon fill=\"#f6d2b9\" stroke=\"#000000\" points=\"807,-274 683,-274 683,-191 807,-191 807,-274\"/>\n<text text-anchor=\"start\" x=\"706\" y=\"-258.8\" font-family=\"Times,serif\" font-size=\"14.00\" fill=\"#000000\">race_W ≤ 0.5</text>\n<text text-anchor=\"start\" x=\"708.5\" y=\"-243.8\" font-family=\"Times,serif\" font-size=\"14.00\" fill=\"#000000\">gini = 0.477</text>\n<text text-anchor=\"start\" x=\"703\" y=\"-228.8\" font-family=\"Times,serif\" font-size=\"14.00\" fill=\"#000000\">samples = 296</text>\n<text text-anchor=\"start\" x=\"691\" y=\"-213.8\" font-family=\"Times,serif\" font-size=\"14.00\" fill=\"#000000\">value = [180, 116]</text>\n<text text-anchor=\"start\" x=\"719\" y=\"-198.8\" font-family=\"Times,serif\" font-size=\"14.00\" fill=\"#000000\">class = A</text>\n</g>\n<!-- 38&#45;&gt;39 -->\n<g id=\"edge17\" class=\"edge\">\n<title>38&#45;&gt;39</title>\n<path fill=\"none\" stroke=\"#000000\" d=\"M793.1184,-309.8796C787.6858,-301.1434 781.9008,-291.8404 776.2947,-282.8253\"/>\n<polygon fill=\"#000000\" stroke=\"#000000\" points=\"779.2451,-280.9418 770.9921,-274.2981 773.3007,-284.6383 779.2451,-280.9418\"/>\n</g>\n<!-- 48 -->\n<g id=\"node23\" class=\"node\">\n<title>48</title>\n<polygon fill=\"#eca16c\" stroke=\"#000000\" points=\"961,-274 825,-274 825,-191 961,-191 961,-274\"/>\n<text text-anchor=\"start\" x=\"833\" y=\"-258.8\" font-family=\"Times,serif\" font-size=\"14.00\" fill=\"#000000\">xcoord ≤ 1025614.0</text>\n<text text-anchor=\"start\" x=\"856.5\" y=\"-243.8\" font-family=\"Times,serif\" font-size=\"14.00\" fill=\"#000000\">gini = 0.325</text>\n<text text-anchor=\"start\" x=\"847.5\" y=\"-228.8\" font-family=\"Times,serif\" font-size=\"14.00\" fill=\"#000000\">samples = 1424</text>\n<text text-anchor=\"start\" x=\"835.5\" y=\"-213.8\" font-family=\"Times,serif\" font-size=\"14.00\" fill=\"#000000\">value = [1133, 291]</text>\n<text text-anchor=\"start\" x=\"867\" y=\"-198.8\" font-family=\"Times,serif\" font-size=\"14.00\" fill=\"#000000\">class = A</text>\n</g>\n<!-- 38&#45;&gt;48 -->\n<g id=\"edge22\" class=\"edge\">\n<title>38&#45;&gt;48</title>\n<path fill=\"none\" stroke=\"#000000\" d=\"M844.8816,-309.8796C850.3142,-301.1434 856.0992,-291.8404 861.7053,-282.8253\"/>\n<polygon fill=\"#000000\" stroke=\"#000000\" points=\"864.6993,-284.6383 867.0079,-274.2981 858.7549,-280.9418 864.6993,-284.6383\"/>\n</g>\n<!-- 40 -->\n<g id=\"node19\" class=\"node\">\n<title>40</title>\n<polygon fill=\"#fbeadf\" stroke=\"#000000\" points=\"684,-155 556,-155 556,-72 684,-72 684,-155\"/>\n<text text-anchor=\"start\" x=\"564\" y=\"-139.8\" font-family=\"Times,serif\" font-size=\"14.00\" fill=\"#000000\">xcoord ≤ 961962.0</text>\n<text text-anchor=\"start\" x=\"583.5\" y=\"-124.8\" font-family=\"Times,serif\" font-size=\"14.00\" fill=\"#000000\">gini = 0.496</text>\n<text text-anchor=\"start\" x=\"578\" y=\"-109.8\" font-family=\"Times,serif\" font-size=\"14.00\" fill=\"#000000\">samples = 235</text>\n<text text-anchor=\"start\" x=\"565.5\" y=\"-94.8\" font-family=\"Times,serif\" font-size=\"14.00\" fill=\"#000000\">value = [128, 107]</text>\n<text text-anchor=\"start\" x=\"594\" y=\"-79.8\" font-family=\"Times,serif\" font-size=\"14.00\" fill=\"#000000\">class = A</text>\n</g>\n<!-- 39&#45;&gt;40 -->\n<g id=\"edge18\" class=\"edge\">\n<title>39&#45;&gt;40</title>\n<path fill=\"none\" stroke=\"#000000\" d=\"M701.2811,-190.8796C691.6314,-181.6931 681.3234,-171.8798 671.4009,-162.4336\"/>\n<polygon fill=\"#000000\" stroke=\"#000000\" points=\"673.5616,-159.6582 663.9055,-155.2981 668.735,-164.7282 673.5616,-159.6582\"/>\n</g>\n<!-- 47 -->\n<g id=\"node22\" class=\"node\">\n<title>47</title>\n<polygon fill=\"#ea975b\" stroke=\"#000000\" points=\"804,-147.5 702,-147.5 702,-79.5 804,-79.5 804,-147.5\"/>\n<text text-anchor=\"start\" x=\"716.5\" y=\"-132.3\" font-family=\"Times,serif\" font-size=\"14.00\" fill=\"#000000\">gini = 0.252</text>\n<text text-anchor=\"start\" x=\"715\" y=\"-117.3\" font-family=\"Times,serif\" font-size=\"14.00\" fill=\"#000000\">samples = 61</text>\n<text text-anchor=\"start\" x=\"710\" y=\"-102.3\" font-family=\"Times,serif\" font-size=\"14.00\" fill=\"#000000\">value = [52, 9]</text>\n<text text-anchor=\"start\" x=\"727\" y=\"-87.3\" font-family=\"Times,serif\" font-size=\"14.00\" fill=\"#000000\">class = A</text>\n</g>\n<!-- 39&#45;&gt;47 -->\n<g id=\"edge21\" class=\"edge\">\n<title>39&#45;&gt;47</title>\n<path fill=\"none\" stroke=\"#000000\" d=\"M747.798,-190.8796C748.5151,-180.2134 749.2889,-168.7021 750.015,-157.9015\"/>\n<polygon fill=\"#000000\" stroke=\"#000000\" points=\"753.5144,-158.0272 750.6931,-147.8149 746.5301,-157.5576 753.5144,-158.0272\"/>\n</g>\n<!-- 41 -->\n<g id=\"node20\" class=\"node\">\n<title>41</title>\n<polygon fill=\"#c0c0c0\" stroke=\"#000000\" points=\"613,-36 559,-36 559,0 613,0 613,-36\"/>\n<text text-anchor=\"middle\" x=\"586\" y=\"-14.3\" font-family=\"Times,serif\" font-size=\"14.00\" fill=\"#000000\">(...)</text>\n</g>\n<!-- 40&#45;&gt;41 -->\n<g id=\"edge19\" class=\"edge\">\n<title>40&#45;&gt;41</title>\n<path fill=\"none\" stroke=\"#000000\" d=\"M605.186,-71.8901C602.0309,-63.0279 598.7736,-53.8788 595.8587,-45.6913\"/>\n<polygon fill=\"#000000\" stroke=\"#000000\" points=\"599.1541,-44.512 592.5028,-36.2651 592.5595,-46.8598 599.1541,-44.512\"/>\n</g>\n<!-- 42 -->\n<g id=\"node21\" class=\"node\">\n<title>42</title>\n<polygon fill=\"#c0c0c0\" stroke=\"#000000\" points=\"685,-36 631,-36 631,0 685,0 685,-36\"/>\n<text text-anchor=\"middle\" x=\"658\" y=\"-14.3\" font-family=\"Times,serif\" font-size=\"14.00\" fill=\"#000000\">(...)</text>\n</g>\n<!-- 40&#45;&gt;42 -->\n<g id=\"edge20\" class=\"edge\">\n<title>40&#45;&gt;42</title>\n<path fill=\"none\" stroke=\"#000000\" d=\"M636.5568,-71.8901C640.0831,-63.0279 643.7236,-53.8788 646.9815,-45.6913\"/>\n<polygon fill=\"#000000\" stroke=\"#000000\" points=\"650.287,-46.8506 650.7322,-36.2651 643.783,-44.2626 650.287,-46.8506\"/>\n</g>\n<!-- 49 -->\n<g id=\"node24\" class=\"node\">\n<title>49</title>\n<polygon fill=\"#eb9c64\" stroke=\"#000000\" points=\"947.5,-155 822.5,-155 822.5,-72 947.5,-72 947.5,-155\"/>\n<text text-anchor=\"start\" x=\"847\" y=\"-139.8\" font-family=\"Times,serif\" font-size=\"14.00\" fill=\"#000000\">othpers ≤ 0.5</text>\n<text text-anchor=\"start\" x=\"848.5\" y=\"-124.8\" font-family=\"Times,serif\" font-size=\"14.00\" fill=\"#000000\">gini = 0.291</text>\n<text text-anchor=\"start\" x=\"839.5\" y=\"-109.8\" font-family=\"Times,serif\" font-size=\"14.00\" fill=\"#000000\">samples = 1092</text>\n<text text-anchor=\"start\" x=\"830.5\" y=\"-94.8\" font-family=\"Times,serif\" font-size=\"14.00\" fill=\"#000000\">value = [899, 193]</text>\n<text text-anchor=\"start\" x=\"859\" y=\"-79.8\" font-family=\"Times,serif\" font-size=\"14.00\" fill=\"#000000\">class = A</text>\n</g>\n<!-- 48&#45;&gt;49 -->\n<g id=\"edge23\" class=\"edge\">\n<title>48&#45;&gt;49</title>\n<path fill=\"none\" stroke=\"#000000\" d=\"M890.202,-190.8796C889.651,-182.6838 889.0665,-173.9891 888.4959,-165.5013\"/>\n<polygon fill=\"#000000\" stroke=\"#000000\" points=\"891.9729,-165.0408 887.81,-155.2981 884.9887,-165.5103 891.9729,-165.0408\"/>\n</g>\n<!-- 80 -->\n<g id=\"node27\" class=\"node\">\n<title>80</title>\n<polygon fill=\"#f0b68c\" stroke=\"#000000\" points=\"1094,-155 966,-155 966,-72 1094,-72 1094,-155\"/>\n<text text-anchor=\"start\" x=\"974\" y=\"-139.8\" font-family=\"Times,serif\" font-size=\"14.00\" fill=\"#000000\">ycoord ≤ 198411.0</text>\n<text text-anchor=\"start\" x=\"993.5\" y=\"-124.8\" font-family=\"Times,serif\" font-size=\"14.00\" fill=\"#000000\">gini = 0.416</text>\n<text text-anchor=\"start\" x=\"988\" y=\"-109.8\" font-family=\"Times,serif\" font-size=\"14.00\" fill=\"#000000\">samples = 332</text>\n<text text-anchor=\"start\" x=\"979.5\" y=\"-94.8\" font-family=\"Times,serif\" font-size=\"14.00\" fill=\"#000000\">value = [234, 98]</text>\n<text text-anchor=\"start\" x=\"1004\" y=\"-79.8\" font-family=\"Times,serif\" font-size=\"14.00\" fill=\"#000000\">class = A</text>\n</g>\n<!-- 48&#45;&gt;80 -->\n<g id=\"edge26\" class=\"edge\">\n<title>48&#45;&gt;80</title>\n<path fill=\"none\" stroke=\"#000000\" d=\"M940.916,-190.8796C951.6993,-181.513 963.2329,-171.4948 974.3039,-161.8784\"/>\n<polygon fill=\"#000000\" stroke=\"#000000\" points=\"976.6251,-164.4982 981.8795,-155.2981 972.0347,-159.2134 976.6251,-164.4982\"/>\n</g>\n<!-- 50 -->\n<g id=\"node25\" class=\"node\">\n<title>50</title>\n<polygon fill=\"#c0c0c0\" stroke=\"#000000\" points=\"840,-36 786,-36 786,0 840,0 840,-36\"/>\n<text text-anchor=\"middle\" x=\"813\" y=\"-14.3\" font-family=\"Times,serif\" font-size=\"14.00\" fill=\"#000000\">(...)</text>\n</g>\n<!-- 49&#45;&gt;50 -->\n<g id=\"edge24\" class=\"edge\">\n<title>49&#45;&gt;50</title>\n<path fill=\"none\" stroke=\"#000000\" d=\"M853.6292,-71.8901C846.5806,-62.541 839.2913,-52.8725 832.8664,-44.3506\"/>\n<polygon fill=\"#000000\" stroke=\"#000000\" points=\"835.5854,-42.143 826.7705,-36.2651 829.9959,-46.3571 835.5854,-42.143\"/>\n</g>\n<!-- 71 -->\n<g id=\"node26\" class=\"node\">\n<title>71</title>\n<polygon fill=\"#c0c0c0\" stroke=\"#000000\" points=\"912,-36 858,-36 858,0 912,0 912,-36\"/>\n<text text-anchor=\"middle\" x=\"885\" y=\"-14.3\" font-family=\"Times,serif\" font-size=\"14.00\" fill=\"#000000\">(...)</text>\n</g>\n<!-- 49&#45;&gt;71 -->\n<g id=\"edge25\" class=\"edge\">\n<title>49&#45;&gt;71</title>\n<path fill=\"none\" stroke=\"#000000\" d=\"M885,-71.8901C885,-63.3201 885,-54.4817 885,-46.5041\"/>\n<polygon fill=\"#000000\" stroke=\"#000000\" points=\"888.5001,-46.2651 885,-36.2651 881.5001,-46.2651 888.5001,-46.2651\"/>\n</g>\n<!-- 81 -->\n<g id=\"node28\" class=\"node\">\n<title>81</title>\n<polygon fill=\"#c0c0c0\" stroke=\"#000000\" points=\"989,-36 935,-36 935,0 989,0 989,-36\"/>\n<text text-anchor=\"middle\" x=\"962\" y=\"-14.3\" font-family=\"Times,serif\" font-size=\"14.00\" fill=\"#000000\">(...)</text>\n</g>\n<!-- 80&#45;&gt;81 -->\n<g id=\"edge27\" class=\"edge\">\n<title>80&#45;&gt;81</title>\n<path fill=\"none\" stroke=\"#000000\" d=\"M1000.372,-71.8901C993.7844,-62.6384 986.9741,-53.0739 980.9526,-44.6173\"/>\n<polygon fill=\"#000000\" stroke=\"#000000\" points=\"983.6569,-42.381 975.0055,-36.2651 977.9547,-46.4412 983.6569,-42.381\"/>\n</g>\n<!-- 86 -->\n<g id=\"node29\" class=\"node\">\n<title>86</title>\n<polygon fill=\"#c0c0c0\" stroke=\"#000000\" points=\"1061,-36 1007,-36 1007,0 1061,0 1061,-36\"/>\n<text text-anchor=\"middle\" x=\"1034\" y=\"-14.3\" font-family=\"Times,serif\" font-size=\"14.00\" fill=\"#000000\">(...)</text>\n</g>\n<!-- 80&#45;&gt;86 -->\n<g id=\"edge28\" class=\"edge\">\n<title>80&#45;&gt;86</title>\n<path fill=\"none\" stroke=\"#000000\" d=\"M1031.7428,-71.8901C1032.1018,-63.3201 1032.472,-54.4817 1032.8061,-46.5041\"/>\n<polygon fill=\"#000000\" stroke=\"#000000\" points=\"1036.3133,-46.4028 1033.235,-36.2651 1029.3195,-46.1098 1036.3133,-46.4028\"/>\n</g>\n<!-- 90 -->\n<g id=\"node31\" class=\"node\">\n<title>90</title>\n<polygon fill=\"#fbede3\" stroke=\"#000000\" points=\"1700.5,-393 1545.5,-393 1545.5,-310 1700.5,-310 1700.5,-393\"/>\n<text text-anchor=\"start\" x=\"1586.5\" y=\"-377.8\" font-family=\"Times,serif\" font-size=\"14.00\" fill=\"#000000\">perobs ≤ 1.5</text>\n<text text-anchor=\"start\" x=\"1586.5\" y=\"-362.8\" font-family=\"Times,serif\" font-size=\"14.00\" fill=\"#000000\">gini = 0.497</text>\n<text text-anchor=\"start\" x=\"1573.5\" y=\"-347.8\" font-family=\"Times,serif\" font-size=\"14.00\" fill=\"#000000\">samples = 57177</text>\n<text text-anchor=\"start\" x=\"1553.5\" y=\"-332.8\" font-family=\"Times,serif\" font-size=\"14.00\" fill=\"#000000\">value = [30762, 26415]</text>\n<text text-anchor=\"start\" x=\"1597\" y=\"-317.8\" font-family=\"Times,serif\" font-size=\"14.00\" fill=\"#000000\">class = A</text>\n</g>\n<!-- 89&#45;&gt;90 -->\n<g id=\"edge30\" class=\"edge\">\n<title>89&#45;&gt;90</title>\n<path fill=\"none\" stroke=\"#000000\" d=\"M1699.7293,-428.8796C1690.6201,-419.6931 1680.8892,-409.8798 1671.5224,-400.4336\"/>\n<polygon fill=\"#000000\" stroke=\"#000000\" points=\"1673.9733,-397.9345 1664.4468,-393.2981 1669.0027,-402.8634 1673.9733,-397.9345\"/>\n</g>\n<!-- 1831 -->\n<g id=\"node46\" class=\"node\">\n<title>1831</title>\n<polygon fill=\"#eff7fd\" stroke=\"#000000\" points=\"1933.5,-393 1786.5,-393 1786.5,-310 1933.5,-310 1933.5,-393\"/>\n<text text-anchor=\"start\" x=\"1804\" y=\"-377.8\" font-family=\"Times,serif\" font-size=\"14.00\" fill=\"#000000\">ycoord ≤ 205834.0</text>\n<text text-anchor=\"start\" x=\"1823.5\" y=\"-362.8\" font-family=\"Times,serif\" font-size=\"14.00\" fill=\"#000000\">gini = 0.499</text>\n<text text-anchor=\"start\" x=\"1810.5\" y=\"-347.8\" font-family=\"Times,serif\" font-size=\"14.00\" fill=\"#000000\">samples = 20650</text>\n<text text-anchor=\"start\" x=\"1794.5\" y=\"-332.8\" font-family=\"Times,serif\" font-size=\"14.00\" fill=\"#000000\">value = [9898, 10752]</text>\n<text text-anchor=\"start\" x=\"1833.5\" y=\"-317.8\" font-family=\"Times,serif\" font-size=\"14.00\" fill=\"#000000\">class = U</text>\n</g>\n<!-- 89&#45;&gt;1831 -->\n<g id=\"edge45\" class=\"edge\">\n<title>89&#45;&gt;1831</title>\n<path fill=\"none\" stroke=\"#000000\" d=\"M1782.6204,-428.8796C1791.8069,-419.6931 1801.6202,-409.8798 1811.0664,-400.4336\"/>\n<polygon fill=\"#000000\" stroke=\"#000000\" points=\"1813.6057,-402.8441 1818.2019,-393.2981 1808.6559,-397.8943 1813.6057,-402.8441\"/>\n</g>\n<!-- 91 -->\n<g id=\"node32\" class=\"node\">\n<title>91</title>\n<polygon fill=\"#fdf7f3\" stroke=\"#000000\" points=\"1417.5,-274 1262.5,-274 1262.5,-191 1417.5,-191 1417.5,-274\"/>\n<text text-anchor=\"start\" x=\"1284\" y=\"-258.8\" font-family=\"Times,serif\" font-size=\"14.00\" fill=\"#000000\">ycoord ≤ 184661.0</text>\n<text text-anchor=\"start\" x=\"1303.5\" y=\"-243.8\" font-family=\"Times,serif\" font-size=\"14.00\" fill=\"#000000\">gini = 0.499</text>\n<text text-anchor=\"start\" x=\"1290.5\" y=\"-228.8\" font-family=\"Times,serif\" font-size=\"14.00\" fill=\"#000000\">samples = 32528</text>\n<text text-anchor=\"start\" x=\"1270.5\" y=\"-213.8\" font-family=\"Times,serif\" font-size=\"14.00\" fill=\"#000000\">value = [16787, 15741]</text>\n<text text-anchor=\"start\" x=\"1314\" y=\"-198.8\" font-family=\"Times,serif\" font-size=\"14.00\" fill=\"#000000\">class = A</text>\n</g>\n<!-- 90&#45;&gt;91 -->\n<g id=\"edge31\" class=\"edge\">\n<title>90&#45;&gt;91</title>\n<path fill=\"none\" stroke=\"#000000\" d=\"M1545.2947,-318.8253C1508.6387,-303.4117 1464.7588,-284.9604 1426.9935,-269.0803\"/>\n<polygon fill=\"#000000\" stroke=\"#000000\" points=\"1428.1069,-265.7517 1417.532,-265.1018 1425.3935,-272.2044 1428.1069,-265.7517\"/>\n</g>\n<!-- 1080 -->\n<g id=\"node39\" class=\"node\">\n<title>1080</title>\n<polygon fill=\"#f9e1d0\" stroke=\"#000000\" points=\"1700.5,-274 1545.5,-274 1545.5,-191 1700.5,-191 1700.5,-274\"/>\n<text text-anchor=\"start\" x=\"1583\" y=\"-258.8\" font-family=\"Times,serif\" font-size=\"14.00\" fill=\"#000000\">perobs ≤ 13.5</text>\n<text text-anchor=\"start\" x=\"1586.5\" y=\"-243.8\" font-family=\"Times,serif\" font-size=\"14.00\" fill=\"#000000\">gini = 0.491</text>\n<text text-anchor=\"start\" x=\"1573.5\" y=\"-228.8\" font-family=\"Times,serif\" font-size=\"14.00\" fill=\"#000000\">samples = 24649</text>\n<text text-anchor=\"start\" x=\"1553.5\" y=\"-213.8\" font-family=\"Times,serif\" font-size=\"14.00\" fill=\"#000000\">value = [13975, 10674]</text>\n<text text-anchor=\"start\" x=\"1597\" y=\"-198.8\" font-family=\"Times,serif\" font-size=\"14.00\" fill=\"#000000\">class = A</text>\n</g>\n<!-- 90&#45;&gt;1080 -->\n<g id=\"edge38\" class=\"edge\">\n<title>90&#45;&gt;1080</title>\n<path fill=\"none\" stroke=\"#000000\" d=\"M1623,-309.8796C1623,-301.6838 1623,-292.9891 1623,-284.5013\"/>\n<polygon fill=\"#000000\" stroke=\"#000000\" points=\"1626.5001,-284.298 1623,-274.2981 1619.5001,-284.2981 1626.5001,-284.298\"/>\n</g>\n<!-- 92 -->\n<g id=\"node33\" class=\"node\">\n<title>92</title>\n<polygon fill=\"#fae5d6\" stroke=\"#000000\" points=\"1252,-155 1112,-155 1112,-72 1252,-72 1252,-155\"/>\n<text text-anchor=\"start\" x=\"1122\" y=\"-139.8\" font-family=\"Times,serif\" font-size=\"14.00\" fill=\"#000000\">xcoord ≤ 1028410.5</text>\n<text text-anchor=\"start\" x=\"1145.5\" y=\"-124.8\" font-family=\"Times,serif\" font-size=\"14.00\" fill=\"#000000\">gini = 0.493</text>\n<text text-anchor=\"start\" x=\"1132.5\" y=\"-109.8\" font-family=\"Times,serif\" font-size=\"14.00\" fill=\"#000000\">samples = 13507</text>\n<text text-anchor=\"start\" x=\"1120\" y=\"-94.8\" font-family=\"Times,serif\" font-size=\"14.00\" fill=\"#000000\">value = [7540, 5967]</text>\n<text text-anchor=\"start\" x=\"1156\" y=\"-79.8\" font-family=\"Times,serif\" font-size=\"14.00\" fill=\"#000000\">class = A</text>\n</g>\n<!-- 91&#45;&gt;92 -->\n<g id=\"edge32\" class=\"edge\">\n<title>91&#45;&gt;92</title>\n<path fill=\"none\" stroke=\"#000000\" d=\"M1284.7393,-190.8796C1271.9901,-181.2774 1258.3317,-170.9903 1245.2709,-161.1534\"/>\n<polygon fill=\"#000000\" stroke=\"#000000\" points=\"1247.3231,-158.3174 1237.2295,-155.0969 1243.1117,-163.9089 1247.3231,-158.3174\"/>\n</g>\n<!-- 505 -->\n<g id=\"node36\" class=\"node\">\n<title>505</title>\n<polygon fill=\"#f4fafe\" stroke=\"#000000\" points=\"1410,-155 1270,-155 1270,-72 1410,-72 1410,-155\"/>\n<text text-anchor=\"start\" x=\"1302\" y=\"-139.8\" font-family=\"Times,serif\" font-size=\"14.00\" fill=\"#000000\">othpers ≤ 0.5</text>\n<text text-anchor=\"start\" x=\"1311\" y=\"-124.8\" font-family=\"Times,serif\" font-size=\"14.00\" fill=\"#000000\">gini = 0.5</text>\n<text text-anchor=\"start\" x=\"1290.5\" y=\"-109.8\" font-family=\"Times,serif\" font-size=\"14.00\" fill=\"#000000\">samples = 19021</text>\n<text text-anchor=\"start\" x=\"1278\" y=\"-94.8\" font-family=\"Times,serif\" font-size=\"14.00\" fill=\"#000000\">value = [9247, 9774]</text>\n<text text-anchor=\"start\" x=\"1313.5\" y=\"-79.8\" font-family=\"Times,serif\" font-size=\"14.00\" fill=\"#000000\">class = U</text>\n</g>\n<!-- 91&#45;&gt;505 -->\n<g id=\"edge35\" class=\"edge\">\n<title>91&#45;&gt;505</title>\n<path fill=\"none\" stroke=\"#000000\" d=\"M1340,-190.8796C1340,-182.6838 1340,-173.9891 1340,-165.5013\"/>\n<polygon fill=\"#000000\" stroke=\"#000000\" points=\"1343.5001,-165.298 1340,-155.2981 1336.5001,-165.2981 1343.5001,-165.298\"/>\n</g>\n<!-- 93 -->\n<g id=\"node34\" class=\"node\">\n<title>93</title>\n<polygon fill=\"#c0c0c0\" stroke=\"#000000\" points=\"1144,-36 1090,-36 1090,0 1144,0 1144,-36\"/>\n<text text-anchor=\"middle\" x=\"1117\" y=\"-14.3\" font-family=\"Times,serif\" font-size=\"14.00\" fill=\"#000000\">(...)</text>\n</g>\n<!-- 92&#45;&gt;93 -->\n<g id=\"edge33\" class=\"edge\">\n<title>92&#45;&gt;93</title>\n<path fill=\"none\" stroke=\"#000000\" d=\"M1153.6791,-71.8901C1147.3821,-62.6384 1140.8723,-53.0739 1135.1165,-44.6173\"/>\n<polygon fill=\"#000000\" stroke=\"#000000\" points=\"1137.9518,-42.5626 1129.4317,-36.2651 1132.165,-46.5013 1137.9518,-42.5626\"/>\n</g>\n<!-- 450 -->\n<g id=\"node35\" class=\"node\">\n<title>450</title>\n<polygon fill=\"#c0c0c0\" stroke=\"#000000\" points=\"1216,-36 1162,-36 1162,0 1216,0 1216,-36\"/>\n<text text-anchor=\"middle\" x=\"1189\" y=\"-14.3\" font-family=\"Times,serif\" font-size=\"14.00\" fill=\"#000000\">(...)</text>\n</g>\n<!-- 92&#45;&gt;450 -->\n<g id=\"edge34\" class=\"edge\">\n<title>92&#45;&gt;450</title>\n<path fill=\"none\" stroke=\"#000000\" d=\"M1185.0499,-71.8901C1185.6781,-63.3201 1186.3259,-54.4817 1186.9107,-46.5041\"/>\n<polygon fill=\"#000000\" stroke=\"#000000\" points=\"1190.4207,-46.4942 1187.6612,-36.2651 1183.4394,-45.9825 1190.4207,-46.4942\"/>\n</g>\n<!-- 506 -->\n<g id=\"node37\" class=\"node\">\n<title>506</title>\n<polygon fill=\"#c0c0c0\" stroke=\"#000000\" points=\"1306,-36 1252,-36 1252,0 1306,0 1306,-36\"/>\n<text text-anchor=\"middle\" x=\"1279\" y=\"-14.3\" font-family=\"Times,serif\" font-size=\"14.00\" fill=\"#000000\">(...)</text>\n</g>\n<!-- 505&#45;&gt;506 -->\n<g id=\"edge36\" class=\"edge\">\n<title>505&#45;&gt;506</title>\n<path fill=\"none\" stroke=\"#000000\" d=\"M1313.422,-71.8901C1307.5747,-62.7357 1301.5318,-53.2752 1296.1724,-44.8847\"/>\n<polygon fill=\"#000000\" stroke=\"#000000\" points=\"1298.9994,-42.8086 1290.6667,-36.2651 1293.1001,-46.5767 1298.9994,-42.8086\"/>\n</g>\n<!-- 947 -->\n<g id=\"node38\" class=\"node\">\n<title>947</title>\n<polygon fill=\"#c0c0c0\" stroke=\"#000000\" points=\"1378,-36 1324,-36 1324,0 1378,0 1378,-36\"/>\n<text text-anchor=\"middle\" x=\"1351\" y=\"-14.3\" font-family=\"Times,serif\" font-size=\"14.00\" fill=\"#000000\">(...)</text>\n</g>\n<!-- 505&#45;&gt;947 -->\n<g id=\"edge37\" class=\"edge\">\n<title>505&#45;&gt;947</title>\n<path fill=\"none\" stroke=\"#000000\" d=\"M1344.7928,-71.8901C1345.7911,-63.2227 1346.8211,-54.2808 1347.7481,-46.2325\"/>\n<polygon fill=\"#000000\" stroke=\"#000000\" points=\"1351.2288,-46.5999 1348.8962,-36.2651 1344.2748,-45.7989 1351.2288,-46.5999\"/>\n</g>\n<!-- 1081 -->\n<g id=\"node40\" class=\"node\">\n<title>1081</title>\n<polygon fill=\"#f8dfcd\" stroke=\"#000000\" points=\"1583.5,-155 1428.5,-155 1428.5,-72 1583.5,-72 1583.5,-155\"/>\n<text text-anchor=\"start\" x=\"1450\" y=\"-139.8\" font-family=\"Times,serif\" font-size=\"14.00\" fill=\"#000000\">ycoord ≤ 207687.0</text>\n<text text-anchor=\"start\" x=\"1469.5\" y=\"-124.8\" font-family=\"Times,serif\" font-size=\"14.00\" fill=\"#000000\">gini = 0.489</text>\n<text text-anchor=\"start\" x=\"1456.5\" y=\"-109.8\" font-family=\"Times,serif\" font-size=\"14.00\" fill=\"#000000\">samples = 23760</text>\n<text text-anchor=\"start\" x=\"1436.5\" y=\"-94.8\" font-family=\"Times,serif\" font-size=\"14.00\" fill=\"#000000\">value = [13602, 10158]</text>\n<text text-anchor=\"start\" x=\"1480\" y=\"-79.8\" font-family=\"Times,serif\" font-size=\"14.00\" fill=\"#000000\">class = A</text>\n</g>\n<!-- 1080&#45;&gt;1081 -->\n<g id=\"edge39\" class=\"edge\">\n<title>1080&#45;&gt;1081</title>\n<path fill=\"none\" stroke=\"#000000\" d=\"M1582.0791,-190.8796C1573.047,-181.6931 1563.3987,-171.8798 1554.1112,-162.4336\"/>\n<polygon fill=\"#000000\" stroke=\"#000000\" points=\"1556.6023,-159.975 1547.0956,-155.2981 1551.6107,-164.8827 1556.6023,-159.975\"/>\n</g>\n<!-- 1804 -->\n<g id=\"node43\" class=\"node\">\n<title>1804</title>\n<polygon fill=\"#c8e4f8\" stroke=\"#000000\" points=\"1730,-155 1602,-155 1602,-72 1730,-72 1730,-155\"/>\n<text text-anchor=\"start\" x=\"1610\" y=\"-139.8\" font-family=\"Times,serif\" font-size=\"14.00\" fill=\"#000000\">xcoord ≤ 994874.5</text>\n<text text-anchor=\"start\" x=\"1629.5\" y=\"-124.8\" font-family=\"Times,serif\" font-size=\"14.00\" fill=\"#000000\">gini = 0.487</text>\n<text text-anchor=\"start\" x=\"1624\" y=\"-109.8\" font-family=\"Times,serif\" font-size=\"14.00\" fill=\"#000000\">samples = 889</text>\n<text text-anchor=\"start\" x=\"1611.5\" y=\"-94.8\" font-family=\"Times,serif\" font-size=\"14.00\" fill=\"#000000\">value = [373, 516]</text>\n<text text-anchor=\"start\" x=\"1639.5\" y=\"-79.8\" font-family=\"Times,serif\" font-size=\"14.00\" fill=\"#000000\">class = U</text>\n</g>\n<!-- 1080&#45;&gt;1804 -->\n<g id=\"edge42\" class=\"edge\">\n<title>1080&#45;&gt;1804</title>\n<path fill=\"none\" stroke=\"#000000\" d=\"M1638.0393,-190.8796C1641.0659,-182.5037 1644.2808,-173.6067 1647.4117,-164.942\"/>\n<polygon fill=\"#000000\" stroke=\"#000000\" points=\"1650.7897,-165.8924 1650.8965,-155.2981 1644.2063,-163.5135 1650.7897,-165.8924\"/>\n</g>\n<!-- 1082 -->\n<g id=\"node41\" class=\"node\">\n<title>1082</title>\n<polygon fill=\"#c0c0c0\" stroke=\"#000000\" points=\"1469,-36 1415,-36 1415,0 1469,0 1469,-36\"/>\n<text text-anchor=\"middle\" x=\"1442\" y=\"-14.3\" font-family=\"Times,serif\" font-size=\"14.00\" fill=\"#000000\">(...)</text>\n</g>\n<!-- 1081&#45;&gt;1082 -->\n<g id=\"edge40\" class=\"edge\">\n<title>1081&#45;&gt;1082</title>\n<path fill=\"none\" stroke=\"#000000\" d=\"M1478.1148,-71.8901C1471.9147,-62.6384 1465.505,-53.0739 1459.8377,-44.6173\"/>\n<polygon fill=\"#000000\" stroke=\"#000000\" points=\"1462.7151,-42.6237 1454.2405,-36.2651 1456.9001,-46.5207 1462.7151,-42.6237\"/>\n</g>\n<!-- 1651 -->\n<g id=\"node42\" class=\"node\">\n<title>1651</title>\n<polygon fill=\"#c0c0c0\" stroke=\"#000000\" points=\"1541,-36 1487,-36 1487,0 1541,0 1541,-36\"/>\n<text text-anchor=\"middle\" x=\"1514\" y=\"-14.3\" font-family=\"Times,serif\" font-size=\"14.00\" fill=\"#000000\">(...)</text>\n</g>\n<!-- 1081&#45;&gt;1651 -->\n<g id=\"edge41\" class=\"edge\">\n<title>1081&#45;&gt;1651</title>\n<path fill=\"none\" stroke=\"#000000\" d=\"M1509.4856,-71.8901C1510.2117,-63.2227 1510.9608,-54.2808 1511.635,-46.2325\"/>\n<polygon fill=\"#000000\" stroke=\"#000000\" points=\"1515.1229,-46.5224 1512.4699,-36.2651 1508.1473,-45.938 1515.1229,-46.5224\"/>\n</g>\n<!-- 1805 -->\n<g id=\"node44\" class=\"node\">\n<title>1805</title>\n<polygon fill=\"#c0c0c0\" stroke=\"#000000\" points=\"1625,-36 1571,-36 1571,0 1625,0 1625,-36\"/>\n<text text-anchor=\"middle\" x=\"1598\" y=\"-14.3\" font-family=\"Times,serif\" font-size=\"14.00\" fill=\"#000000\">(...)</text>\n</g>\n<!-- 1804&#45;&gt;1805 -->\n<g id=\"edge43\" class=\"edge\">\n<title>1804&#45;&gt;1805</title>\n<path fill=\"none\" stroke=\"#000000\" d=\"M1636.372,-71.8901C1629.7844,-62.6384 1622.9741,-53.0739 1616.9526,-44.6173\"/>\n<polygon fill=\"#000000\" stroke=\"#000000\" points=\"1619.6569,-42.381 1611.0055,-36.2651 1613.9547,-46.4412 1619.6569,-42.381\"/>\n</g>\n<!-- 1816 -->\n<g id=\"node45\" class=\"node\">\n<title>1816</title>\n<polygon fill=\"#c0c0c0\" stroke=\"#000000\" points=\"1697,-36 1643,-36 1643,0 1697,0 1697,-36\"/>\n<text text-anchor=\"middle\" x=\"1670\" y=\"-14.3\" font-family=\"Times,serif\" font-size=\"14.00\" fill=\"#000000\">(...)</text>\n</g>\n<!-- 1804&#45;&gt;1816 -->\n<g id=\"edge44\" class=\"edge\">\n<title>1804&#45;&gt;1816</title>\n<path fill=\"none\" stroke=\"#000000\" d=\"M1667.7428,-71.8901C1668.1018,-63.3201 1668.472,-54.4817 1668.8061,-46.5041\"/>\n<polygon fill=\"#000000\" stroke=\"#000000\" points=\"1672.3133,-46.4028 1669.235,-36.2651 1665.3195,-46.1098 1672.3133,-46.4028\"/>\n</g>\n<!-- 1832 -->\n<g id=\"node47\" class=\"node\">\n<title>1832</title>\n<polygon fill=\"#e0f0fb\" stroke=\"#000000\" points=\"1930,-274 1790,-274 1790,-191 1930,-191 1930,-274\"/>\n<text text-anchor=\"start\" x=\"1822\" y=\"-258.8\" font-family=\"Times,serif\" font-size=\"14.00\" fill=\"#000000\">othpers ≤ 0.5</text>\n<text text-anchor=\"start\" x=\"1823.5\" y=\"-243.8\" font-family=\"Times,serif\" font-size=\"14.00\" fill=\"#000000\">gini = 0.496</text>\n<text text-anchor=\"start\" x=\"1810.5\" y=\"-228.8\" font-family=\"Times,serif\" font-size=\"14.00\" fill=\"#000000\">samples = 16260</text>\n<text text-anchor=\"start\" x=\"1798\" y=\"-213.8\" font-family=\"Times,serif\" font-size=\"14.00\" fill=\"#000000\">value = [7434, 8826]</text>\n<text text-anchor=\"start\" x=\"1833.5\" y=\"-198.8\" font-family=\"Times,serif\" font-size=\"14.00\" fill=\"#000000\">class = U</text>\n</g>\n<!-- 1831&#45;&gt;1832 -->\n<g id=\"edge46\" class=\"edge\">\n<title>1831&#45;&gt;1832</title>\n<path fill=\"none\" stroke=\"#000000\" d=\"M1860,-309.8796C1860,-301.6838 1860,-292.9891 1860,-284.5013\"/>\n<polygon fill=\"#000000\" stroke=\"#000000\" points=\"1863.5001,-284.298 1860,-274.2981 1856.5001,-284.2981 1863.5001,-284.298\"/>\n</g>\n<!-- 2303 -->\n<g id=\"node54\" class=\"node\">\n<title>2303</title>\n<polygon fill=\"#f9e3d4\" stroke=\"#000000\" points=\"2182,-274 2042,-274 2042,-191 2182,-191 2182,-274\"/>\n<text text-anchor=\"start\" x=\"2075.5\" y=\"-258.8\" font-family=\"Times,serif\" font-size=\"14.00\" fill=\"#000000\">perobs ≤ 1.5</text>\n<text text-anchor=\"start\" x=\"2075.5\" y=\"-243.8\" font-family=\"Times,serif\" font-size=\"14.00\" fill=\"#000000\">gini = 0.492</text>\n<text text-anchor=\"start\" x=\"2066.5\" y=\"-228.8\" font-family=\"Times,serif\" font-size=\"14.00\" fill=\"#000000\">samples = 4390</text>\n<text text-anchor=\"start\" x=\"2050\" y=\"-213.8\" font-family=\"Times,serif\" font-size=\"14.00\" fill=\"#000000\">value = [2464, 1926]</text>\n<text text-anchor=\"start\" x=\"2086\" y=\"-198.8\" font-family=\"Times,serif\" font-size=\"14.00\" fill=\"#000000\">class = A</text>\n</g>\n<!-- 1831&#45;&gt;2303 -->\n<g id=\"edge53\" class=\"edge\">\n<title>1831&#45;&gt;2303</title>\n<path fill=\"none\" stroke=\"#000000\" d=\"M1933.5663,-316.7604C1964.6388,-302.0872 2000.8894,-284.9689 2032.5693,-270.0089\"/>\n<polygon fill=\"#000000\" stroke=\"#000000\" points=\"2034.2599,-273.0813 2041.8079,-265.6463 2031.2708,-266.7515 2034.2599,-273.0813\"/>\n</g>\n<!-- 1833 -->\n<g id=\"node48\" class=\"node\">\n<title>1833</title>\n<polygon fill=\"#dbedfa\" stroke=\"#000000\" points=\"1888,-155 1748,-155 1748,-72 1888,-72 1888,-155\"/>\n<text text-anchor=\"start\" x=\"1762\" y=\"-139.8\" font-family=\"Times,serif\" font-size=\"14.00\" fill=\"#000000\">xcoord ≤ 988121.5</text>\n<text text-anchor=\"start\" x=\"1781.5\" y=\"-124.8\" font-family=\"Times,serif\" font-size=\"14.00\" fill=\"#000000\">gini = 0.495</text>\n<text text-anchor=\"start\" x=\"1768.5\" y=\"-109.8\" font-family=\"Times,serif\" font-size=\"14.00\" fill=\"#000000\">samples = 14576</text>\n<text text-anchor=\"start\" x=\"1756\" y=\"-94.8\" font-family=\"Times,serif\" font-size=\"14.00\" fill=\"#000000\">value = [6554, 8022]</text>\n<text text-anchor=\"start\" x=\"1791.5\" y=\"-79.8\" font-family=\"Times,serif\" font-size=\"14.00\" fill=\"#000000\">class = U</text>\n</g>\n<!-- 1832&#45;&gt;1833 -->\n<g id=\"edge47\" class=\"edge\">\n<title>1832&#45;&gt;1833</title>\n<path fill=\"none\" stroke=\"#000000\" d=\"M1845.3104,-190.8796C1842.3542,-182.5037 1839.2141,-173.6067 1836.156,-164.942\"/>\n<polygon fill=\"#000000\" stroke=\"#000000\" points=\"1839.381,-163.5631 1832.7523,-155.2981 1832.7801,-165.8929 1839.381,-163.5631\"/>\n</g>\n<!-- 2256 -->\n<g id=\"node51\" class=\"node\">\n<title>2256</title>\n<polygon fill=\"#fdf4ee\" stroke=\"#000000\" points=\"2031.5,-155 1906.5,-155 1906.5,-72 2031.5,-72 2031.5,-155\"/>\n<text text-anchor=\"start\" x=\"1932.5\" y=\"-139.8\" font-family=\"Times,serif\" font-size=\"14.00\" fill=\"#000000\">perobs ≤ 6.5</text>\n<text text-anchor=\"start\" x=\"1932.5\" y=\"-124.8\" font-family=\"Times,serif\" font-size=\"14.00\" fill=\"#000000\">gini = 0.499</text>\n<text text-anchor=\"start\" x=\"1923.5\" y=\"-109.8\" font-family=\"Times,serif\" font-size=\"14.00\" fill=\"#000000\">samples = 1684</text>\n<text text-anchor=\"start\" x=\"1914.5\" y=\"-94.8\" font-family=\"Times,serif\" font-size=\"14.00\" fill=\"#000000\">value = [880, 804]</text>\n<text text-anchor=\"start\" x=\"1943\" y=\"-79.8\" font-family=\"Times,serif\" font-size=\"14.00\" fill=\"#000000\">class = A</text>\n</g>\n<!-- 1832&#45;&gt;2256 -->\n<g id=\"edge50\" class=\"edge\">\n<title>1832&#45;&gt;2256</title>\n<path fill=\"none\" stroke=\"#000000\" d=\"M1898.1229,-190.8796C1906.4549,-181.7832 1915.3498,-172.0722 1923.9239,-162.7116\"/>\n<polygon fill=\"#000000\" stroke=\"#000000\" points=\"1926.5408,-165.0363 1930.7144,-155.2981 1921.3789,-160.3081 1926.5408,-165.0363\"/>\n</g>\n<!-- 1834 -->\n<g id=\"node49\" class=\"node\">\n<title>1834</title>\n<polygon fill=\"#c0c0c0\" stroke=\"#000000\" points=\"1776,-36 1722,-36 1722,0 1776,0 1776,-36\"/>\n<text text-anchor=\"middle\" x=\"1749\" y=\"-14.3\" font-family=\"Times,serif\" font-size=\"14.00\" fill=\"#000000\">(...)</text>\n</g>\n<!-- 1833&#45;&gt;1834 -->\n<g id=\"edge48\" class=\"edge\">\n<title>1833&#45;&gt;1834</title>\n<path fill=\"none\" stroke=\"#000000\" d=\"M1787.9363,-71.8901C1781.2518,-62.6384 1774.3414,-53.0739 1768.2313,-44.6173\"/>\n<polygon fill=\"#000000\" stroke=\"#000000\" points=\"1770.8903,-42.321 1762.1968,-36.2651 1765.2163,-46.4206 1770.8903,-42.321\"/>\n</g>\n<!-- 1907 -->\n<g id=\"node50\" class=\"node\">\n<title>1907</title>\n<polygon fill=\"#c0c0c0\" stroke=\"#000000\" points=\"1848,-36 1794,-36 1794,0 1848,0 1848,-36\"/>\n<text text-anchor=\"middle\" x=\"1821\" y=\"-14.3\" font-family=\"Times,serif\" font-size=\"14.00\" fill=\"#000000\">(...)</text>\n</g>\n<!-- 1833&#45;&gt;1907 -->\n<g id=\"edge49\" class=\"edge\">\n<title>1833&#45;&gt;1907</title>\n<path fill=\"none\" stroke=\"#000000\" d=\"M1819.3071,-71.8901C1819.5763,-63.3201 1819.854,-54.4817 1820.1046,-46.5041\"/>\n<polygon fill=\"#000000\" stroke=\"#000000\" points=\"1823.6104,-46.3701 1820.4262,-36.2651 1816.6139,-46.1502 1823.6104,-46.3701\"/>\n</g>\n<!-- 2257 -->\n<g id=\"node52\" class=\"node\">\n<title>2257</title>\n<polygon fill=\"#c0c0c0\" stroke=\"#000000\" points=\"1925,-36 1871,-36 1871,0 1925,0 1925,-36\"/>\n<text text-anchor=\"middle\" x=\"1898\" y=\"-14.3\" font-family=\"Times,serif\" font-size=\"14.00\" fill=\"#000000\">(...)</text>\n</g>\n<!-- 2256&#45;&gt;2257 -->\n<g id=\"edge51\" class=\"edge\">\n<title>2256&#45;&gt;2257</title>\n<path fill=\"none\" stroke=\"#000000\" d=\"M1938.0649,-71.8901C1931.1142,-62.541 1923.9262,-52.8725 1917.5905,-44.3506\"/>\n<polygon fill=\"#000000\" stroke=\"#000000\" points=\"1920.3545,-42.202 1911.5793,-36.2651 1914.7369,-46.3785 1920.3545,-42.202\"/>\n</g>\n<!-- 2300 -->\n<g id=\"node53\" class=\"node\">\n<title>2300</title>\n<polygon fill=\"#c0c0c0\" stroke=\"#000000\" points=\"1997,-36 1943,-36 1943,0 1997,0 1997,-36\"/>\n<text text-anchor=\"middle\" x=\"1970\" y=\"-14.3\" font-family=\"Times,serif\" font-size=\"14.00\" fill=\"#000000\">(...)</text>\n</g>\n<!-- 2256&#45;&gt;2300 -->\n<g id=\"edge52\" class=\"edge\">\n<title>2256&#45;&gt;2300</title>\n<path fill=\"none\" stroke=\"#000000\" d=\"M1969.4357,-71.8901C1969.5254,-63.3201 1969.618,-54.4817 1969.7015,-46.5041\"/>\n<polygon fill=\"#000000\" stroke=\"#000000\" points=\"1973.2037,-46.3012 1969.8087,-36.2651 1966.2041,-46.2279 1973.2037,-46.3012\"/>\n</g>\n<!-- 2304 -->\n<g id=\"node55\" class=\"node\">\n<title>2304</title>\n<polygon fill=\"#f9fcfe\" stroke=\"#000000\" points=\"2174.5,-155 2049.5,-155 2049.5,-72 2174.5,-72 2174.5,-155\"/>\n<text text-anchor=\"start\" x=\"2081.5\" y=\"-139.8\" font-family=\"Times,serif\" font-size=\"14.00\" fill=\"#000000\">age ≤ 47.5</text>\n<text text-anchor=\"start\" x=\"2083\" y=\"-124.8\" font-family=\"Times,serif\" font-size=\"14.00\" fill=\"#000000\">gini = 0.5</text>\n<text text-anchor=\"start\" x=\"2066.5\" y=\"-109.8\" font-family=\"Times,serif\" font-size=\"14.00\" fill=\"#000000\">samples = 1808</text>\n<text text-anchor=\"start\" x=\"2057.5\" y=\"-94.8\" font-family=\"Times,serif\" font-size=\"14.00\" fill=\"#000000\">value = [890, 918]</text>\n<text text-anchor=\"start\" x=\"2085.5\" y=\"-79.8\" font-family=\"Times,serif\" font-size=\"14.00\" fill=\"#000000\">class = U</text>\n</g>\n<!-- 2303&#45;&gt;2304 -->\n<g id=\"edge54\" class=\"edge\">\n<title>2303&#45;&gt;2304</title>\n<path fill=\"none\" stroke=\"#000000\" d=\"M2112,-190.8796C2112,-182.6838 2112,-173.9891 2112,-165.5013\"/>\n<polygon fill=\"#000000\" stroke=\"#000000\" points=\"2115.5001,-165.298 2112,-155.2981 2108.5001,-165.2981 2115.5001,-165.298\"/>\n</g>\n<!-- 2357 -->\n<g id=\"node58\" class=\"node\">\n<title>2357</title>\n<polygon fill=\"#f6d2b8\" stroke=\"#000000\" points=\"2333,-155 2193,-155 2193,-72 2333,-72 2333,-155\"/>\n<text text-anchor=\"start\" x=\"2223\" y=\"-139.8\" font-family=\"Times,serif\" font-size=\"14.00\" fill=\"#000000\">perobs ≤ 15.5</text>\n<text text-anchor=\"start\" x=\"2226.5\" y=\"-124.8\" font-family=\"Times,serif\" font-size=\"14.00\" fill=\"#000000\">gini = 0.476</text>\n<text text-anchor=\"start\" x=\"2217.5\" y=\"-109.8\" font-family=\"Times,serif\" font-size=\"14.00\" fill=\"#000000\">samples = 2582</text>\n<text text-anchor=\"start\" x=\"2201\" y=\"-94.8\" font-family=\"Times,serif\" font-size=\"14.00\" fill=\"#000000\">value = [1574, 1008]</text>\n<text text-anchor=\"start\" x=\"2237\" y=\"-79.8\" font-family=\"Times,serif\" font-size=\"14.00\" fill=\"#000000\">class = A</text>\n</g>\n<!-- 2303&#45;&gt;2357 -->\n<g id=\"edge57\" class=\"edge\">\n<title>2303&#45;&gt;2357</title>\n<path fill=\"none\" stroke=\"#000000\" d=\"M2164.8125,-190.8796C2176.8818,-181.368 2189.8039,-171.1843 2202.1788,-161.432\"/>\n<polygon fill=\"#000000\" stroke=\"#000000\" points=\"2204.5296,-164.0356 2210.2173,-155.0969 2200.1968,-158.5377 2204.5296,-164.0356\"/>\n</g>\n<!-- 2305 -->\n<g id=\"node56\" class=\"node\">\n<title>2305</title>\n<polygon fill=\"#c0c0c0\" stroke=\"#000000\" points=\"2072,-36 2018,-36 2018,0 2072,0 2072,-36\"/>\n<text text-anchor=\"middle\" x=\"2045\" y=\"-14.3\" font-family=\"Times,serif\" font-size=\"14.00\" fill=\"#000000\">(...)</text>\n</g>\n<!-- 2304&#45;&gt;2305 -->\n<g id=\"edge55\" class=\"edge\">\n<title>2304&#45;&gt;2305</title>\n<path fill=\"none\" stroke=\"#000000\" d=\"M2082.8077,-71.8901C2076.317,-62.6384 2069.6068,-53.0739 2063.6739,-44.6173\"/>\n<polygon fill=\"#000000\" stroke=\"#000000\" points=\"2066.4228,-42.4412 2057.8143,-36.2651 2060.6923,-46.4615 2066.4228,-42.4412\"/>\n</g>\n<!-- 2342 -->\n<g id=\"node57\" class=\"node\">\n<title>2342</title>\n<polygon fill=\"#c0c0c0\" stroke=\"#000000\" points=\"2144,-36 2090,-36 2090,0 2144,0 2144,-36\"/>\n<text text-anchor=\"middle\" x=\"2117\" y=\"-14.3\" font-family=\"Times,serif\" font-size=\"14.00\" fill=\"#000000\">(...)</text>\n</g>\n<!-- 2304&#45;&gt;2342 -->\n<g id=\"edge56\" class=\"edge\">\n<title>2304&#45;&gt;2342</title>\n<path fill=\"none\" stroke=\"#000000\" d=\"M2114.1785,-71.8901C2114.6272,-63.3201 2115.09,-54.4817 2115.5076,-46.5041\"/>\n<polygon fill=\"#000000\" stroke=\"#000000\" points=\"2119.016,-46.4345 2116.0437,-36.2651 2112.0256,-46.0684 2119.016,-46.4345\"/>\n</g>\n<!-- 2358 -->\n<g id=\"node59\" class=\"node\">\n<title>2358</title>\n<polygon fill=\"#c0c0c0\" stroke=\"#000000\" points=\"2219,-36 2165,-36 2165,0 2219,0 2219,-36\"/>\n<text text-anchor=\"middle\" x=\"2192\" y=\"-14.3\" font-family=\"Times,serif\" font-size=\"14.00\" fill=\"#000000\">(...)</text>\n</g>\n<!-- 2357&#45;&gt;2358 -->\n<g id=\"edge58\" class=\"edge\">\n<title>2357&#45;&gt;2358</title>\n<path fill=\"none\" stroke=\"#000000\" d=\"M2232.0649,-71.8901C2225.1142,-62.541 2217.9262,-52.8725 2211.5905,-44.3506\"/>\n<polygon fill=\"#000000\" stroke=\"#000000\" points=\"2214.3545,-42.202 2205.5793,-36.2651 2208.7369,-46.3785 2214.3545,-42.202\"/>\n</g>\n<!-- 2433 -->\n<g id=\"node60\" class=\"node\">\n<title>2433</title>\n<polygon fill=\"#c0c0c0\" stroke=\"#000000\" points=\"2291,-36 2237,-36 2237,0 2291,0 2291,-36\"/>\n<text text-anchor=\"middle\" x=\"2264\" y=\"-14.3\" font-family=\"Times,serif\" font-size=\"14.00\" fill=\"#000000\">(...)</text>\n</g>\n<!-- 2357&#45;&gt;2433 -->\n<g id=\"edge59\" class=\"edge\">\n<title>2357&#45;&gt;2433</title>\n<path fill=\"none\" stroke=\"#000000\" d=\"M2263.4357,-71.8901C2263.5254,-63.3201 2263.618,-54.4817 2263.7015,-46.5041\"/>\n<polygon fill=\"#000000\" stroke=\"#000000\" points=\"2267.2037,-46.3012 2263.8087,-36.2651 2260.2041,-46.2279 2267.2037,-46.3012\"/>\n</g>\n<!-- 2437 -->\n<g id=\"node62\" class=\"node\">\n<title>2437</title>\n<polygon fill=\"#f2f8fd\" stroke=\"#000000\" points=\"3083.5,-512 2928.5,-512 2928.5,-429 3083.5,-429 3083.5,-512\"/>\n<text text-anchor=\"start\" x=\"2946\" y=\"-496.8\" font-family=\"Times,serif\" font-size=\"14.00\" fill=\"#000000\">xcoord ≤ 1005307.5</text>\n<text text-anchor=\"start\" x=\"2969.5\" y=\"-481.8\" font-family=\"Times,serif\" font-size=\"14.00\" fill=\"#000000\">gini = 0.499</text>\n<text text-anchor=\"start\" x=\"2956.5\" y=\"-466.8\" font-family=\"Times,serif\" font-size=\"14.00\" fill=\"#000000\">samples = 29983</text>\n<text text-anchor=\"start\" x=\"2936.5\" y=\"-451.8\" font-family=\"Times,serif\" font-size=\"14.00\" fill=\"#000000\">value = [14464, 15519]</text>\n<text text-anchor=\"start\" x=\"2979.5\" y=\"-436.8\" font-family=\"Times,serif\" font-size=\"14.00\" fill=\"#000000\">class = U</text>\n</g>\n<!-- 2436&#45;&gt;2437 -->\n<g id=\"edge61\" class=\"edge\">\n<title>2436&#45;&gt;2437</title>\n<path fill=\"none\" stroke=\"#000000\" d=\"M3006,-547.8796C3006,-539.6838 3006,-530.9891 3006,-522.5013\"/>\n<polygon fill=\"#000000\" stroke=\"#000000\" points=\"3009.5001,-522.298 3006,-512.2981 3002.5001,-522.2981 3009.5001,-522.298\"/>\n</g>\n<!-- 3360 -->\n<g id=\"node91\" class=\"node\">\n<title>3360</title>\n<polygon fill=\"#abd5f4\" stroke=\"#000000\" points=\"3894,-512 3754,-512 3754,-429 3894,-429 3894,-512\"/>\n<text text-anchor=\"start\" x=\"3764\" y=\"-496.8\" font-family=\"Times,serif\" font-size=\"14.00\" fill=\"#000000\">xcoord ≤ 1003532.0</text>\n<text text-anchor=\"start\" x=\"3787.5\" y=\"-481.8\" font-family=\"Times,serif\" font-size=\"14.00\" fill=\"#000000\">gini = 0.463</text>\n<text text-anchor=\"start\" x=\"3774.5\" y=\"-466.8\" font-family=\"Times,serif\" font-size=\"14.00\" fill=\"#000000\">samples = 13651</text>\n<text text-anchor=\"start\" x=\"3762\" y=\"-451.8\" font-family=\"Times,serif\" font-size=\"14.00\" fill=\"#000000\">value = [4976, 8675]</text>\n<text text-anchor=\"start\" x=\"3797.5\" y=\"-436.8\" font-family=\"Times,serif\" font-size=\"14.00\" fill=\"#000000\">class = U</text>\n</g>\n<!-- 2436&#45;&gt;3360 -->\n<g id=\"edge90\" class=\"edge\">\n<title>2436&#45;&gt;3360</title>\n<path fill=\"none\" stroke=\"#000000\" d=\"M3083.6929,-578.1975C3239.006,-555.603 3586.3687,-505.0698 3743.7579,-482.1734\"/>\n<polygon fill=\"#000000\" stroke=\"#000000\" points=\"3744.4541,-485.609 3753.8461,-480.7058 3743.4463,-478.6819 3744.4541,-485.609\"/>\n</g>\n<!-- 2438 -->\n<g id=\"node63\" class=\"node\">\n<title>2438</title>\n<polygon fill=\"#cfe7f9\" stroke=\"#000000\" points=\"2849,-393 2709,-393 2709,-310 2849,-310 2849,-393\"/>\n<text text-anchor=\"start\" x=\"2748.5\" y=\"-377.8\" font-family=\"Times,serif\" font-size=\"14.00\" fill=\"#000000\">age ≤ 15.5</text>\n<text text-anchor=\"start\" x=\"2742.5\" y=\"-362.8\" font-family=\"Times,serif\" font-size=\"14.00\" fill=\"#000000\">gini = 0.491</text>\n<text text-anchor=\"start\" x=\"2729.5\" y=\"-347.8\" font-family=\"Times,serif\" font-size=\"14.00\" fill=\"#000000\">samples = 12971</text>\n<text text-anchor=\"start\" x=\"2717\" y=\"-332.8\" font-family=\"Times,serif\" font-size=\"14.00\" fill=\"#000000\">value = [5601, 7370]</text>\n<text text-anchor=\"start\" x=\"2752.5\" y=\"-317.8\" font-family=\"Times,serif\" font-size=\"14.00\" fill=\"#000000\">class = U</text>\n</g>\n<!-- 2437&#45;&gt;2438 -->\n<g id=\"edge62\" class=\"edge\">\n<title>2437&#45;&gt;2438</title>\n<path fill=\"none\" stroke=\"#000000\" d=\"M2928.1971,-429.7134C2905.5364,-417.8341 2880.7621,-404.8467 2858.0268,-392.9282\"/>\n<polygon fill=\"#000000\" stroke=\"#000000\" points=\"2859.5723,-389.7866 2849.0904,-388.2434 2856.3222,-395.9864 2859.5723,-389.7866\"/>\n</g>\n<!-- 2839 -->\n<g id=\"node78\" class=\"node\">\n<title>2839</title>\n<polygon fill=\"#fdf5ef\" stroke=\"#000000\" points=\"3152,-393 3012,-393 3012,-310 3152,-310 3152,-393\"/>\n<text text-anchor=\"start\" x=\"3047.5\" y=\"-377.8\" font-family=\"Times,serif\" font-size=\"14.00\" fill=\"#000000\">sex_F ≤ 0.5</text>\n<text text-anchor=\"start\" x=\"3045.5\" y=\"-362.8\" font-family=\"Times,serif\" font-size=\"14.00\" fill=\"#000000\">gini = 0.499</text>\n<text text-anchor=\"start\" x=\"3032.5\" y=\"-347.8\" font-family=\"Times,serif\" font-size=\"14.00\" fill=\"#000000\">samples = 17012</text>\n<text text-anchor=\"start\" x=\"3020\" y=\"-332.8\" font-family=\"Times,serif\" font-size=\"14.00\" fill=\"#000000\">value = [8863, 8149]</text>\n<text text-anchor=\"start\" x=\"3056\" y=\"-317.8\" font-family=\"Times,serif\" font-size=\"14.00\" fill=\"#000000\">class = A</text>\n</g>\n<!-- 2437&#45;&gt;2839 -->\n<g id=\"edge77\" class=\"edge\">\n<title>2437&#45;&gt;2839</title>\n<path fill=\"none\" stroke=\"#000000\" d=\"M3032.5811,-428.8796C3038.1605,-420.1434 3044.1019,-410.8404 3049.8595,-401.8253\"/>\n<polygon fill=\"#000000\" stroke=\"#000000\" points=\"3052.8726,-403.6098 3055.3054,-393.2981 3046.9731,-399.8421 3052.8726,-403.6098\"/>\n</g>\n<!-- 2439 -->\n<g id=\"node64\" class=\"node\">\n<title>2439</title>\n<polygon fill=\"#f4caac\" stroke=\"#000000\" points=\"2615,-274 2487,-274 2487,-191 2615,-191 2615,-274\"/>\n<text text-anchor=\"start\" x=\"2495\" y=\"-258.8\" font-family=\"Times,serif\" font-size=\"14.00\" fill=\"#000000\">ycoord ≤ 228597.5</text>\n<text text-anchor=\"start\" x=\"2514.5\" y=\"-243.8\" font-family=\"Times,serif\" font-size=\"14.00\" fill=\"#000000\">gini = 0.465</text>\n<text text-anchor=\"start\" x=\"2509\" y=\"-228.8\" font-family=\"Times,serif\" font-size=\"14.00\" fill=\"#000000\">samples = 734</text>\n<text text-anchor=\"start\" x=\"2496.5\" y=\"-213.8\" font-family=\"Times,serif\" font-size=\"14.00\" fill=\"#000000\">value = [464, 270]</text>\n<text text-anchor=\"start\" x=\"2525\" y=\"-198.8\" font-family=\"Times,serif\" font-size=\"14.00\" fill=\"#000000\">class = A</text>\n</g>\n<!-- 2438&#45;&gt;2439 -->\n<g id=\"edge63\" class=\"edge\">\n<title>2438&#45;&gt;2439</title>\n<path fill=\"none\" stroke=\"#000000\" d=\"M2708.7321,-314.8251C2681.9296,-300.8361 2651.3258,-284.863 2624.2526,-270.7327\"/>\n<polygon fill=\"#000000\" stroke=\"#000000\" points=\"2625.7018,-267.5411 2615.2172,-266.0168 2622.4629,-273.7467 2625.7018,-267.5411\"/>\n</g>\n<!-- 2464 -->\n<g id=\"node71\" class=\"node\">\n<title>2464</title>\n<polygon fill=\"#c8e4f8\" stroke=\"#000000\" points=\"2849,-274 2709,-274 2709,-191 2849,-191 2849,-274\"/>\n<text text-anchor=\"start\" x=\"2744.5\" y=\"-258.8\" font-family=\"Times,serif\" font-size=\"14.00\" fill=\"#000000\">sex_F ≤ 0.5</text>\n<text text-anchor=\"start\" x=\"2742.5\" y=\"-243.8\" font-family=\"Times,serif\" font-size=\"14.00\" fill=\"#000000\">gini = 0.487</text>\n<text text-anchor=\"start\" x=\"2729.5\" y=\"-228.8\" font-family=\"Times,serif\" font-size=\"14.00\" fill=\"#000000\">samples = 12237</text>\n<text text-anchor=\"start\" x=\"2717\" y=\"-213.8\" font-family=\"Times,serif\" font-size=\"14.00\" fill=\"#000000\">value = [5137, 7100]</text>\n<text text-anchor=\"start\" x=\"2752.5\" y=\"-198.8\" font-family=\"Times,serif\" font-size=\"14.00\" fill=\"#000000\">class = U</text>\n</g>\n<!-- 2438&#45;&gt;2464 -->\n<g id=\"edge70\" class=\"edge\">\n<title>2438&#45;&gt;2464</title>\n<path fill=\"none\" stroke=\"#000000\" d=\"M2779,-309.8796C2779,-301.6838 2779,-292.9891 2779,-284.5013\"/>\n<polygon fill=\"#000000\" stroke=\"#000000\" points=\"2782.5001,-284.298 2779,-274.2981 2775.5001,-284.2981 2782.5001,-284.298\"/>\n</g>\n<!-- 2440 -->\n<g id=\"node65\" class=\"node\">\n<title>2440</title>\n<polygon fill=\"#e2f1fb\" stroke=\"#000000\" points=\"2468.5,-155 2351.5,-155 2351.5,-72 2468.5,-72 2468.5,-155\"/>\n<text text-anchor=\"start\" x=\"2379.5\" y=\"-139.8\" font-family=\"Times,serif\" font-size=\"14.00\" fill=\"#000000\">age ≤ 14.5</text>\n<text text-anchor=\"start\" x=\"2373.5\" y=\"-124.8\" font-family=\"Times,serif\" font-size=\"14.00\" fill=\"#000000\">gini = 0.497</text>\n<text text-anchor=\"start\" x=\"2368\" y=\"-109.8\" font-family=\"Times,serif\" font-size=\"14.00\" fill=\"#000000\">samples = 202</text>\n<text text-anchor=\"start\" x=\"2359.5\" y=\"-94.8\" font-family=\"Times,serif\" font-size=\"14.00\" fill=\"#000000\">value = [93, 109]</text>\n<text text-anchor=\"start\" x=\"2383.5\" y=\"-79.8\" font-family=\"Times,serif\" font-size=\"14.00\" fill=\"#000000\">class = U</text>\n</g>\n<!-- 2439&#45;&gt;2440 -->\n<g id=\"edge64\" class=\"edge\">\n<title>2439&#45;&gt;2440</title>\n<path fill=\"none\" stroke=\"#000000\" d=\"M2501.685,-190.8796C2490.5868,-181.513 2478.7165,-171.4948 2467.3223,-161.8784\"/>\n<polygon fill=\"#000000\" stroke=\"#000000\" points=\"2469.425,-159.0731 2459.5254,-155.2981 2464.9101,-164.4225 2469.425,-159.0731\"/>\n</g>\n<!-- 2447 -->\n<g id=\"node68\" class=\"node\">\n<title>2447</title>\n<polygon fill=\"#f0b88f\" stroke=\"#000000\" points=\"2615,-155 2487,-155 2487,-72 2615,-72 2615,-155\"/>\n<text text-anchor=\"start\" x=\"2495\" y=\"-139.8\" font-family=\"Times,serif\" font-size=\"14.00\" fill=\"#000000\">ycoord ≤ 244442.0</text>\n<text text-anchor=\"start\" x=\"2514.5\" y=\"-124.8\" font-family=\"Times,serif\" font-size=\"14.00\" fill=\"#000000\">gini = 0.422</text>\n<text text-anchor=\"start\" x=\"2509\" y=\"-109.8\" font-family=\"Times,serif\" font-size=\"14.00\" fill=\"#000000\">samples = 532</text>\n<text text-anchor=\"start\" x=\"2496.5\" y=\"-94.8\" font-family=\"Times,serif\" font-size=\"14.00\" fill=\"#000000\">value = [371, 161]</text>\n<text text-anchor=\"start\" x=\"2525\" y=\"-79.8\" font-family=\"Times,serif\" font-size=\"14.00\" fill=\"#000000\">class = A</text>\n</g>\n<!-- 2439&#45;&gt;2447 -->\n<g id=\"edge67\" class=\"edge\">\n<title>2439&#45;&gt;2447</title>\n<path fill=\"none\" stroke=\"#000000\" d=\"M2551,-190.8796C2551,-182.6838 2551,-173.9891 2551,-165.5013\"/>\n<polygon fill=\"#000000\" stroke=\"#000000\" points=\"2554.5001,-165.298 2551,-155.2981 2547.5001,-165.2981 2554.5001,-165.298\"/>\n</g>\n<!-- 2441 -->\n<g id=\"node66\" class=\"node\">\n<title>2441</title>\n<polygon fill=\"#c0c0c0\" stroke=\"#000000\" points=\"2366,-36 2312,-36 2312,0 2366,0 2366,-36\"/>\n<text text-anchor=\"middle\" x=\"2339\" y=\"-14.3\" font-family=\"Times,serif\" font-size=\"14.00\" fill=\"#000000\">(...)</text>\n</g>\n<!-- 2440&#45;&gt;2441 -->\n<g id=\"edge65\" class=\"edge\">\n<title>2440&#45;&gt;2441</title>\n<path fill=\"none\" stroke=\"#000000\" d=\"M2379.0649,-71.8901C2372.1142,-62.541 2364.9262,-52.8725 2358.5905,-44.3506\"/>\n<polygon fill=\"#000000\" stroke=\"#000000\" points=\"2361.3545,-42.202 2352.5793,-36.2651 2355.7369,-46.3785 2361.3545,-42.202\"/>\n</g>\n<!-- 2444 -->\n<g id=\"node67\" class=\"node\">\n<title>2444</title>\n<polygon fill=\"#c0c0c0\" stroke=\"#000000\" points=\"2438,-36 2384,-36 2384,0 2438,0 2438,-36\"/>\n<text text-anchor=\"middle\" x=\"2411\" y=\"-14.3\" font-family=\"Times,serif\" font-size=\"14.00\" fill=\"#000000\">(...)</text>\n</g>\n<!-- 2440&#45;&gt;2444 -->\n<g id=\"edge66\" class=\"edge\">\n<title>2440&#45;&gt;2444</title>\n<path fill=\"none\" stroke=\"#000000\" d=\"M2410.4357,-71.8901C2410.5254,-63.3201 2410.618,-54.4817 2410.7015,-46.5041\"/>\n<polygon fill=\"#000000\" stroke=\"#000000\" points=\"2414.2037,-46.3012 2410.8087,-36.2651 2407.2041,-46.2279 2414.2037,-46.3012\"/>\n</g>\n<!-- 2448 -->\n<g id=\"node69\" class=\"node\">\n<title>2448</title>\n<polygon fill=\"#c0c0c0\" stroke=\"#000000\" points=\"2512,-36 2458,-36 2458,0 2512,0 2512,-36\"/>\n<text text-anchor=\"middle\" x=\"2485\" y=\"-14.3\" font-family=\"Times,serif\" font-size=\"14.00\" fill=\"#000000\">(...)</text>\n</g>\n<!-- 2447&#45;&gt;2448 -->\n<g id=\"edge68\" class=\"edge\">\n<title>2447&#45;&gt;2448</title>\n<path fill=\"none\" stroke=\"#000000\" d=\"M2522.2434,-71.8901C2515.8495,-62.6384 2509.2396,-53.0739 2503.3952,-44.6173\"/>\n<polygon fill=\"#000000\" stroke=\"#000000\" points=\"2506.1877,-42.5018 2497.623,-36.2651 2500.4291,-46.4816 2506.1877,-42.5018\"/>\n</g>\n<!-- 2463 -->\n<g id=\"node70\" class=\"node\">\n<title>2463</title>\n<polygon fill=\"#c0c0c0\" stroke=\"#000000\" points=\"2584,-36 2530,-36 2530,0 2584,0 2584,-36\"/>\n<text text-anchor=\"middle\" x=\"2557\" y=\"-14.3\" font-family=\"Times,serif\" font-size=\"14.00\" fill=\"#000000\">(...)</text>\n</g>\n<!-- 2447&#45;&gt;2463 -->\n<g id=\"edge69\" class=\"edge\">\n<title>2447&#45;&gt;2463</title>\n<path fill=\"none\" stroke=\"#000000\" d=\"M2553.6142,-71.8901C2554.1527,-63.3201 2554.708,-54.4817 2555.2092,-46.5041\"/>\n<polygon fill=\"#000000\" stroke=\"#000000\" points=\"2558.7184,-46.4649 2555.8525,-36.2651 2551.7322,-46.0259 2558.7184,-46.4649\"/>\n</g>\n<!-- 2465 -->\n<g id=\"node72\" class=\"node\">\n<title>2465</title>\n<polygon fill=\"#cde6f8\" stroke=\"#000000\" points=\"2773,-155 2633,-155 2633,-72 2773,-72 2773,-155\"/>\n<text text-anchor=\"start\" x=\"2666\" y=\"-139.8\" font-family=\"Times,serif\" font-size=\"14.00\" fill=\"#000000\">race_B ≤ 0.5</text>\n<text text-anchor=\"start\" x=\"2670.5\" y=\"-124.8\" font-family=\"Times,serif\" font-size=\"14.00\" fill=\"#000000\">gini = 0.49</text>\n<text text-anchor=\"start\" x=\"2654\" y=\"-109.8\" font-family=\"Times,serif\" font-size=\"14.00\" fill=\"#000000\">samples = 11263</text>\n<text text-anchor=\"start\" x=\"2641\" y=\"-94.8\" font-family=\"Times,serif\" font-size=\"14.00\" fill=\"#000000\">value = [4819, 6444]</text>\n<text text-anchor=\"start\" x=\"2676.5\" y=\"-79.8\" font-family=\"Times,serif\" font-size=\"14.00\" fill=\"#000000\">class = U</text>\n</g>\n<!-- 2464&#45;&gt;2465 -->\n<g id=\"edge71\" class=\"edge\">\n<title>2464&#45;&gt;2465</title>\n<path fill=\"none\" stroke=\"#000000\" d=\"M2752.4189,-190.8796C2746.8395,-182.1434 2740.8981,-172.8404 2735.1405,-163.8253\"/>\n<polygon fill=\"#000000\" stroke=\"#000000\" points=\"2738.0269,-161.8421 2729.6946,-155.2981 2732.1274,-165.6098 2738.0269,-161.8421\"/>\n</g>\n<!-- 2810 -->\n<g id=\"node75\" class=\"node\">\n<title>2810</title>\n<polygon fill=\"#99cdf2\" stroke=\"#000000\" points=\"2919,-155 2791,-155 2791,-72 2919,-72 2919,-155\"/>\n<text text-anchor=\"start\" x=\"2799\" y=\"-139.8\" font-family=\"Times,serif\" font-size=\"14.00\" fill=\"#000000\">xcoord ≤ 991284.0</text>\n<text text-anchor=\"start\" x=\"2822.5\" y=\"-124.8\" font-family=\"Times,serif\" font-size=\"14.00\" fill=\"#000000\">gini = 0.44</text>\n<text text-anchor=\"start\" x=\"2813\" y=\"-109.8\" font-family=\"Times,serif\" font-size=\"14.00\" fill=\"#000000\">samples = 974</text>\n<text text-anchor=\"start\" x=\"2800.5\" y=\"-94.8\" font-family=\"Times,serif\" font-size=\"14.00\" fill=\"#000000\">value = [318, 656]</text>\n<text text-anchor=\"start\" x=\"2828.5\" y=\"-79.8\" font-family=\"Times,serif\" font-size=\"14.00\" fill=\"#000000\">class = U</text>\n</g>\n<!-- 2464&#45;&gt;2810 -->\n<g id=\"edge74\" class=\"edge\">\n<title>2464&#45;&gt;2810</title>\n<path fill=\"none\" stroke=\"#000000\" d=\"M2805.5811,-190.8796C2811.1605,-182.1434 2817.1019,-172.8404 2822.8595,-163.8253\"/>\n<polygon fill=\"#000000\" stroke=\"#000000\" points=\"2825.8726,-165.6098 2828.3054,-155.2981 2819.9731,-161.8421 2825.8726,-165.6098\"/>\n</g>\n<!-- 2466 -->\n<g id=\"node73\" class=\"node\">\n<title>2466</title>\n<polygon fill=\"#c0c0c0\" stroke=\"#000000\" points=\"2664,-36 2610,-36 2610,0 2664,0 2664,-36\"/>\n<text text-anchor=\"middle\" x=\"2637\" y=\"-14.3\" font-family=\"Times,serif\" font-size=\"14.00\" fill=\"#000000\">(...)</text>\n</g>\n<!-- 2465&#45;&gt;2466 -->\n<g id=\"edge72\" class=\"edge\">\n<title>2465&#45;&gt;2466</title>\n<path fill=\"none\" stroke=\"#000000\" d=\"M2674.2434,-71.8901C2667.8495,-62.6384 2661.2396,-53.0739 2655.3952,-44.6173\"/>\n<polygon fill=\"#000000\" stroke=\"#000000\" points=\"2658.1877,-42.5018 2649.623,-36.2651 2652.4291,-46.4816 2658.1877,-42.5018\"/>\n</g>\n<!-- 2623 -->\n<g id=\"node74\" class=\"node\">\n<title>2623</title>\n<polygon fill=\"#c0c0c0\" stroke=\"#000000\" points=\"2736,-36 2682,-36 2682,0 2736,0 2736,-36\"/>\n<text text-anchor=\"middle\" x=\"2709\" y=\"-14.3\" font-family=\"Times,serif\" font-size=\"14.00\" fill=\"#000000\">(...)</text>\n</g>\n<!-- 2465&#45;&gt;2623 -->\n<g id=\"edge73\" class=\"edge\">\n<title>2465&#45;&gt;2623</title>\n<path fill=\"none\" stroke=\"#000000\" d=\"M2705.6142,-71.8901C2706.1527,-63.3201 2706.708,-54.4817 2707.2092,-46.5041\"/>\n<polygon fill=\"#000000\" stroke=\"#000000\" points=\"2710.7184,-46.4649 2707.8525,-36.2651 2703.7322,-46.0259 2710.7184,-46.4649\"/>\n</g>\n<!-- 2811 -->\n<g id=\"node76\" class=\"node\">\n<title>2811</title>\n<polygon fill=\"#c0c0c0\" stroke=\"#000000\" points=\"2848,-36 2794,-36 2794,0 2848,0 2848,-36\"/>\n<text text-anchor=\"middle\" x=\"2821\" y=\"-14.3\" font-family=\"Times,serif\" font-size=\"14.00\" fill=\"#000000\">(...)</text>\n</g>\n<!-- 2810&#45;&gt;2811 -->\n<g id=\"edge75\" class=\"edge\">\n<title>2810&#45;&gt;2811</title>\n<path fill=\"none\" stroke=\"#000000\" d=\"M2840.186,-71.8901C2837.0309,-63.0279 2833.7736,-53.8788 2830.8587,-45.6913\"/>\n<polygon fill=\"#000000\" stroke=\"#000000\" points=\"2834.1541,-44.512 2827.5028,-36.2651 2827.5595,-46.8598 2834.1541,-44.512\"/>\n</g>\n<!-- 2812 -->\n<g id=\"node77\" class=\"node\">\n<title>2812</title>\n<polygon fill=\"#c0c0c0\" stroke=\"#000000\" points=\"2920,-36 2866,-36 2866,0 2920,0 2920,-36\"/>\n<text text-anchor=\"middle\" x=\"2893\" y=\"-14.3\" font-family=\"Times,serif\" font-size=\"14.00\" fill=\"#000000\">(...)</text>\n</g>\n<!-- 2810&#45;&gt;2812 -->\n<g id=\"edge76\" class=\"edge\">\n<title>2810&#45;&gt;2812</title>\n<path fill=\"none\" stroke=\"#000000\" d=\"M2871.5568,-71.8901C2875.0831,-63.0279 2878.7236,-53.8788 2881.9815,-45.6913\"/>\n<polygon fill=\"#000000\" stroke=\"#000000\" points=\"2885.287,-46.8506 2885.7322,-36.2651 2878.783,-44.2626 2885.287,-46.8506\"/>\n</g>\n<!-- 2840 -->\n<g id=\"node79\" class=\"node\">\n<title>2840</title>\n<polygon fill=\"#fcefe6\" stroke=\"#000000\" points=\"3152,-274 3012,-274 3012,-191 3152,-191 3152,-274\"/>\n<text text-anchor=\"start\" x=\"3026\" y=\"-258.8\" font-family=\"Times,serif\" font-size=\"14.00\" fill=\"#000000\">ycoord ≤ 252896.0</text>\n<text text-anchor=\"start\" x=\"3045.5\" y=\"-243.8\" font-family=\"Times,serif\" font-size=\"14.00\" fill=\"#000000\">gini = 0.498</text>\n<text text-anchor=\"start\" x=\"3032.5\" y=\"-228.8\" font-family=\"Times,serif\" font-size=\"14.00\" fill=\"#000000\">samples = 15586</text>\n<text text-anchor=\"start\" x=\"3020\" y=\"-213.8\" font-family=\"Times,serif\" font-size=\"14.00\" fill=\"#000000\">value = [8324, 7262]</text>\n<text text-anchor=\"start\" x=\"3056\" y=\"-198.8\" font-family=\"Times,serif\" font-size=\"14.00\" fill=\"#000000\">class = A</text>\n</g>\n<!-- 2839&#45;&gt;2840 -->\n<g id=\"edge78\" class=\"edge\">\n<title>2839&#45;&gt;2840</title>\n<path fill=\"none\" stroke=\"#000000\" d=\"M3082,-309.8796C3082,-301.6838 3082,-292.9891 3082,-284.5013\"/>\n<polygon fill=\"#000000\" stroke=\"#000000\" points=\"3085.5001,-284.298 3082,-274.2981 3078.5001,-284.2981 3085.5001,-284.298\"/>\n</g>\n<!-- 3321 -->\n<g id=\"node86\" class=\"node\">\n<title>3321</title>\n<polygon fill=\"#b1d9f5\" stroke=\"#000000\" points=\"3370.5,-274 3245.5,-274 3245.5,-191 3370.5,-191 3370.5,-274\"/>\n<text text-anchor=\"start\" x=\"3277.5\" y=\"-258.8\" font-family=\"Times,serif\" font-size=\"14.00\" fill=\"#000000\">age ≤ 15.5</text>\n<text text-anchor=\"start\" x=\"3275.5\" y=\"-243.8\" font-family=\"Times,serif\" font-size=\"14.00\" fill=\"#000000\">gini = 0.47</text>\n<text text-anchor=\"start\" x=\"3262.5\" y=\"-228.8\" font-family=\"Times,serif\" font-size=\"14.00\" fill=\"#000000\">samples = 1426</text>\n<text text-anchor=\"start\" x=\"3253.5\" y=\"-213.8\" font-family=\"Times,serif\" font-size=\"14.00\" fill=\"#000000\">value = [539, 887]</text>\n<text text-anchor=\"start\" x=\"3281.5\" y=\"-198.8\" font-family=\"Times,serif\" font-size=\"14.00\" fill=\"#000000\">class = U</text>\n</g>\n<!-- 2839&#45;&gt;3321 -->\n<g id=\"edge85\" class=\"edge\">\n<title>2839&#45;&gt;3321</title>\n<path fill=\"none\" stroke=\"#000000\" d=\"M3152.269,-314.5C3179.0446,-300.4013 3209.5741,-284.326 3236.4659,-270.1662\"/>\n<polygon fill=\"#000000\" stroke=\"#000000\" points=\"3238.2179,-273.1993 3245.4355,-265.4432 3234.9565,-267.0054 3238.2179,-273.1993\"/>\n</g>\n<!-- 2841 -->\n<g id=\"node80\" class=\"node\">\n<title>2841</title>\n<polygon fill=\"#f9e3d4\" stroke=\"#000000\" points=\"3077,-155 2937,-155 2937,-72 3077,-72 3077,-155\"/>\n<text text-anchor=\"start\" x=\"2947\" y=\"-139.8\" font-family=\"Times,serif\" font-size=\"14.00\" fill=\"#000000\">xcoord ≤ 1013279.0</text>\n<text text-anchor=\"start\" x=\"2970.5\" y=\"-124.8\" font-family=\"Times,serif\" font-size=\"14.00\" fill=\"#000000\">gini = 0.492</text>\n<text text-anchor=\"start\" x=\"2958\" y=\"-109.8\" font-family=\"Times,serif\" font-size=\"14.00\" fill=\"#000000\">samples = 11269</text>\n<text text-anchor=\"start\" x=\"2945\" y=\"-94.8\" font-family=\"Times,serif\" font-size=\"14.00\" fill=\"#000000\">value = [6328, 4941]</text>\n<text text-anchor=\"start\" x=\"2981\" y=\"-79.8\" font-family=\"Times,serif\" font-size=\"14.00\" fill=\"#000000\">class = A</text>\n</g>\n<!-- 2840&#45;&gt;2841 -->\n<g id=\"edge79\" class=\"edge\">\n<title>2840&#45;&gt;2841</title>\n<path fill=\"none\" stroke=\"#000000\" d=\"M3055.7686,-190.8796C3050.2627,-182.1434 3044.3994,-172.8404 3038.7176,-163.8253\"/>\n<polygon fill=\"#000000\" stroke=\"#000000\" points=\"3041.6363,-161.8919 3033.3433,-155.2981 3035.7143,-165.6242 3041.6363,-161.8919\"/>\n</g>\n<!-- 3192 -->\n<g id=\"node83\" class=\"node\">\n<title>3192</title>\n<polygon fill=\"#e3f1fb\" stroke=\"#000000\" points=\"3235,-155 3095,-155 3095,-72 3235,-72 3235,-155\"/>\n<text text-anchor=\"start\" x=\"3105\" y=\"-139.8\" font-family=\"Times,serif\" font-size=\"14.00\" fill=\"#000000\">xcoord ≤ 1010604.0</text>\n<text text-anchor=\"start\" x=\"3128.5\" y=\"-124.8\" font-family=\"Times,serif\" font-size=\"14.00\" fill=\"#000000\">gini = 0.497</text>\n<text text-anchor=\"start\" x=\"3119.5\" y=\"-109.8\" font-family=\"Times,serif\" font-size=\"14.00\" fill=\"#000000\">samples = 4317</text>\n<text text-anchor=\"start\" x=\"3103\" y=\"-94.8\" font-family=\"Times,serif\" font-size=\"14.00\" fill=\"#000000\">value = [1996, 2321]</text>\n<text text-anchor=\"start\" x=\"3138.5\" y=\"-79.8\" font-family=\"Times,serif\" font-size=\"14.00\" fill=\"#000000\">class = U</text>\n</g>\n<!-- 2840&#45;&gt;3192 -->\n<g id=\"edge82\" class=\"edge\">\n<title>2840&#45;&gt;3192</title>\n<path fill=\"none\" stroke=\"#000000\" d=\"M3111.0294,-190.8796C3117.1855,-182.0534 3123.7451,-172.6485 3130.0936,-163.5466\"/>\n<polygon fill=\"#000000\" stroke=\"#000000\" points=\"3132.9967,-165.5024 3135.8467,-155.2981 3127.2552,-161.4978 3132.9967,-165.5024\"/>\n</g>\n<!-- 2842 -->\n<g id=\"node81\" class=\"node\">\n<title>2842</title>\n<polygon fill=\"#c0c0c0\" stroke=\"#000000\" points=\"2996,-36 2942,-36 2942,0 2996,0 2996,-36\"/>\n<text text-anchor=\"middle\" x=\"2969\" y=\"-14.3\" font-family=\"Times,serif\" font-size=\"14.00\" fill=\"#000000\">(...)</text>\n</g>\n<!-- 2841&#45;&gt;2842 -->\n<g id=\"edge80\" class=\"edge\">\n<title>2841&#45;&gt;2842</title>\n<path fill=\"none\" stroke=\"#000000\" d=\"M2990.4432,-71.8901C2986.9169,-63.0279 2983.2764,-53.8788 2980.0185,-45.6913\"/>\n<polygon fill=\"#000000\" stroke=\"#000000\" points=\"2983.217,-44.2626 2976.2678,-36.2651 2976.713,-46.8506 2983.217,-44.2626\"/>\n</g>\n<!-- 3051 -->\n<g id=\"node82\" class=\"node\">\n<title>3051</title>\n<polygon fill=\"#c0c0c0\" stroke=\"#000000\" points=\"3068,-36 3014,-36 3014,0 3068,0 3068,-36\"/>\n<text text-anchor=\"middle\" x=\"3041\" y=\"-14.3\" font-family=\"Times,serif\" font-size=\"14.00\" fill=\"#000000\">(...)</text>\n</g>\n<!-- 2841&#45;&gt;3051 -->\n<g id=\"edge81\" class=\"edge\">\n<title>2841&#45;&gt;3051</title>\n<path fill=\"none\" stroke=\"#000000\" d=\"M3021.814,-71.8901C3024.9691,-63.0279 3028.2264,-53.8788 3031.1413,-45.6913\"/>\n<polygon fill=\"#000000\" stroke=\"#000000\" points=\"3034.4405,-46.8598 3034.4972,-36.2651 3027.8459,-44.512 3034.4405,-46.8598\"/>\n</g>\n<!-- 3193 -->\n<g id=\"node84\" class=\"node\">\n<title>3193</title>\n<polygon fill=\"#c0c0c0\" stroke=\"#000000\" points=\"3166,-36 3112,-36 3112,0 3166,0 3166,-36\"/>\n<text text-anchor=\"middle\" x=\"3139\" y=\"-14.3\" font-family=\"Times,serif\" font-size=\"14.00\" fill=\"#000000\">(...)</text>\n</g>\n<!-- 3192&#45;&gt;3193 -->\n<g id=\"edge83\" class=\"edge\">\n<title>3192&#45;&gt;3193</title>\n<path fill=\"none\" stroke=\"#000000\" d=\"M3153.6717,-71.8901C3151.2854,-63.1253 3148.8228,-54.0798 3146.6126,-45.9615\"/>\n<polygon fill=\"#000000\" stroke=\"#000000\" points=\"3149.9768,-44.9945 3143.9727,-36.2651 3143.2226,-46.8333 3149.9768,-44.9945\"/>\n</g>\n<!-- 3208 -->\n<g id=\"node85\" class=\"node\">\n<title>3208</title>\n<polygon fill=\"#c0c0c0\" stroke=\"#000000\" points=\"3238,-36 3184,-36 3184,0 3238,0 3238,-36\"/>\n<text text-anchor=\"middle\" x=\"3211\" y=\"-14.3\" font-family=\"Times,serif\" font-size=\"14.00\" fill=\"#000000\">(...)</text>\n</g>\n<!-- 3192&#45;&gt;3208 -->\n<g id=\"edge84\" class=\"edge\">\n<title>3192&#45;&gt;3208</title>\n<path fill=\"none\" stroke=\"#000000\" d=\"M3185.0425,-71.8901C3189.3581,-62.9305 3193.8149,-53.6777 3197.7917,-45.4217\"/>\n<polygon fill=\"#000000\" stroke=\"#000000\" points=\"3201.0158,-46.7933 3202.2021,-36.2651 3194.7092,-43.7556 3201.0158,-46.7933\"/>\n</g>\n<!-- 3322 -->\n<g id=\"node87\" class=\"node\">\n<title>3322</title>\n<polygon fill=\"#f7d8c1\" stroke=\"#000000\" points=\"3363,-147.5 3253,-147.5 3253,-79.5 3363,-79.5 3363,-147.5\"/>\n<text text-anchor=\"start\" x=\"3271.5\" y=\"-132.3\" font-family=\"Times,serif\" font-size=\"14.00\" fill=\"#000000\">gini = 0.483</text>\n<text text-anchor=\"start\" x=\"3270\" y=\"-117.3\" font-family=\"Times,serif\" font-size=\"14.00\" fill=\"#000000\">samples = 76</text>\n<text text-anchor=\"start\" x=\"3261\" y=\"-102.3\" font-family=\"Times,serif\" font-size=\"14.00\" fill=\"#000000\">value = [45, 31]</text>\n<text text-anchor=\"start\" x=\"3282\" y=\"-87.3\" font-family=\"Times,serif\" font-size=\"14.00\" fill=\"#000000\">class = A</text>\n</g>\n<!-- 3321&#45;&gt;3322 -->\n<g id=\"edge86\" class=\"edge\">\n<title>3321&#45;&gt;3322</title>\n<path fill=\"none\" stroke=\"#000000\" d=\"M3308,-190.8796C3308,-180.2134 3308,-168.7021 3308,-157.9015\"/>\n<polygon fill=\"#000000\" stroke=\"#000000\" points=\"3311.5001,-157.8149 3308,-147.8149 3304.5001,-157.815 3311.5001,-157.8149\"/>\n</g>\n<!-- 3323 -->\n<g id=\"node88\" class=\"node\">\n<title>3323</title>\n<polygon fill=\"#abd6f4\" stroke=\"#000000\" points=\"3517,-155 3381,-155 3381,-72 3517,-72 3517,-155\"/>\n<text text-anchor=\"start\" x=\"3389\" y=\"-139.8\" font-family=\"Times,serif\" font-size=\"14.00\" fill=\"#000000\">xcoord ≤ 1014466.5</text>\n<text text-anchor=\"start\" x=\"3412.5\" y=\"-124.8\" font-family=\"Times,serif\" font-size=\"14.00\" fill=\"#000000\">gini = 0.464</text>\n<text text-anchor=\"start\" x=\"3403.5\" y=\"-109.8\" font-family=\"Times,serif\" font-size=\"14.00\" fill=\"#000000\">samples = 1350</text>\n<text text-anchor=\"start\" x=\"3394.5\" y=\"-94.8\" font-family=\"Times,serif\" font-size=\"14.00\" fill=\"#000000\">value = [494, 856]</text>\n<text text-anchor=\"start\" x=\"3422.5\" y=\"-79.8\" font-family=\"Times,serif\" font-size=\"14.00\" fill=\"#000000\">class = U</text>\n</g>\n<!-- 3321&#45;&gt;3323 -->\n<g id=\"edge87\" class=\"edge\">\n<title>3321&#45;&gt;3323</title>\n<path fill=\"none\" stroke=\"#000000\" d=\"M3357.315,-190.8796C3368.4132,-181.513 3380.2835,-171.4948 3391.6777,-161.8784\"/>\n<polygon fill=\"#000000\" stroke=\"#000000\" points=\"3394.0899,-164.4225 3399.4746,-155.2981 3389.575,-159.0731 3394.0899,-164.4225\"/>\n</g>\n<!-- 3324 -->\n<g id=\"node89\" class=\"node\">\n<title>3324</title>\n<polygon fill=\"#c0c0c0\" stroke=\"#000000\" points=\"3408,-36 3354,-36 3354,0 3408,0 3408,-36\"/>\n<text text-anchor=\"middle\" x=\"3381\" y=\"-14.3\" font-family=\"Times,serif\" font-size=\"14.00\" fill=\"#000000\">(...)</text>\n</g>\n<!-- 3323&#45;&gt;3324 -->\n<g id=\"edge88\" class=\"edge\">\n<title>3323&#45;&gt;3324</title>\n<path fill=\"none\" stroke=\"#000000\" d=\"M3419.372,-71.8901C3412.7844,-62.6384 3405.9741,-53.0739 3399.9526,-44.6173\"/>\n<polygon fill=\"#000000\" stroke=\"#000000\" points=\"3402.6569,-42.381 3394.0055,-36.2651 3396.9547,-46.4412 3402.6569,-42.381\"/>\n</g>\n<!-- 3341 -->\n<g id=\"node90\" class=\"node\">\n<title>3341</title>\n<polygon fill=\"#c0c0c0\" stroke=\"#000000\" points=\"3480,-36 3426,-36 3426,0 3480,0 3480,-36\"/>\n<text text-anchor=\"middle\" x=\"3453\" y=\"-14.3\" font-family=\"Times,serif\" font-size=\"14.00\" fill=\"#000000\">(...)</text>\n</g>\n<!-- 3323&#45;&gt;3341 -->\n<g id=\"edge89\" class=\"edge\">\n<title>3323&#45;&gt;3341</title>\n<path fill=\"none\" stroke=\"#000000\" d=\"M3450.7428,-71.8901C3451.1018,-63.3201 3451.472,-54.4817 3451.8061,-46.5041\"/>\n<polygon fill=\"#000000\" stroke=\"#000000\" points=\"3455.3133,-46.4028 3452.235,-36.2651 3448.3195,-46.1098 3455.3133,-46.4028\"/>\n</g>\n<!-- 3361 -->\n<g id=\"node92\" class=\"node\">\n<title>3361</title>\n<polygon fill=\"#96cbf1\" stroke=\"#000000\" points=\"3894,-393 3754,-393 3754,-310 3894,-310 3894,-393\"/>\n<text text-anchor=\"start\" x=\"3768\" y=\"-377.8\" font-family=\"Times,serif\" font-size=\"14.00\" fill=\"#000000\">xcoord ≤ 999551.5</text>\n<text text-anchor=\"start\" x=\"3787.5\" y=\"-362.8\" font-family=\"Times,serif\" font-size=\"14.00\" fill=\"#000000\">gini = 0.434</text>\n<text text-anchor=\"start\" x=\"3778.5\" y=\"-347.8\" font-family=\"Times,serif\" font-size=\"14.00\" fill=\"#000000\">samples = 6890</text>\n<text text-anchor=\"start\" x=\"3762\" y=\"-332.8\" font-family=\"Times,serif\" font-size=\"14.00\" fill=\"#000000\">value = [2196, 4694]</text>\n<text text-anchor=\"start\" x=\"3797.5\" y=\"-317.8\" font-family=\"Times,serif\" font-size=\"14.00\" fill=\"#000000\">class = U</text>\n</g>\n<!-- 3360&#45;&gt;3361 -->\n<g id=\"edge91\" class=\"edge\">\n<title>3360&#45;&gt;3361</title>\n<path fill=\"none\" stroke=\"#000000\" d=\"M3824,-428.8796C3824,-420.6838 3824,-411.9891 3824,-403.5013\"/>\n<polygon fill=\"#000000\" stroke=\"#000000\" points=\"3827.5001,-403.298 3824,-393.2981 3820.5001,-403.2981 3827.5001,-403.298\"/>\n</g>\n<!-- 3570 -->\n<g id=\"node107\" class=\"node\">\n<title>3570</title>\n<polygon fill=\"#c3e1f7\" stroke=\"#000000\" points=\"4318,-393 4178,-393 4178,-310 4318,-310 4318,-393\"/>\n<text text-anchor=\"start\" x=\"4192\" y=\"-377.8\" font-family=\"Times,serif\" font-size=\"14.00\" fill=\"#000000\">ycoord ≤ 226568.0</text>\n<text text-anchor=\"start\" x=\"4211.5\" y=\"-362.8\" font-family=\"Times,serif\" font-size=\"14.00\" fill=\"#000000\">gini = 0.484</text>\n<text text-anchor=\"start\" x=\"4202.5\" y=\"-347.8\" font-family=\"Times,serif\" font-size=\"14.00\" fill=\"#000000\">samples = 6761</text>\n<text text-anchor=\"start\" x=\"4186\" y=\"-332.8\" font-family=\"Times,serif\" font-size=\"14.00\" fill=\"#000000\">value = [2780, 3981]</text>\n<text text-anchor=\"start\" x=\"4221.5\" y=\"-317.8\" font-family=\"Times,serif\" font-size=\"14.00\" fill=\"#000000\">class = U</text>\n</g>\n<!-- 3360&#45;&gt;3570 -->\n<g id=\"edge106\" class=\"edge\">\n<title>3360&#45;&gt;3570</title>\n<path fill=\"none\" stroke=\"#000000\" d=\"M3894.015,-450.8496C3969.3532,-429.7051 4088.9656,-396.1347 4167.9731,-373.9604\"/>\n<polygon fill=\"#000000\" stroke=\"#000000\" points=\"4169.1988,-377.2517 4177.881,-371.1796 4167.3072,-370.5121 4169.1988,-377.2517\"/>\n</g>\n<!-- 3362 -->\n<g id=\"node93\" class=\"node\">\n<title>3362</title>\n<polygon fill=\"#acd6f4\" stroke=\"#000000\" points=\"3817,-274 3677,-274 3677,-191 3817,-191 3817,-274\"/>\n<text text-anchor=\"start\" x=\"3710.5\" y=\"-258.8\" font-family=\"Times,serif\" font-size=\"14.00\" fill=\"#000000\">perobs ≤ 3.5</text>\n<text text-anchor=\"start\" x=\"3710.5\" y=\"-243.8\" font-family=\"Times,serif\" font-size=\"14.00\" fill=\"#000000\">gini = 0.464</text>\n<text text-anchor=\"start\" x=\"3701.5\" y=\"-228.8\" font-family=\"Times,serif\" font-size=\"14.00\" fill=\"#000000\">samples = 3596</text>\n<text text-anchor=\"start\" x=\"3685\" y=\"-213.8\" font-family=\"Times,serif\" font-size=\"14.00\" fill=\"#000000\">value = [1318, 2278]</text>\n<text text-anchor=\"start\" x=\"3720.5\" y=\"-198.8\" font-family=\"Times,serif\" font-size=\"14.00\" fill=\"#000000\">class = U</text>\n</g>\n<!-- 3361&#45;&gt;3362 -->\n<g id=\"edge92\" class=\"edge\">\n<title>3361&#45;&gt;3362</title>\n<path fill=\"none\" stroke=\"#000000\" d=\"M3797.0691,-309.8796C3791.4163,-301.1434 3785.3967,-291.8404 3779.5634,-282.8253\"/>\n<polygon fill=\"#000000\" stroke=\"#000000\" points=\"3782.4169,-280.7924 3774.0458,-274.2981 3776.5399,-284.5952 3782.4169,-280.7924\"/>\n</g>\n<!-- 3475 -->\n<g id=\"node100\" class=\"node\">\n<title>3475</title>\n<polygon fill=\"#81c1ee\" stroke=\"#000000\" points=\"3967,-274 3835,-274 3835,-191 3967,-191 3967,-274\"/>\n<text text-anchor=\"start\" x=\"3845\" y=\"-258.8\" font-family=\"Times,serif\" font-size=\"14.00\" fill=\"#000000\">ycoord ≤ 229085.0</text>\n<text text-anchor=\"start\" x=\"3864.5\" y=\"-243.8\" font-family=\"Times,serif\" font-size=\"14.00\" fill=\"#000000\">gini = 0.391</text>\n<text text-anchor=\"start\" x=\"3855.5\" y=\"-228.8\" font-family=\"Times,serif\" font-size=\"14.00\" fill=\"#000000\">samples = 3294</text>\n<text text-anchor=\"start\" x=\"3843\" y=\"-213.8\" font-family=\"Times,serif\" font-size=\"14.00\" fill=\"#000000\">value = [878, 2416]</text>\n<text text-anchor=\"start\" x=\"3874.5\" y=\"-198.8\" font-family=\"Times,serif\" font-size=\"14.00\" fill=\"#000000\">class = U</text>\n</g>\n<!-- 3361&#45;&gt;3475 -->\n<g id=\"edge99\" class=\"edge\">\n<title>3361&#45;&gt;3475</title>\n<path fill=\"none\" stroke=\"#000000\" d=\"M3850.9309,-309.8796C3856.5837,-301.1434 3862.6033,-291.8404 3868.4366,-282.8253\"/>\n<polygon fill=\"#000000\" stroke=\"#000000\" points=\"3871.4601,-284.5952 3873.9542,-274.2981 3865.5831,-280.7924 3871.4601,-284.5952\"/>\n</g>\n<!-- 3363 -->\n<g id=\"node94\" class=\"node\">\n<title>3363</title>\n<polygon fill=\"#a2d1f3\" stroke=\"#000000\" points=\"3667,-155 3535,-155 3535,-72 3667,-72 3667,-155\"/>\n<text text-anchor=\"start\" x=\"3545\" y=\"-139.8\" font-family=\"Times,serif\" font-size=\"14.00\" fill=\"#000000\">ycoord ≤ 230131.0</text>\n<text text-anchor=\"start\" x=\"3564.5\" y=\"-124.8\" font-family=\"Times,serif\" font-size=\"14.00\" fill=\"#000000\">gini = 0.453</text>\n<text text-anchor=\"start\" x=\"3555.5\" y=\"-109.8\" font-family=\"Times,serif\" font-size=\"14.00\" fill=\"#000000\">samples = 2724</text>\n<text text-anchor=\"start\" x=\"3543\" y=\"-94.8\" font-family=\"Times,serif\" font-size=\"14.00\" fill=\"#000000\">value = [946, 1778]</text>\n<text text-anchor=\"start\" x=\"3574.5\" y=\"-79.8\" font-family=\"Times,serif\" font-size=\"14.00\" fill=\"#000000\">class = U</text>\n</g>\n<!-- 3362&#45;&gt;3363 -->\n<g id=\"edge93\" class=\"edge\">\n<title>3362&#45;&gt;3363</title>\n<path fill=\"none\" stroke=\"#000000\" d=\"M3695.9363,-190.8796C3684.4445,-181.513 3672.1532,-171.4948 3660.355,-161.8784\"/>\n<polygon fill=\"#000000\" stroke=\"#000000\" points=\"3662.2444,-158.903 3652.2817,-155.2981 3657.8218,-164.329 3662.2444,-158.903\"/>\n</g>\n<!-- 3450 -->\n<g id=\"node97\" class=\"node\">\n<title>3450</title>\n<polygon fill=\"#cce6f8\" stroke=\"#000000\" points=\"3813,-155 3685,-155 3685,-72 3813,-72 3813,-155\"/>\n<text text-anchor=\"start\" x=\"3693\" y=\"-139.8\" font-family=\"Times,serif\" font-size=\"14.00\" fill=\"#000000\">ycoord ≤ 230873.0</text>\n<text text-anchor=\"start\" x=\"3712.5\" y=\"-124.8\" font-family=\"Times,serif\" font-size=\"14.00\" fill=\"#000000\">gini = 0.489</text>\n<text text-anchor=\"start\" x=\"3707\" y=\"-109.8\" font-family=\"Times,serif\" font-size=\"14.00\" fill=\"#000000\">samples = 872</text>\n<text text-anchor=\"start\" x=\"3694.5\" y=\"-94.8\" font-family=\"Times,serif\" font-size=\"14.00\" fill=\"#000000\">value = [372, 500]</text>\n<text text-anchor=\"start\" x=\"3722.5\" y=\"-79.8\" font-family=\"Times,serif\" font-size=\"14.00\" fill=\"#000000\">class = U</text>\n</g>\n<!-- 3362&#45;&gt;3450 -->\n<g id=\"edge96\" class=\"edge\">\n<title>3362&#45;&gt;3450</title>\n<path fill=\"none\" stroke=\"#000000\" d=\"M3747.6995,-190.8796C3747.8372,-182.6838 3747.9834,-173.9891 3748.126,-165.5013\"/>\n<polygon fill=\"#000000\" stroke=\"#000000\" points=\"3751.6289,-165.3555 3748.2975,-155.2981 3744.6299,-165.2378 3751.6289,-165.3555\"/>\n</g>\n<!-- 3364 -->\n<g id=\"node95\" class=\"node\">\n<title>3364</title>\n<polygon fill=\"#c0c0c0\" stroke=\"#000000\" points=\"3558,-36 3504,-36 3504,0 3558,0 3558,-36\"/>\n<text text-anchor=\"middle\" x=\"3531\" y=\"-14.3\" font-family=\"Times,serif\" font-size=\"14.00\" fill=\"#000000\">(...)</text>\n</g>\n<!-- 3363&#45;&gt;3364 -->\n<g id=\"edge94\" class=\"edge\">\n<title>3363&#45;&gt;3364</title>\n<path fill=\"none\" stroke=\"#000000\" d=\"M3570.5006,-71.8901C3563.6478,-62.541 3556.561,-52.8725 3550.3146,-44.3506\"/>\n<polygon fill=\"#000000\" stroke=\"#000000\" points=\"3553.1228,-42.2614 3544.388,-36.2651 3547.477,-46.3997 3553.1228,-42.2614\"/>\n</g>\n<!-- 3409 -->\n<g id=\"node96\" class=\"node\">\n<title>3409</title>\n<polygon fill=\"#c0c0c0\" stroke=\"#000000\" points=\"3630,-36 3576,-36 3576,0 3630,0 3630,-36\"/>\n<text text-anchor=\"middle\" x=\"3603\" y=\"-14.3\" font-family=\"Times,serif\" font-size=\"14.00\" fill=\"#000000\">(...)</text>\n</g>\n<!-- 3363&#45;&gt;3409 -->\n<g id=\"edge95\" class=\"edge\">\n<title>3363&#45;&gt;3409</title>\n<path fill=\"none\" stroke=\"#000000\" d=\"M3601.8714,-71.8901C3602.0509,-63.3201 3602.236,-54.4817 3602.4031,-46.5041\"/>\n<polygon fill=\"#000000\" stroke=\"#000000\" points=\"3605.9072,-46.3362 3602.6175,-36.2651 3598.9088,-46.1896 3605.9072,-46.3362\"/>\n</g>\n<!-- 3451 -->\n<g id=\"node98\" class=\"node\">\n<title>3451</title>\n<polygon fill=\"#c0c0c0\" stroke=\"#000000\" points=\"3707,-36 3653,-36 3653,0 3707,0 3707,-36\"/>\n<text text-anchor=\"middle\" x=\"3680\" y=\"-14.3\" font-family=\"Times,serif\" font-size=\"14.00\" fill=\"#000000\">(...)</text>\n</g>\n<!-- 3450&#45;&gt;3451 -->\n<g id=\"edge97\" class=\"edge\">\n<title>3450&#45;&gt;3451</title>\n<path fill=\"none\" stroke=\"#000000\" d=\"M3718.9363,-71.8901C3712.2518,-62.6384 3705.3414,-53.0739 3699.2313,-44.6173\"/>\n<polygon fill=\"#000000\" stroke=\"#000000\" points=\"3701.8903,-42.321 3693.1968,-36.2651 3696.2163,-46.4206 3701.8903,-42.321\"/>\n</g>\n<!-- 3466 -->\n<g id=\"node99\" class=\"node\">\n<title>3466</title>\n<polygon fill=\"#c0c0c0\" stroke=\"#000000\" points=\"3779,-36 3725,-36 3725,0 3779,0 3779,-36\"/>\n<text text-anchor=\"middle\" x=\"3752\" y=\"-14.3\" font-family=\"Times,serif\" font-size=\"14.00\" fill=\"#000000\">(...)</text>\n</g>\n<!-- 3450&#45;&gt;3466 -->\n<g id=\"edge98\" class=\"edge\">\n<title>3450&#45;&gt;3466</title>\n<path fill=\"none\" stroke=\"#000000\" d=\"M3750.3071,-71.8901C3750.5763,-63.3201 3750.854,-54.4817 3751.1046,-46.5041\"/>\n<polygon fill=\"#000000\" stroke=\"#000000\" points=\"3754.6104,-46.3701 3751.4262,-36.2651 3747.6139,-46.1502 3754.6104,-46.3701\"/>\n</g>\n<!-- 3476 -->\n<g id=\"node101\" class=\"node\">\n<title>3476</title>\n<polygon fill=\"#65b3eb\" stroke=\"#000000\" points=\"3967,-155 3831,-155 3831,-72 3967,-72 3967,-155\"/>\n<text text-anchor=\"start\" x=\"3839\" y=\"-139.8\" font-family=\"Times,serif\" font-size=\"14.00\" fill=\"#000000\">xcoord ≤ 1000281.0</text>\n<text text-anchor=\"start\" x=\"3862.5\" y=\"-124.8\" font-family=\"Times,serif\" font-size=\"14.00\" fill=\"#000000\">gini = 0.297</text>\n<text text-anchor=\"start\" x=\"3857\" y=\"-109.8\" font-family=\"Times,serif\" font-size=\"14.00\" fill=\"#000000\">samples = 655</text>\n<text text-anchor=\"start\" x=\"3845\" y=\"-94.8\" font-family=\"Times,serif\" font-size=\"14.00\" fill=\"#000000\">value = [119, 536]</text>\n<text text-anchor=\"start\" x=\"3872.5\" y=\"-79.8\" font-family=\"Times,serif\" font-size=\"14.00\" fill=\"#000000\">class = U</text>\n</g>\n<!-- 3475&#45;&gt;3476 -->\n<g id=\"edge100\" class=\"edge\">\n<title>3475&#45;&gt;3476</title>\n<path fill=\"none\" stroke=\"#000000\" d=\"M3900.3005,-190.8796C3900.1628,-182.6838 3900.0166,-173.9891 3899.874,-165.5013\"/>\n<polygon fill=\"#000000\" stroke=\"#000000\" points=\"3903.3701,-165.2378 3899.7025,-155.2981 3896.3711,-165.3555 3903.3701,-165.2378\"/>\n</g>\n<!-- 3495 -->\n<g id=\"node104\" class=\"node\">\n<title>3495</title>\n<polygon fill=\"#89c5ef\" stroke=\"#000000\" points=\"4117,-155 3985,-155 3985,-72 4117,-72 4117,-155\"/>\n<text text-anchor=\"start\" x=\"4020.5\" y=\"-139.8\" font-family=\"Times,serif\" font-size=\"14.00\" fill=\"#000000\">age ≤ 40.5</text>\n<text text-anchor=\"start\" x=\"4018.5\" y=\"-124.8\" font-family=\"Times,serif\" font-size=\"14.00\" fill=\"#000000\">gini = 0.41</text>\n<text text-anchor=\"start\" x=\"4005.5\" y=\"-109.8\" font-family=\"Times,serif\" font-size=\"14.00\" fill=\"#000000\">samples = 2639</text>\n<text text-anchor=\"start\" x=\"3993\" y=\"-94.8\" font-family=\"Times,serif\" font-size=\"14.00\" fill=\"#000000\">value = [759, 1880]</text>\n<text text-anchor=\"start\" x=\"4024.5\" y=\"-79.8\" font-family=\"Times,serif\" font-size=\"14.00\" fill=\"#000000\">class = U</text>\n</g>\n<!-- 3475&#45;&gt;3495 -->\n<g id=\"edge103\" class=\"edge\">\n<title>3475&#45;&gt;3495</title>\n<path fill=\"none\" stroke=\"#000000\" d=\"M3953.4627,-190.8796C3965.4521,-181.368 3978.2887,-171.1843 3990.5816,-161.432\"/>\n<polygon fill=\"#000000\" stroke=\"#000000\" points=\"3992.9081,-164.054 3998.5669,-155.0969 3988.5575,-158.5701 3992.9081,-164.054\"/>\n</g>\n<!-- 3477 -->\n<g id=\"node102\" class=\"node\">\n<title>3477</title>\n<polygon fill=\"#c0c0c0\" stroke=\"#000000\" points=\"3890,-36 3836,-36 3836,0 3890,0 3890,-36\"/>\n<text text-anchor=\"middle\" x=\"3863\" y=\"-14.3\" font-family=\"Times,serif\" font-size=\"14.00\" fill=\"#000000\">(...)</text>\n</g>\n<!-- 3476&#45;&gt;3477 -->\n<g id=\"edge101\" class=\"edge\">\n<title>3476&#45;&gt;3477</title>\n<path fill=\"none\" stroke=\"#000000\" d=\"M3883.3146,-71.8901C3879.9739,-63.0279 3876.525,-53.8788 3873.4386,-45.6913\"/>\n<polygon fill=\"#000000\" stroke=\"#000000\" points=\"3876.6877,-44.3878 3869.8853,-36.2651 3870.1376,-46.8569 3876.6877,-44.3878\"/>\n</g>\n<!-- 3486 -->\n<g id=\"node103\" class=\"node\">\n<title>3486</title>\n<polygon fill=\"#c0c0c0\" stroke=\"#000000\" points=\"3962,-36 3908,-36 3908,0 3962,0 3962,-36\"/>\n<text text-anchor=\"middle\" x=\"3935\" y=\"-14.3\" font-family=\"Times,serif\" font-size=\"14.00\" fill=\"#000000\">(...)</text>\n</g>\n<!-- 3476&#45;&gt;3486 -->\n<g id=\"edge102\" class=\"edge\">\n<title>3476&#45;&gt;3486</title>\n<path fill=\"none\" stroke=\"#000000\" d=\"M3914.6854,-71.8901C3918.0261,-63.0279 3921.475,-53.8788 3924.5614,-45.6913\"/>\n<polygon fill=\"#000000\" stroke=\"#000000\" points=\"3927.8624,-46.8569 3928.1147,-36.2651 3921.3123,-44.3878 3927.8624,-46.8569\"/>\n</g>\n<!-- 3496 -->\n<g id=\"node105\" class=\"node\">\n<title>3496</title>\n<polygon fill=\"#c0c0c0\" stroke=\"#000000\" points=\"4056,-36 4002,-36 4002,0 4056,0 4056,-36\"/>\n<text text-anchor=\"middle\" x=\"4029\" y=\"-14.3\" font-family=\"Times,serif\" font-size=\"14.00\" fill=\"#000000\">(...)</text>\n</g>\n<!-- 3495&#45;&gt;3496 -->\n<g id=\"edge104\" class=\"edge\">\n<title>3495&#45;&gt;3496</title>\n<path fill=\"none\" stroke=\"#000000\" d=\"M4041.4145,-71.8901C4039.4178,-63.2227 4037.3579,-54.2808 4035.5038,-46.2325\"/>\n<polygon fill=\"#000000\" stroke=\"#000000\" points=\"4038.8633,-45.2241 4033.2077,-36.2651 4032.0419,-46.7956 4038.8633,-45.2241\"/>\n</g>\n<!-- 3519 -->\n<g id=\"node106\" class=\"node\">\n<title>3519</title>\n<polygon fill=\"#c0c0c0\" stroke=\"#000000\" points=\"4128,-36 4074,-36 4074,0 4128,0 4128,-36\"/>\n<text text-anchor=\"middle\" x=\"4101\" y=\"-14.3\" font-family=\"Times,serif\" font-size=\"14.00\" fill=\"#000000\">(...)</text>\n</g>\n<!-- 3495&#45;&gt;3519 -->\n<g id=\"edge105\" class=\"edge\">\n<title>3495&#45;&gt;3519</title>\n<path fill=\"none\" stroke=\"#000000\" d=\"M4072.7853,-71.8901C4077.5272,-62.8331 4082.4259,-53.4765 4086.7839,-45.1528\"/>\n<polygon fill=\"#000000\" stroke=\"#000000\" points=\"4089.8995,-46.7478 4091.4371,-36.2651 4083.698,-43.5009 4089.8995,-46.7478\"/>\n</g>\n<!-- 3571 -->\n<g id=\"node108\" class=\"node\">\n<title>3571</title>\n<polygon fill=\"#f0b68c\" stroke=\"#000000\" points=\"4316,-274 4180,-274 4180,-191 4316,-191 4316,-274\"/>\n<text text-anchor=\"start\" x=\"4188\" y=\"-258.8\" font-family=\"Times,serif\" font-size=\"14.00\" fill=\"#000000\">xcoord ≤ 1009891.5</text>\n<text text-anchor=\"start\" x=\"4211.5\" y=\"-243.8\" font-family=\"Times,serif\" font-size=\"14.00\" fill=\"#000000\">gini = 0.416</text>\n<text text-anchor=\"start\" x=\"4206\" y=\"-228.8\" font-family=\"Times,serif\" font-size=\"14.00\" fill=\"#000000\">samples = 166</text>\n<text text-anchor=\"start\" x=\"4198\" y=\"-213.8\" font-family=\"Times,serif\" font-size=\"14.00\" fill=\"#000000\">value = [117, 49]</text>\n<text text-anchor=\"start\" x=\"4222\" y=\"-198.8\" font-family=\"Times,serif\" font-size=\"14.00\" fill=\"#000000\">class = A</text>\n</g>\n<!-- 3570&#45;&gt;3571 -->\n<g id=\"edge107\" class=\"edge\">\n<title>3570&#45;&gt;3571</title>\n<path fill=\"none\" stroke=\"#000000\" d=\"M4248,-309.8796C4248,-301.6838 4248,-292.9891 4248,-284.5013\"/>\n<polygon fill=\"#000000\" stroke=\"#000000\" points=\"4251.5001,-284.298 4248,-274.2981 4244.5001,-284.2981 4251.5001,-284.298\"/>\n</g>\n<!-- 3576 -->\n<g id=\"node113\" class=\"node\">\n<title>3576</title>\n<polygon fill=\"#bfdff7\" stroke=\"#000000\" points=\"4531,-274 4391,-274 4391,-191 4531,-191 4531,-274\"/>\n<text text-anchor=\"start\" x=\"4405\" y=\"-258.8\" font-family=\"Times,serif\" font-size=\"14.00\" fill=\"#000000\">ycoord ≤ 245905.5</text>\n<text text-anchor=\"start\" x=\"4424.5\" y=\"-243.8\" font-family=\"Times,serif\" font-size=\"14.00\" fill=\"#000000\">gini = 0.481</text>\n<text text-anchor=\"start\" x=\"4415.5\" y=\"-228.8\" font-family=\"Times,serif\" font-size=\"14.00\" fill=\"#000000\">samples = 6595</text>\n<text text-anchor=\"start\" x=\"4399\" y=\"-213.8\" font-family=\"Times,serif\" font-size=\"14.00\" fill=\"#000000\">value = [2663, 3932]</text>\n<text text-anchor=\"start\" x=\"4434.5\" y=\"-198.8\" font-family=\"Times,serif\" font-size=\"14.00\" fill=\"#000000\">class = U</text>\n</g>\n<!-- 3570&#45;&gt;3576 -->\n<g id=\"edge112\" class=\"edge\">\n<title>3570&#45;&gt;3576</title>\n<path fill=\"none\" stroke=\"#000000\" d=\"M4318.0392,-312.3701C4338.5157,-300.9302 4361.0373,-288.3477 4382.0272,-276.6209\"/>\n<polygon fill=\"#000000\" stroke=\"#000000\" points=\"4383.8958,-279.5862 4390.9187,-271.6534 4380.4817,-273.4752 4383.8958,-279.5862\"/>\n</g>\n<!-- 3572 -->\n<g id=\"node109\" class=\"node\">\n<title>3572</title>\n<polygon fill=\"#f5d1b6\" stroke=\"#000000\" points=\"4245,-147.5 4135,-147.5 4135,-79.5 4245,-79.5 4245,-147.5\"/>\n<text text-anchor=\"start\" x=\"4153.5\" y=\"-132.3\" font-family=\"Times,serif\" font-size=\"14.00\" fill=\"#000000\">gini = 0.475</text>\n<text text-anchor=\"start\" x=\"4152\" y=\"-117.3\" font-family=\"Times,serif\" font-size=\"14.00\" fill=\"#000000\">samples = 62</text>\n<text text-anchor=\"start\" x=\"4143\" y=\"-102.3\" font-family=\"Times,serif\" font-size=\"14.00\" fill=\"#000000\">value = [38, 24]</text>\n<text text-anchor=\"start\" x=\"4164\" y=\"-87.3\" font-family=\"Times,serif\" font-size=\"14.00\" fill=\"#000000\">class = A</text>\n</g>\n<!-- 3571&#45;&gt;3572 -->\n<g id=\"edge108\" class=\"edge\">\n<title>3571&#45;&gt;3572</title>\n<path fill=\"none\" stroke=\"#000000\" d=\"M4227.7144,-190.8796C4222.355,-179.8835 4216.5578,-167.9893 4211.1537,-156.9015\"/>\n<polygon fill=\"#000000\" stroke=\"#000000\" points=\"4214.2524,-155.2706 4206.7249,-147.8149 4207.96,-158.3375 4214.2524,-155.2706\"/>\n</g>\n<!-- 3573 -->\n<g id=\"node110\" class=\"node\">\n<title>3573</title>\n<polygon fill=\"#eda978\" stroke=\"#000000\" points=\"4373,-155 4263,-155 4263,-72 4373,-72 4373,-155\"/>\n<text text-anchor=\"start\" x=\"4287.5\" y=\"-139.8\" font-family=\"Times,serif\" font-size=\"14.00\" fill=\"#000000\">age ≤ 40.5</text>\n<text text-anchor=\"start\" x=\"4281.5\" y=\"-124.8\" font-family=\"Times,serif\" font-size=\"14.00\" fill=\"#000000\">gini = 0.365</text>\n<text text-anchor=\"start\" x=\"4276\" y=\"-109.8\" font-family=\"Times,serif\" font-size=\"14.00\" fill=\"#000000\">samples = 104</text>\n<text text-anchor=\"start\" x=\"4271\" y=\"-94.8\" font-family=\"Times,serif\" font-size=\"14.00\" fill=\"#000000\">value = [79, 25]</text>\n<text text-anchor=\"start\" x=\"4292\" y=\"-79.8\" font-family=\"Times,serif\" font-size=\"14.00\" fill=\"#000000\">class = A</text>\n</g>\n<!-- 3571&#45;&gt;3573 -->\n<g id=\"edge109\" class=\"edge\">\n<title>3571&#45;&gt;3573</title>\n<path fill=\"none\" stroke=\"#000000\" d=\"M4272.4826,-190.8796C4277.5685,-182.2335 4282.9811,-173.0322 4288.2328,-164.1042\"/>\n<polygon fill=\"#000000\" stroke=\"#000000\" points=\"4291.3594,-165.692 4293.4129,-155.2981 4285.3259,-162.1428 4291.3594,-165.692\"/>\n</g>\n<!-- 3574 -->\n<g id=\"node111\" class=\"node\">\n<title>3574</title>\n<polygon fill=\"#c0c0c0\" stroke=\"#000000\" points=\"4307,-36 4253,-36 4253,0 4307,0 4307,-36\"/>\n<text text-anchor=\"middle\" x=\"4280\" y=\"-14.3\" font-family=\"Times,serif\" font-size=\"14.00\" fill=\"#000000\">(...)</text>\n</g>\n<!-- 3573&#45;&gt;3574 -->\n<g id=\"edge110\" class=\"edge\">\n<title>3573&#45;&gt;3574</title>\n<path fill=\"none\" stroke=\"#000000\" d=\"M4301.4432,-71.8901C4297.9169,-63.0279 4294.2764,-53.8788 4291.0185,-45.6913\"/>\n<polygon fill=\"#000000\" stroke=\"#000000\" points=\"4294.217,-44.2626 4287.2678,-36.2651 4287.713,-46.8506 4294.217,-44.2626\"/>\n</g>\n<!-- 3575 -->\n<g id=\"node112\" class=\"node\">\n<title>3575</title>\n<polygon fill=\"#c0c0c0\" stroke=\"#000000\" points=\"4379,-36 4325,-36 4325,0 4379,0 4379,-36\"/>\n<text text-anchor=\"middle\" x=\"4352\" y=\"-14.3\" font-family=\"Times,serif\" font-size=\"14.00\" fill=\"#000000\">(...)</text>\n</g>\n<!-- 3573&#45;&gt;3575 -->\n<g id=\"edge111\" class=\"edge\">\n<title>3573&#45;&gt;3575</title>\n<path fill=\"none\" stroke=\"#000000\" d=\"M4332.814,-71.8901C4335.9691,-63.0279 4339.2264,-53.8788 4342.1413,-45.6913\"/>\n<polygon fill=\"#000000\" stroke=\"#000000\" points=\"4345.4405,-46.8598 4345.4972,-36.2651 4338.8459,-44.512 4345.4405,-46.8598\"/>\n</g>\n<!-- 3577 -->\n<g id=\"node114\" class=\"node\">\n<title>3577</title>\n<polygon fill=\"#d0e8f9\" stroke=\"#000000\" points=\"4531,-155 4391,-155 4391,-72 4531,-72 4531,-155\"/>\n<text text-anchor=\"start\" x=\"4430.5\" y=\"-139.8\" font-family=\"Times,serif\" font-size=\"14.00\" fill=\"#000000\">age ≤ 43.5</text>\n<text text-anchor=\"start\" x=\"4424.5\" y=\"-124.8\" font-family=\"Times,serif\" font-size=\"14.00\" fill=\"#000000\">gini = 0.491</text>\n<text text-anchor=\"start\" x=\"4415.5\" y=\"-109.8\" font-family=\"Times,serif\" font-size=\"14.00\" fill=\"#000000\">samples = 3646</text>\n<text text-anchor=\"start\" x=\"4399\" y=\"-94.8\" font-family=\"Times,serif\" font-size=\"14.00\" fill=\"#000000\">value = [1578, 2068]</text>\n<text text-anchor=\"start\" x=\"4434.5\" y=\"-79.8\" font-family=\"Times,serif\" font-size=\"14.00\" fill=\"#000000\">class = U</text>\n</g>\n<!-- 3576&#45;&gt;3577 -->\n<g id=\"edge113\" class=\"edge\">\n<title>3576&#45;&gt;3577</title>\n<path fill=\"none\" stroke=\"#000000\" d=\"M4461,-190.8796C4461,-182.6838 4461,-173.9891 4461,-165.5013\"/>\n<polygon fill=\"#000000\" stroke=\"#000000\" points=\"4464.5001,-165.298 4461,-155.2981 4457.5001,-165.2981 4464.5001,-165.298\"/>\n</g>\n<!-- 3686 -->\n<g id=\"node117\" class=\"node\">\n<title>3686</title>\n<polygon fill=\"#acd6f4\" stroke=\"#000000\" points=\"4689,-155 4549,-155 4549,-72 4689,-72 4689,-155\"/>\n<text text-anchor=\"start\" x=\"4584.5\" y=\"-139.8\" font-family=\"Times,serif\" font-size=\"14.00\" fill=\"#000000\">sex_F ≤ 0.5</text>\n<text text-anchor=\"start\" x=\"4582.5\" y=\"-124.8\" font-family=\"Times,serif\" font-size=\"14.00\" fill=\"#000000\">gini = 0.465</text>\n<text text-anchor=\"start\" x=\"4573.5\" y=\"-109.8\" font-family=\"Times,serif\" font-size=\"14.00\" fill=\"#000000\">samples = 2949</text>\n<text text-anchor=\"start\" x=\"4557\" y=\"-94.8\" font-family=\"Times,serif\" font-size=\"14.00\" fill=\"#000000\">value = [1085, 1864]</text>\n<text text-anchor=\"start\" x=\"4592.5\" y=\"-79.8\" font-family=\"Times,serif\" font-size=\"14.00\" fill=\"#000000\">class = U</text>\n</g>\n<!-- 3576&#45;&gt;3686 -->\n<g id=\"edge116\" class=\"edge\">\n<title>3576&#45;&gt;3686</title>\n<path fill=\"none\" stroke=\"#000000\" d=\"M4516.2607,-190.8796C4529.0099,-181.2774 4542.6683,-170.9903 4555.7291,-161.1534\"/>\n<polygon fill=\"#000000\" stroke=\"#000000\" points=\"4557.8883,-163.9089 4563.7705,-155.0969 4553.6769,-158.3174 4557.8883,-163.9089\"/>\n</g>\n<!-- 3578 -->\n<g id=\"node115\" class=\"node\">\n<title>3578</title>\n<polygon fill=\"#c0c0c0\" stroke=\"#000000\" points=\"4457,-36 4403,-36 4403,0 4457,0 4457,-36\"/>\n<text text-anchor=\"middle\" x=\"4430\" y=\"-14.3\" font-family=\"Times,serif\" font-size=\"14.00\" fill=\"#000000\">(...)</text>\n</g>\n<!-- 3577&#45;&gt;3578 -->\n<g id=\"edge114\" class=\"edge\">\n<title>3577&#45;&gt;3578</title>\n<path fill=\"none\" stroke=\"#000000\" d=\"M4447.4931,-71.8901C4444.648,-63.1253 4441.7118,-54.0798 4439.0765,-45.9615\"/>\n<polygon fill=\"#000000\" stroke=\"#000000\" points=\"4442.3455,-44.6959 4435.929,-36.2651 4435.6875,-46.8572 4442.3455,-44.6959\"/>\n</g>\n<!-- 3635 -->\n<g id=\"node116\" class=\"node\">\n<title>3635</title>\n<polygon fill=\"#c0c0c0\" stroke=\"#000000\" points=\"4529,-36 4475,-36 4475,0 4529,0 4529,-36\"/>\n<text text-anchor=\"middle\" x=\"4502\" y=\"-14.3\" font-family=\"Times,serif\" font-size=\"14.00\" fill=\"#000000\">(...)</text>\n</g>\n<!-- 3577&#45;&gt;3635 -->\n<g id=\"edge115\" class=\"edge\">\n<title>3577&#45;&gt;3635</title>\n<path fill=\"none\" stroke=\"#000000\" d=\"M4478.8639,-71.8901C4482.6686,-63.0279 4486.5965,-53.8788 4490.1116,-45.6913\"/>\n<polygon fill=\"#000000\" stroke=\"#000000\" points=\"4493.4295,-46.8348 4494.1584,-36.2651 4486.9972,-44.0733 4493.4295,-46.8348\"/>\n</g>\n<!-- 3687 -->\n<g id=\"node118\" class=\"node\">\n<title>3687</title>\n<polygon fill=\"#c0c0c0\" stroke=\"#000000\" points=\"4604,-36 4550,-36 4550,0 4604,0 4604,-36\"/>\n<text text-anchor=\"middle\" x=\"4577\" y=\"-14.3\" font-family=\"Times,serif\" font-size=\"14.00\" fill=\"#000000\">(...)</text>\n</g>\n<!-- 3686&#45;&gt;3687 -->\n<g id=\"edge117\" class=\"edge\">\n<title>3686&#45;&gt;3687</title>\n<path fill=\"none\" stroke=\"#000000\" d=\"M4600.7004,-71.8901C4596.76,-62.9305 4592.6907,-53.6777 4589.0598,-45.4217\"/>\n<polygon fill=\"#000000\" stroke=\"#000000\" points=\"4592.2625,-44.0099 4585.0328,-36.2651 4585.8548,-46.828 4592.2625,-44.0099\"/>\n</g>\n<!-- 3768 -->\n<g id=\"node119\" class=\"node\">\n<title>3768</title>\n<polygon fill=\"#c0c0c0\" stroke=\"#000000\" points=\"4676,-36 4622,-36 4622,0 4676,0 4676,-36\"/>\n<text text-anchor=\"middle\" x=\"4649\" y=\"-14.3\" font-family=\"Times,serif\" font-size=\"14.00\" fill=\"#000000\">(...)</text>\n</g>\n<!-- 3686&#45;&gt;3768 -->\n<g id=\"edge118\" class=\"edge\">\n<title>3686&#45;&gt;3768</title>\n<path fill=\"none\" stroke=\"#000000\" d=\"M4632.0712,-71.8901C4634.8245,-63.1253 4637.666,-54.0798 4640.2163,-45.9615\"/>\n<polygon fill=\"#000000\" stroke=\"#000000\" points=\"4643.6044,-46.8544 4643.2623,-36.2651 4636.9261,-44.7565 4643.6044,-46.8544\"/>\n</g>\n</g>\n</svg>\n"
          },
          "metadata": {
            "tags": []
          },
          "execution_count": 69
        }
      ]
    },
    {
      "cell_type": "markdown",
      "metadata": {
        "id": "VEkspeeRZOpe",
        "colab_type": "text"
      },
      "source": [
        "**Keeping those same hyperparameters, what is the training/testing accuracy for a Random Forest Classifer with `n_estimators=100`?  `n_estimators=1000`?**"
      ]
    },
    {
      "cell_type": "code",
      "metadata": {
        "id": "2LPPCX8FHN7Q",
        "colab_type": "code",
        "outputId": "a63a7bb7-7007-4af9-aad4-4e08772740e3",
        "colab": {
          "base_uri": "https://localhost:8080/",
          "height": 101
        }
      },
      "source": [
        "# -- instantiate a Random Forest Classifier\n",
        "rfc = RandomForestClassifier()\n",
        "\n",
        "# -- fit to the TRAINING data\n",
        "rfc.fit(feat_tr, targ_tr)\n",
        "\n",
        "# -- predict the TRAINING and TESTING data\n",
        "pred_tr = rfc.predict(feat_tr)\n",
        "pred_te = rfc.predict(feat_te)\n",
        "acc_tr  = accuracy_score(targ_tr, pred_tr)\n",
        "acc_te  = accuracy_score(targ_te, pred_te)\n",
        "\n",
        "# -- instantiate a Random Forest Classifier (n_estimators=100)\n",
        "rfc = RandomForestClassifier(max_features=5, min_samples_leaf=50, n_estimators=100)\n",
        "\n",
        "# -- fit to the TRAINING data\n",
        "rfc.fit(feat_tr, targ_tr)\n",
        "\n",
        "# -- predict the TRAINING and TESTING data\n",
        "pred_tr = rfc.predict(feat_tr)\n",
        "pred_te = rfc.predict(feat_te)\n",
        "acc_tr  = accuracy_score(targ_tr, pred_tr)\n",
        "acc_te  = accuracy_score(targ_te, pred_te)\n",
        "\n",
        "print(\"Training accuracy (Number of estimator = 100): {0:.4f}\".format(acc_tr))\n",
        "print(\"Testing accuracy  (Number of estimator = 100): {0:.4f}\".format(acc_te))\n",
        "\n",
        "# -- instantiate a Random Forest Classifier (n_estimators=1000)\n",
        "rfc2 = RandomForestClassifier(max_features=5, min_samples_leaf=50, n_estimators=1000)\n",
        "\n",
        "# -- fit to the TRAINING data\n",
        "rfc2.fit(feat_tr, targ_tr)\n",
        "\n",
        "# -- predict the TRAINING and TESTING data\n",
        "pred_tr = rfc2.predict(feat_tr)\n",
        "pred_te = rfc2.predict(feat_te)\n",
        "acc_tr  = accuracy_score(targ_tr, pred_tr)\n",
        "acc_te  = accuracy_score(targ_te, pred_te)\n",
        "\n",
        "print(\"\")\n",
        "print(\"Training accuracy (Number of estimator = 1000): {0:.4f}\".format(acc_tr))\n",
        "print(\"Testing accuracy  (Number of estimator = 1000): {0:.4f}\".format(acc_te))\n"
      ],
      "execution_count": 0,
      "outputs": [
        {
          "output_type": "stream",
          "text": [
            "Training accuracy (when number of estimator is 100): 0.6322\n",
            "Testing accuracy  (when number of estimator is 100): 0.5979\n",
            "\n",
            "Training accuracy (when number of estimator is 1000): 0.6330\n",
            "Testing accuracy  (when number of estimator is 1000): 0.5958\n"
          ],
          "name": "stdout"
        }
      ]
    },
    {
      "cell_type": "markdown",
      "metadata": {
        "id": "IWy4VnjFFPOH",
        "colab_type": "text"
      },
      "source": [
        "**Comment on the relative feature importances for the Random Forest Classifier you fit above.**"
      ]
    },
    {
      "cell_type": "code",
      "metadata": {
        "id": "n5hyf_yVaEsa",
        "colab_type": "code",
        "outputId": "62cc465e-6d78-4c0e-d2f7-24d627a2b14d",
        "colab": {
          "base_uri": "https://localhost:8080/",
          "height": 827
        }
      },
      "source": [
        "# -- Case1: When number of estimator is 100\n",
        "imp = pd.DataFrame()\n",
        "imp[\"name\"] = feat_tr.columns\n",
        "imp[\"importance\"] = rfc.feature_importances_\n",
        "# -- display all rows\n",
        "pd.set_option(\"display.max_rows\", 500)\n",
        "# -- sort by importance\n",
        "imp = imp.sort_values(\"importance\", ascending=False)\n",
        "# -- make a bar chart of top 10 most important features\n",
        "ax = imp[:10].plot(\"name\", \"importance\", kind=\"bar\", figsize=[10, 6], color=\"lightblue\")\n",
        "dum = ax.set_xlabel(\"\")\n",
        "dum = ax.set_title(\"Top 10 most important features (Number of estimators=100)\", fontsize=18)\n",
        "\n",
        "# -- Case2: When number of estimator is 1000\n",
        "imp2 = pd.DataFrame()\n",
        "imp2[\"name\"] = feat_tr.columns\n",
        "imp2[\"importance\"] = rfc2.feature_importances_\n",
        "# -- display all rows\n",
        "pd.set_option(\"display.max_rows\", 500)\n",
        "# -- sort by importance\n",
        "imp2 = imp2.sort_values(\"importance\", ascending=False)\n",
        "# -- make a bar chart of top 10 most important features\n",
        "ax = imp2[:10].plot(\"name\", \"importance\", kind=\"bar\", figsize=[10, 6], color=\"pink\")\n",
        "dum = ax.set_xlabel(\"\")\n",
        "dum = ax.set_title(\"Top 10 most important features (Number of estimators=1000)\", fontsize=18)"
      ],
      "execution_count": 0,
      "outputs": [
        {
          "output_type": "display_data",
          "data": {
            "image/png": "[encoded data removed]",
            "text/plain": [
              "<Figure size 720x432 with 1 Axes>"
            ]
          },
          "metadata": {
            "tags": [],
            "needs_background": "light"
          }
        },
        {
          "output_type": "display_data",
          "data": {
            "image/png": "[encoded data removed]",
            "text/plain": [
              "<Figure size 720x432 with 1 Axes>"
            ]
          },
          "metadata": {
            "tags": [],
            "needs_background": "light"
          }
        }
      ]
    },
    {
      "cell_type": "markdown",
      "metadata": {
        "id": "bFqXWrFGu2Pq",
        "colab_type": "text"
      },
      "source": [
        "**Comment**: \n",
        "\n",
        "Summary of accuracy results \n",
        "\n",
        "*   Decision Tree Training Accuracy (Number of estimator=100) : 0.646\n",
        "*   Decision Tree Testing  Accuracy (Number of estimator=100) : 0.579\n",
        "\n",
        "\n",
        "*   Random Forest Training Accuracy  (Number of estimator=100): 0.6322\n",
        "*   Random Forest Testing  Accuracy  (Number of estimator=100): 0.5979\n",
        "\n",
        "\n",
        "*   Random Forest Training Accuracy (Number of estimator=1000): 0.6330\n",
        "*   Random Forest Testing  Accuracy (Number of estimator=1000): 0.5958\n",
        "\n",
        "According to the result, tree implications can be found in this study as followings: \n",
        "1.   training accuracy is higher than testing accuracy in both decision tree model and random forest model;\n",
        "2.   accuracy of random forest model is higher than decision tree model (since a random forest is simply a collection of decision trees);\n",
        "3.   accuracy is increased when number of estimator is increased. \n",
        "\n"
      ]
    }
  ]
}