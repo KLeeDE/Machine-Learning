{
  "nbformat": 4,
  "nbformat_minor": 0,
  "metadata": {
    "colab": {
      "name": "Graded_mlpp20_assignment_01.ipynb의 사본",
      "provenance": [],
      "collapsed_sections": [],
      "include_colab_link": true
    },
    "kernelspec": {
      "name": "python3",
      "display_name": "Python 3"
    }
  },
  "cells": [
    {
      "cell_type": "markdown",
      "metadata": {
        "id": "view-in-github",
        "colab_type": "text"
      },
      "source": [
        "<a href=\"https://colab.research.google.com/github/KLeeDE/Machine-Learning/blob/master/Ridership%20of%20Urban%20Bike%20Shares%3A%20the%20case%20of%20Citi%20Bike%20in%20NYC.ipynb\" target=\"_parent\"><img src=\"https://colab.research.google.com/assets/colab-badge.svg\" alt=\"Open In Colab\"/></a>"
      ]
    },
    {
      "cell_type": "markdown",
      "metadata": {
        "id": "ugGDuuAUpZEQ",
        "colab_type": "text"
      },
      "source": [
        "# **MLPP20 // Assignment 1 (GGD: Total = 70 / 65)**\n",
        "\n",
        "assigned : **Feb 13, 2020**\n",
        "\n",
        "DUE : **Feb 19, 2020 11:59pm**\n",
        "\n",
        "## Ridership of Urban Bike Shares: the case of Citi Bike in NYC\n",
        "\n",
        "![alt text](https://d21xlh2maitm24.cloudfront.net/nyc/01unlock2.JPG?mtime=20160428123800)\n",
        "\n",
        "---"
      ]
    },
    {
      "cell_type": "markdown",
      "metadata": {
        "id": "rQgC1Td2qSkW",
        "colab_type": "text"
      },
      "source": [
        "### OVERVIEW\n",
        "\n",
        "Bike share programs have been implemented in cities around the world in an effort to address multiple aspects of both city functioning and quality of life for urban populations.  Traffic congestion, public health, community engagement, and air quality have all aspects of city life that could *potentially* be impacted by the introduction of a bike share program into a community.\n",
        "\n",
        "One particularly massive bike share is New York City's [Citi Bike](https://www.citibikenyc.com/) program.  The area coverage of this program is large (extending into New Jersey across the Hudson River) and ridership initial adoption rates – as measured by the number of rides taken – were promising.  However this program has not been without controversy and there has been active discussion regarding which communities ara actually being served and which are not, who is benefitting from the availability of bikes, how they are being used for recreational vs commuter purposes, etc.\n",
        "\n",
        "The goal of this assignment is two-fold: first, you will learn to work with basic tabular data from the Citi Bike program and second, you will generate a simple estimate for the <u>which age group is predominantly using citi bikes for commuter travel</u>.\n",
        "\n",
        "<b>\n",
        "\n",
        "Rules for homeworks:\n",
        "\n",
        "1. You may work with other students in the class, but if you do, each student with whom you worked <u>must</u> be listed at the top of this notebook.  Direct copying from someone else's notebook is not permitted.\n",
        "\n",
        "2. Late homeworks will assess a 15% late penalty up to 3 days after the due date and a 50% late penalty until the end of the term.\n",
        "\n",
        "</b>\n",
        "\n",
        "<u>**Instructions for tasks that will be graded are in bold below.**</u>\n",
        "\n",
        "---"
      ]
    },
    {
      "cell_type": "markdown",
      "metadata": {
        "id": "UBL4OBtWzv7O",
        "colab_type": "text"
      },
      "source": [
        "### PART 1 - Background **(GGD: +10)**\n",
        "\n",
        "Good data science (and data analysis more generally) as well as the appropriate application of machine algorithms depends on a clear understanding of the underlying problem/situation, the methods by which the data you are about to analyze are collected, and the situational context in which that data sits.  To that end:\n",
        "\n",
        "\n",
        "<u>In your own words</u>, provide a brief (no more than 500 words) descriptive overview of the Citi Bike program in NYC to set the stage for the analysis below.  Potential topics to consider and address include:\n",
        "\n",
        "**1. historical motivations for introducing the program**\n",
        "\n",
        "In order to reduce carbon emissions, collisions, and road congestion in terms of urban environment, New York City Department of Transportation (NYCDOT) announced a strategic plan in 2008 to implement alternative forms of transformation (\"Citi Bike\", 2020). Finally, on Memorial Day 2013, New York City (NYC) has launched [Citi Bike](https://en.wikipedia.org/wiki/Citi_Bike), which is a privately owned public bicycle sharing system serving in some boroughs of NYC. It is named as Citi Bike sponsored by Citi group. Not it became the nation's largest bike shar program with 13,000 bikes and over 850 stations (Citibike official, 2020). \n",
        "\n",
        "**2. operational methodology**\n",
        "\n",
        "To use the Citi Bike, there are four steps: 1) First step is to join as an annual member or buy a short-term pass through the Citi Bike app; 2) Find an available bike nearby, and get a ride code or use your member key to unlock it; 3) Take as many short rides as you want while your pass or membership is active; and 4) Return your bike to any station, and wait for the green light on the dock to make sure it's locked (Citibike official, 2020).    \n",
        "\n",
        "**3. published aggregate ridership characteristics**\n",
        "\n",
        "According to Citi Bike's website, the first 34 minutes of each ride is included for Annual Members, and the first 30 minutes of each rides is included for Day Pass users. Also, rider performance by gender and age is different. Usually, men and the young are using Citi bikes more than women and the elder, however, median speed and average distance didn't show significant difference to have an impact on gender and age (Shah, 2018).\n",
        "\n",
        "\n",
        "**4. difficulties associated with implementing the program**\n",
        "\n",
        "There were several difficulties associated with implementing the program. First, the one difficulty is that local bike shops were reported to experience a decline in bike rental business. As Citi Bike is getting popular in 2014, the local bike shops were closed down (Tcholakian, 2014). Second, bike stations, for eight bikes, installed in the parking space caused complaints from citizens (NJ.com, 2017). Third, there are complaints about too few bike stations, which are conposite to the previous complaint. Therefore, it is important to analyze the ridership characteristics to install the bike stations and implement the program.   \n",
        "\n",
        "**5. community reaction and engagement**\n",
        "\n",
        "The Citi Bike has been getting popular among citizens and it is expanded in 2019 (Kntzman and Colon, 2020). According to the BikeNYC 2020 survey, repondents said that \"an expanded Citi Bike network could alleviate strain on a mass transit network in dire need of repair\", and therefore \"95% of frequent riders consider a bicycle to be a good alternative to public transit\" (Transportation Alternatives, 2017). As the Citi Bike network is grown up, the community engagement is expected to be expanded in the future.   \n",
        "\n",
        "\n",
        "\n",
        "Please include *references* within the description via weblinks (like the Citi Bike link in the Overview in the cell above).\n",
        "\n",
        "**References:**\n",
        "\n",
        "\n",
        "Citi Bike, Wikipedia, Retrieved 02/16/2020 from: https://en.wikipedia.org/wiki/Citi_Bike\n",
        "\n",
        "Citibike official. https://www.citibikenyc.com/how-it-works\n",
        "\n",
        "\"Grumbling in Jersey City over parking spots lost to Citi Bike stations\". NJ.com. August 2, 2016. \n",
        "\n",
        "Kuntzman G. and Colon D. (July 15, 2019) \"Citi Bike Expansion Revealed - And It's a Slow Rollout\". Retrieved February 20, 2020 from: https://nyc.streetsblog.org/2019/07/15/breaking-citi-bike-expansion-revealed-and-its-a-slow-rollout/\n",
        "\n",
        "Tcholakian, D. (November 20, 2014) \"Citi Bike Drove Me Out of Business, West Village Bike Shop Owner Says\". DNAinfo New York. Archived from the original on February 15, 2017. Retrieved February 14, 2017.\n",
        "\n",
        "Transportation Alternatives (2017) BikeNYC 2020 What New York Needs to be a World-Class Bicycling City \n",
        "\n",
        "Shah, V. (May 21, 2018) \"Citi Bike 2017 Analysis\". Towards data science. Retrieved February 16, 2020 from: https://towardsdatascience.com/citi-bike-2017-analysis-efd298e6c22c\n",
        "\n",
        "\n"
      ]
    },
    {
      "cell_type": "markdown",
      "metadata": {
        "id": "3KwDRW3R2qEU",
        "colab_type": "text"
      },
      "source": [
        "### PART 2 - Loading the data **(GGD: +5)**"
      ]
    },
    {
      "cell_type": "markdown",
      "metadata": {
        "id": "q_GKoBEuqTHF",
        "colab_type": "text"
      },
      "source": [
        "First things first, let's get access to the data.  To the left there is a folder icon.  **Click that and in the popout menu click \"Mount Drive\".**  This will create a cell of code for you to run.  **Follow the instructions to link this notebook with your Google Drive.**"
      ]
    },
    {
      "cell_type": "code",
      "metadata": {
        "id": "G4MiwM6M0Lxq",
        "colab_type": "code",
        "outputId": "fabcc688-13a1-441c-87b1-7bac938b48c2",
        "colab": {
          "base_uri": "https://localhost:8080/",
          "height": 34
        }
      },
      "source": [
        "from google.colab import drive\n",
        "drive.mount('/content/drive')"
      ],
      "execution_count": 0,
      "outputs": [
        {
          "output_type": "stream",
          "text": [
            "Drive already mounted at /content/drive; to attempt to forcibly remount, call drive.mount(\"/content/drive\", force_remount=True).\n"
          ],
          "name": "stdout"
        }
      ]
    },
    {
      "cell_type": "markdown",
      "metadata": {
        "id": "heffq9Oih4dB",
        "colab_type": "text"
      },
      "source": [
        "In the menu on the left, **click the \"drive\" folder, then \"My Drive\", then locate the shared \"mlpp20\" directory**.  Inside of that is a directory called \"data\" and inside that is a directory called \"citibike\".  In that folder is the citibike data.  **Right click on the file and select \"copy path\".  Put that path to the file into a string variable called `fname` and use pandas read_csv function to load the data (no need to skip rows) into a pandas DataFrame called `citi`.** "
      ]
    },
    {
      "cell_type": "code",
      "metadata": {
        "id": "bP-OXuRsiP2o",
        "colab_type": "code",
        "outputId": "16acdc84-b349-492b-85b6-5cbff74cc119",
        "colab": {
          "base_uri": "https://localhost:8080/",
          "height": 417
        }
      },
      "source": [
        "fname = \"/content/drive/My Drive/mlpp20/data/citibike/JC-201604-citibike-tripdata.csv\"\n",
        "import pandas as pd \n",
        "citi = pd.read_csv(fname)\n",
        "citi.head()"
      ],
      "execution_count": 0,
      "outputs": [
        {
          "output_type": "execute_result",
          "data": {
            "text/html": [
              "<div>\n",
              "<style scoped>\n",
              "    .dataframe tbody tr th:only-of-type {\n",
              "        vertical-align: middle;\n",
              "    }\n",
              "\n",
              "    .dataframe tbody tr th {\n",
              "        vertical-align: top;\n",
              "    }\n",
              "\n",
              "    .dataframe thead th {\n",
              "        text-align: right;\n",
              "    }\n",
              "</style>\n",
              "<table border=\"1\" class=\"dataframe\">\n",
              "  <thead>\n",
              "    <tr style=\"text-align: right;\">\n",
              "      <th></th>\n",
              "      <th>Trip Duration</th>\n",
              "      <th>Start Time</th>\n",
              "      <th>Stop Time</th>\n",
              "      <th>Start Station ID</th>\n",
              "      <th>Start Station Name</th>\n",
              "      <th>Start Station Latitude</th>\n",
              "      <th>Start Station Longitude</th>\n",
              "      <th>End Station ID</th>\n",
              "      <th>End Station Name</th>\n",
              "      <th>End Station Latitude</th>\n",
              "      <th>End Station Longitude</th>\n",
              "      <th>Bike ID</th>\n",
              "      <th>User Type</th>\n",
              "      <th>Birth Year</th>\n",
              "      <th>Gender</th>\n",
              "    </tr>\n",
              "  </thead>\n",
              "  <tbody>\n",
              "    <tr>\n",
              "      <th>0</th>\n",
              "      <td>2084</td>\n",
              "      <td>2016-04-01 00:16:13</td>\n",
              "      <td>2016-04-01 00:50:58</td>\n",
              "      <td>3203</td>\n",
              "      <td>Hamilton Park</td>\n",
              "      <td>40.727596</td>\n",
              "      <td>-74.044247</td>\n",
              "      <td>3209</td>\n",
              "      <td>Brunswick St</td>\n",
              "      <td>40.724176</td>\n",
              "      <td>-74.050656</td>\n",
              "      <td>24500</td>\n",
              "      <td>Subscriber</td>\n",
              "      <td>1979.0</td>\n",
              "      <td>1</td>\n",
              "    </tr>\n",
              "    <tr>\n",
              "      <th>1</th>\n",
              "      <td>324</td>\n",
              "      <td>2016-04-01 00:32:48</td>\n",
              "      <td>2016-04-01 00:38:13</td>\n",
              "      <td>3202</td>\n",
              "      <td>Newport PATH</td>\n",
              "      <td>40.727224</td>\n",
              "      <td>-74.033759</td>\n",
              "      <td>3203</td>\n",
              "      <td>Hamilton Park</td>\n",
              "      <td>40.727596</td>\n",
              "      <td>-74.044247</td>\n",
              "      <td>24475</td>\n",
              "      <td>Subscriber</td>\n",
              "      <td>1954.0</td>\n",
              "      <td>1</td>\n",
              "    </tr>\n",
              "    <tr>\n",
              "      <th>2</th>\n",
              "      <td>387</td>\n",
              "      <td>2016-04-01 02:00:33</td>\n",
              "      <td>2016-04-01 02:07:00</td>\n",
              "      <td>3220</td>\n",
              "      <td>5 Corners Library</td>\n",
              "      <td>40.734961</td>\n",
              "      <td>-74.059503</td>\n",
              "      <td>3215</td>\n",
              "      <td>Central Ave</td>\n",
              "      <td>40.746730</td>\n",
              "      <td>-74.049251</td>\n",
              "      <td>24503</td>\n",
              "      <td>Subscriber</td>\n",
              "      <td>1975.0</td>\n",
              "      <td>1</td>\n",
              "    </tr>\n",
              "    <tr>\n",
              "      <th>3</th>\n",
              "      <td>140</td>\n",
              "      <td>2016-04-01 02:11:43</td>\n",
              "      <td>2016-04-01 02:14:03</td>\n",
              "      <td>3194</td>\n",
              "      <td>McGinley Square</td>\n",
              "      <td>40.725340</td>\n",
              "      <td>-74.067622</td>\n",
              "      <td>3195</td>\n",
              "      <td>Sip Ave</td>\n",
              "      <td>40.730743</td>\n",
              "      <td>-74.063784</td>\n",
              "      <td>24446</td>\n",
              "      <td>Subscriber</td>\n",
              "      <td>1981.0</td>\n",
              "      <td>1</td>\n",
              "    </tr>\n",
              "    <tr>\n",
              "      <th>4</th>\n",
              "      <td>142</td>\n",
              "      <td>2016-04-01 02:18:01</td>\n",
              "      <td>2016-04-01 02:20:23</td>\n",
              "      <td>3195</td>\n",
              "      <td>Sip Ave</td>\n",
              "      <td>40.730743</td>\n",
              "      <td>-74.063784</td>\n",
              "      <td>3194</td>\n",
              "      <td>McGinley Square</td>\n",
              "      <td>40.725340</td>\n",
              "      <td>-74.067622</td>\n",
              "      <td>24446</td>\n",
              "      <td>Subscriber</td>\n",
              "      <td>1981.0</td>\n",
              "      <td>1</td>\n",
              "    </tr>\n",
              "  </tbody>\n",
              "</table>\n",
              "</div>"
            ],
            "text/plain": [
              "   Trip Duration           Start Time  ... Birth Year  Gender\n",
              "0           2084  2016-04-01 00:16:13  ...     1979.0       1\n",
              "1            324  2016-04-01 00:32:48  ...     1954.0       1\n",
              "2            387  2016-04-01 02:00:33  ...     1975.0       1\n",
              "3            140  2016-04-01 02:11:43  ...     1981.0       1\n",
              "4            142  2016-04-01 02:18:01  ...     1981.0       1\n",
              "\n",
              "[5 rows x 15 columns]"
            ]
          },
          "metadata": {
            "tags": []
          },
          "execution_count": 30
        }
      ]
    },
    {
      "cell_type": "markdown",
      "metadata": {
        "id": "g_c54zBK47Gm",
        "colab_type": "text"
      },
      "source": [
        "### PART 3 - Calculate useful metrics **(GGD: +10)**"
      ]
    },
    {
      "cell_type": "markdown",
      "metadata": {
        "id": "ab9gpV9jp27P",
        "colab_type": "text"
      },
      "source": [
        "Our end goal is to get an estimate of what age riders are using citi bikes for commuter travel the most.  <u>We're going to do that by separating the trips into short and long trips and then finding the age that has the highest fraction of short trips.</u>\n",
        "\n",
        "Let's convert a couple columns of data into some quantities that will be useful in our model below."
      ]
    },
    {
      "cell_type": "markdown",
      "metadata": {
        "id": "eScY6F7Lrwea",
        "colab_type": "text"
      },
      "source": [
        "First, extract the values from the \"Birth Year\" column and use them to **calculate the age of the rider.  Add those values as a column called \"age\" in your `citi` DataFrame**."
      ]
    },
    {
      "cell_type": "code",
      "metadata": {
        "id": "e4TeJ38RrwMa",
        "colab_type": "code",
        "outputId": "63a739ee-6cab-46ef-dffc-62c8fc01fbe1",
        "colab": {
          "base_uri": "https://localhost:8080/",
          "height": 417
        }
      },
      "source": [
        "citi[\"age\"] = 2016 - citi[\"Birth Year\"]\n",
        "citi.head()"
      ],
      "execution_count": 0,
      "outputs": [
        {
          "output_type": "execute_result",
          "data": {
            "text/html": [
              "<div>\n",
              "<style scoped>\n",
              "    .dataframe tbody tr th:only-of-type {\n",
              "        vertical-align: middle;\n",
              "    }\n",
              "\n",
              "    .dataframe tbody tr th {\n",
              "        vertical-align: top;\n",
              "    }\n",
              "\n",
              "    .dataframe thead th {\n",
              "        text-align: right;\n",
              "    }\n",
              "</style>\n",
              "<table border=\"1\" class=\"dataframe\">\n",
              "  <thead>\n",
              "    <tr style=\"text-align: right;\">\n",
              "      <th></th>\n",
              "      <th>Trip Duration</th>\n",
              "      <th>Start Time</th>\n",
              "      <th>Stop Time</th>\n",
              "      <th>Start Station ID</th>\n",
              "      <th>Start Station Name</th>\n",
              "      <th>Start Station Latitude</th>\n",
              "      <th>Start Station Longitude</th>\n",
              "      <th>End Station ID</th>\n",
              "      <th>End Station Name</th>\n",
              "      <th>End Station Latitude</th>\n",
              "      <th>End Station Longitude</th>\n",
              "      <th>Bike ID</th>\n",
              "      <th>User Type</th>\n",
              "      <th>Birth Year</th>\n",
              "      <th>Gender</th>\n",
              "      <th>age</th>\n",
              "    </tr>\n",
              "  </thead>\n",
              "  <tbody>\n",
              "    <tr>\n",
              "      <th>0</th>\n",
              "      <td>2084</td>\n",
              "      <td>2016-04-01 00:16:13</td>\n",
              "      <td>2016-04-01 00:50:58</td>\n",
              "      <td>3203</td>\n",
              "      <td>Hamilton Park</td>\n",
              "      <td>40.727596</td>\n",
              "      <td>-74.044247</td>\n",
              "      <td>3209</td>\n",
              "      <td>Brunswick St</td>\n",
              "      <td>40.724176</td>\n",
              "      <td>-74.050656</td>\n",
              "      <td>24500</td>\n",
              "      <td>Subscriber</td>\n",
              "      <td>1979.0</td>\n",
              "      <td>1</td>\n",
              "      <td>37.0</td>\n",
              "    </tr>\n",
              "    <tr>\n",
              "      <th>1</th>\n",
              "      <td>324</td>\n",
              "      <td>2016-04-01 00:32:48</td>\n",
              "      <td>2016-04-01 00:38:13</td>\n",
              "      <td>3202</td>\n",
              "      <td>Newport PATH</td>\n",
              "      <td>40.727224</td>\n",
              "      <td>-74.033759</td>\n",
              "      <td>3203</td>\n",
              "      <td>Hamilton Park</td>\n",
              "      <td>40.727596</td>\n",
              "      <td>-74.044247</td>\n",
              "      <td>24475</td>\n",
              "      <td>Subscriber</td>\n",
              "      <td>1954.0</td>\n",
              "      <td>1</td>\n",
              "      <td>62.0</td>\n",
              "    </tr>\n",
              "    <tr>\n",
              "      <th>2</th>\n",
              "      <td>387</td>\n",
              "      <td>2016-04-01 02:00:33</td>\n",
              "      <td>2016-04-01 02:07:00</td>\n",
              "      <td>3220</td>\n",
              "      <td>5 Corners Library</td>\n",
              "      <td>40.734961</td>\n",
              "      <td>-74.059503</td>\n",
              "      <td>3215</td>\n",
              "      <td>Central Ave</td>\n",
              "      <td>40.746730</td>\n",
              "      <td>-74.049251</td>\n",
              "      <td>24503</td>\n",
              "      <td>Subscriber</td>\n",
              "      <td>1975.0</td>\n",
              "      <td>1</td>\n",
              "      <td>41.0</td>\n",
              "    </tr>\n",
              "    <tr>\n",
              "      <th>3</th>\n",
              "      <td>140</td>\n",
              "      <td>2016-04-01 02:11:43</td>\n",
              "      <td>2016-04-01 02:14:03</td>\n",
              "      <td>3194</td>\n",
              "      <td>McGinley Square</td>\n",
              "      <td>40.725340</td>\n",
              "      <td>-74.067622</td>\n",
              "      <td>3195</td>\n",
              "      <td>Sip Ave</td>\n",
              "      <td>40.730743</td>\n",
              "      <td>-74.063784</td>\n",
              "      <td>24446</td>\n",
              "      <td>Subscriber</td>\n",
              "      <td>1981.0</td>\n",
              "      <td>1</td>\n",
              "      <td>35.0</td>\n",
              "    </tr>\n",
              "    <tr>\n",
              "      <th>4</th>\n",
              "      <td>142</td>\n",
              "      <td>2016-04-01 02:18:01</td>\n",
              "      <td>2016-04-01 02:20:23</td>\n",
              "      <td>3195</td>\n",
              "      <td>Sip Ave</td>\n",
              "      <td>40.730743</td>\n",
              "      <td>-74.063784</td>\n",
              "      <td>3194</td>\n",
              "      <td>McGinley Square</td>\n",
              "      <td>40.725340</td>\n",
              "      <td>-74.067622</td>\n",
              "      <td>24446</td>\n",
              "      <td>Subscriber</td>\n",
              "      <td>1981.0</td>\n",
              "      <td>1</td>\n",
              "      <td>35.0</td>\n",
              "    </tr>\n",
              "  </tbody>\n",
              "</table>\n",
              "</div>"
            ],
            "text/plain": [
              "   Trip Duration           Start Time  ... Gender   age\n",
              "0           2084  2016-04-01 00:16:13  ...      1  37.0\n",
              "1            324  2016-04-01 00:32:48  ...      1  62.0\n",
              "2            387  2016-04-01 02:00:33  ...      1  41.0\n",
              "3            140  2016-04-01 02:11:43  ...      1  35.0\n",
              "4            142  2016-04-01 02:18:01  ...      1  35.0\n",
              "\n",
              "[5 rows x 16 columns]"
            ]
          },
          "metadata": {
            "tags": []
          },
          "execution_count": 31
        }
      ]
    },
    {
      "cell_type": "markdown",
      "metadata": {
        "id": "iRMm6dcRsChJ",
        "colab_type": "text"
      },
      "source": [
        "Now, extract the \"Trip Duration\" column (the units of which are seconds) and **take the logarithm of those using numpy's log10 function$^{\\dagger}$.  Put them into a column in `citi` called \"logdur\".**\n",
        "\n",
        "<i><small>$^{\\dagger}$ recall that log10(x) = y where 10<sup>y</sup> = x, so if a trip duration is t = 100 seconds, np.log10(t) = 2 since 10<sup>2</sup> = 100.</small>"
      ]
    },
    {
      "cell_type": "code",
      "metadata": {
        "id": "HBo0mE33uGyK",
        "colab_type": "code",
        "outputId": "60694e02-2bdb-4671-f166-77afebe4c8dd",
        "colab": {
          "base_uri": "https://localhost:8080/",
          "height": 417
        }
      },
      "source": [
        "import numpy as np\n",
        "citi[\"logdur\"] = np.log10(citi[\"Trip Duration\"])\n",
        "citi.head()"
      ],
      "execution_count": 0,
      "outputs": [
        {
          "output_type": "execute_result",
          "data": {
            "text/html": [
              "<div>\n",
              "<style scoped>\n",
              "    .dataframe tbody tr th:only-of-type {\n",
              "        vertical-align: middle;\n",
              "    }\n",
              "\n",
              "    .dataframe tbody tr th {\n",
              "        vertical-align: top;\n",
              "    }\n",
              "\n",
              "    .dataframe thead th {\n",
              "        text-align: right;\n",
              "    }\n",
              "</style>\n",
              "<table border=\"1\" class=\"dataframe\">\n",
              "  <thead>\n",
              "    <tr style=\"text-align: right;\">\n",
              "      <th></th>\n",
              "      <th>Trip Duration</th>\n",
              "      <th>Start Time</th>\n",
              "      <th>Stop Time</th>\n",
              "      <th>Start Station ID</th>\n",
              "      <th>Start Station Name</th>\n",
              "      <th>Start Station Latitude</th>\n",
              "      <th>Start Station Longitude</th>\n",
              "      <th>End Station ID</th>\n",
              "      <th>End Station Name</th>\n",
              "      <th>End Station Latitude</th>\n",
              "      <th>End Station Longitude</th>\n",
              "      <th>Bike ID</th>\n",
              "      <th>User Type</th>\n",
              "      <th>Birth Year</th>\n",
              "      <th>Gender</th>\n",
              "      <th>age</th>\n",
              "      <th>logdur</th>\n",
              "    </tr>\n",
              "  </thead>\n",
              "  <tbody>\n",
              "    <tr>\n",
              "      <th>0</th>\n",
              "      <td>2084</td>\n",
              "      <td>2016-04-01 00:16:13</td>\n",
              "      <td>2016-04-01 00:50:58</td>\n",
              "      <td>3203</td>\n",
              "      <td>Hamilton Park</td>\n",
              "      <td>40.727596</td>\n",
              "      <td>-74.044247</td>\n",
              "      <td>3209</td>\n",
              "      <td>Brunswick St</td>\n",
              "      <td>40.724176</td>\n",
              "      <td>-74.050656</td>\n",
              "      <td>24500</td>\n",
              "      <td>Subscriber</td>\n",
              "      <td>1979.0</td>\n",
              "      <td>1</td>\n",
              "      <td>37.0</td>\n",
              "      <td>3.318898</td>\n",
              "    </tr>\n",
              "    <tr>\n",
              "      <th>1</th>\n",
              "      <td>324</td>\n",
              "      <td>2016-04-01 00:32:48</td>\n",
              "      <td>2016-04-01 00:38:13</td>\n",
              "      <td>3202</td>\n",
              "      <td>Newport PATH</td>\n",
              "      <td>40.727224</td>\n",
              "      <td>-74.033759</td>\n",
              "      <td>3203</td>\n",
              "      <td>Hamilton Park</td>\n",
              "      <td>40.727596</td>\n",
              "      <td>-74.044247</td>\n",
              "      <td>24475</td>\n",
              "      <td>Subscriber</td>\n",
              "      <td>1954.0</td>\n",
              "      <td>1</td>\n",
              "      <td>62.0</td>\n",
              "      <td>2.510545</td>\n",
              "    </tr>\n",
              "    <tr>\n",
              "      <th>2</th>\n",
              "      <td>387</td>\n",
              "      <td>2016-04-01 02:00:33</td>\n",
              "      <td>2016-04-01 02:07:00</td>\n",
              "      <td>3220</td>\n",
              "      <td>5 Corners Library</td>\n",
              "      <td>40.734961</td>\n",
              "      <td>-74.059503</td>\n",
              "      <td>3215</td>\n",
              "      <td>Central Ave</td>\n",
              "      <td>40.746730</td>\n",
              "      <td>-74.049251</td>\n",
              "      <td>24503</td>\n",
              "      <td>Subscriber</td>\n",
              "      <td>1975.0</td>\n",
              "      <td>1</td>\n",
              "      <td>41.0</td>\n",
              "      <td>2.587711</td>\n",
              "    </tr>\n",
              "    <tr>\n",
              "      <th>3</th>\n",
              "      <td>140</td>\n",
              "      <td>2016-04-01 02:11:43</td>\n",
              "      <td>2016-04-01 02:14:03</td>\n",
              "      <td>3194</td>\n",
              "      <td>McGinley Square</td>\n",
              "      <td>40.725340</td>\n",
              "      <td>-74.067622</td>\n",
              "      <td>3195</td>\n",
              "      <td>Sip Ave</td>\n",
              "      <td>40.730743</td>\n",
              "      <td>-74.063784</td>\n",
              "      <td>24446</td>\n",
              "      <td>Subscriber</td>\n",
              "      <td>1981.0</td>\n",
              "      <td>1</td>\n",
              "      <td>35.0</td>\n",
              "      <td>2.146128</td>\n",
              "    </tr>\n",
              "    <tr>\n",
              "      <th>4</th>\n",
              "      <td>142</td>\n",
              "      <td>2016-04-01 02:18:01</td>\n",
              "      <td>2016-04-01 02:20:23</td>\n",
              "      <td>3195</td>\n",
              "      <td>Sip Ave</td>\n",
              "      <td>40.730743</td>\n",
              "      <td>-74.063784</td>\n",
              "      <td>3194</td>\n",
              "      <td>McGinley Square</td>\n",
              "      <td>40.725340</td>\n",
              "      <td>-74.067622</td>\n",
              "      <td>24446</td>\n",
              "      <td>Subscriber</td>\n",
              "      <td>1981.0</td>\n",
              "      <td>1</td>\n",
              "      <td>35.0</td>\n",
              "      <td>2.152288</td>\n",
              "    </tr>\n",
              "  </tbody>\n",
              "</table>\n",
              "</div>"
            ],
            "text/plain": [
              "   Trip Duration           Start Time  ...   age    logdur\n",
              "0           2084  2016-04-01 00:16:13  ...  37.0  3.318898\n",
              "1            324  2016-04-01 00:32:48  ...  62.0  2.510545\n",
              "2            387  2016-04-01 02:00:33  ...  41.0  2.587711\n",
              "3            140  2016-04-01 02:11:43  ...  35.0  2.146128\n",
              "4            142  2016-04-01 02:18:01  ...  35.0  2.152288\n",
              "\n",
              "[5 rows x 17 columns]"
            ]
          },
          "metadata": {
            "tags": []
          },
          "execution_count": 32
        }
      ]
    },
    {
      "cell_type": "markdown",
      "metadata": {
        "id": "84bGnQmV5GCy",
        "colab_type": "text"
      },
      "source": [
        "### PART 4 - Visualize the data and update metrics **(GGD: +40)**"
      ]
    },
    {
      "cell_type": "markdown",
      "metadata": {
        "id": "cUba6njRu8Gy",
        "colab_type": "text"
      },
      "source": [
        "Since we're interested in trip durations, **use `citi`'s `.hist()` method to plot a histogram of the \"Trip Duration\" column of the data setting the range from 0 to 10000 seconds and using 100 bins. (GGD: OK, but was looking for using `citi`'s `.hist()` method)**"
      ]
    },
    {
      "cell_type": "code",
      "metadata": {
        "id": "O5ySnhwKSL4t",
        "colab_type": "code",
        "outputId": "c29c9b54-1069-4599-adc0-487712f3286b",
        "colab": {
          "base_uri": "https://localhost:8080/",
          "height": 298
        }
      },
      "source": [
        "import matplotlib.mlab as mlab\n",
        "import matplotlib.pyplot as plt\n",
        "\n",
        "# range from 0 to 10,000\n",
        "df1 = citi[\"Trip Duration\"] >= 0\n",
        "df2 = citi[\"Trip Duration\"] <= 10000\n",
        "df = df1 & df2\n",
        "\n",
        "citi_df = citi[df]\n",
        "citi_df\n",
        "\n",
        "# the histogram of the data\n",
        "# using 100 bins\n",
        "histogram = plt.hist(citi_df[\"Trip Duration\"], bins=100)\n",
        "plt.title(\"Histogram of the trip durations range from 0 to 10,000\")"
      ],
      "execution_count": 0,
      "outputs": [
        {
          "output_type": "execute_result",
          "data": {
            "text/plain": [
              "Text(0.5, 1.0, 'Histogram of the trip durations range from 0 to 10,000')"
            ]
          },
          "metadata": {
            "tags": []
          },
          "execution_count": 33
        },
        {
          "output_type": "display_data",
          "data": {
            "image/png": "[encoded data removed]",
            "text/plain": [
              "<Figure size 432x288 with 1 Axes>"
            ]
          },
          "metadata": {
            "tags": []
          }
        }
      ]
    },
    {
      "cell_type": "markdown",
      "metadata": {
        "id": "oTbiE8Pbu8ej",
        "colab_type": "text"
      },
      "source": [
        "**Would you characterize this distribution as \"Gaussian\"?  Why or why not?**"
      ]
    },
    {
      "cell_type": "markdown",
      "metadata": {
        "id": "5DkaRen42Lr3",
        "colab_type": "text"
      },
      "source": [
        "*   The graph above does not show [Gaussian distribution](https://en.wikipedia.org/wiki/Normal_distribution), in other words normal distribution. It is because this graph shows positively skewed asymmetrical distribution as the figure shown below. The mode and median smaller than mean.\n",
        "\n",
        "\n",
        "![Figure 1. Gaussian Distribution](https://www.isobudgets.com/wp-content/uploads/2015/10/skewness.jpg)"
      ]
    },
    {
      "cell_type": "markdown",
      "metadata": {
        "id": "aEgewh4m121F",
        "colab_type": "text"
      },
      "source": [
        "Now, **plot a histogram with 100 bins (no need to set the range) of the logarithm of the trip durations that you calculated above**."
      ]
    },
    {
      "cell_type": "code",
      "metadata": {
        "id": "TzqNSS-P12pz",
        "colab_type": "code",
        "outputId": "0c34624e-d060-41f1-c519-afd0b34962e5",
        "colab": {
          "base_uri": "https://localhost:8080/",
          "height": 298
        }
      },
      "source": [
        "# the histogram of the data\n",
        "# using 100 bins\n",
        "loghis = plt.hist(citi[\"logdur\"], bins=100)\n",
        "plt.title(\"Histogram of the lograithm of the trip durations\")"
      ],
      "execution_count": 0,
      "outputs": [
        {
          "output_type": "execute_result",
          "data": {
            "text/plain": [
              "Text(0.5, 1.0, 'Histogram of the lograithm of the trip durations')"
            ]
          },
          "metadata": {
            "tags": []
          },
          "execution_count": 34
        },
        {
          "output_type": "display_data",
          "data": {
            "image/png": "[encoded data removed]",
            "text/plain": [
              "<Figure size 432x288 with 1 Axes>"
            ]
          },
          "metadata": {
            "tags": []
          }
        }
      ]
    },
    {
      "cell_type": "markdown",
      "metadata": {
        "id": "b2qNrG_t2Ao2",
        "colab_type": "text"
      },
      "source": [
        "**Would you characterize this distribution as Gaussian?  Why or why not?**"
      ]
    },
    {
      "cell_type": "markdown",
      "metadata": {
        "id": "_2wFa1XP12fh",
        "colab_type": "text"
      },
      "source": [
        "*   The graph above is near to the [Gaussian distribution](https://en.wikipedia.org/wiki/Normal_distribution), in other words normal distribution. It is because this graph is not negatively or positively skewed since the mean, median, and mode are almost similar as the figure shown below. \n",
        "\n",
        "![Figure 1. Gaussian Distribution](https://www.isobudgets.com/wp-content/uploads/2015/10/skewness.jpg)\n",
        "\n",
        "*   However, it is important to examine the median to conclude if the graph shows the Gaussian distribution. \n",
        "\n"
      ]
    },
    {
      "cell_type": "markdown",
      "metadata": {
        "id": "78ZLmYkK2TCL",
        "colab_type": "text"
      },
      "source": [
        "The previous plot might give you a sense for how to break up the rides into \"short\" and \"long\" rides (which we'll use as a proxy for \"commuter\" and \"recreational\" respectively).  **Calculate the median of the logarithm of the trip duration.**"
      ]
    },
    {
      "cell_type": "code",
      "metadata": {
        "id": "9QWSgqSP2S5w",
        "colab_type": "code",
        "outputId": "8699c389-0f1d-46aa-b9e2-7ce11a8fdeab",
        "colab": {
          "base_uri": "https://localhost:8080/",
          "height": 34
        }
      },
      "source": [
        "print(\"The median of the logarithm of the trip duration is {0}\".format(citi[\"logdur\"].median()))"
      ],
      "execution_count": 0,
      "outputs": [
        {
          "output_type": "stream",
          "text": [
            "The median of the logarithm of the trip duration is 2.6138418218760693\n"
          ],
          "name": "stdout"
        }
      ]
    },
    {
      "cell_type": "markdown",
      "metadata": {
        "id": "WFEr_yEZ3Roo",
        "colab_type": "text"
      },
      "source": [
        "We'll use this as the short/long dividing line.  **What is the duration of this trip in minutes?  Does that seem like a resonable time for commuting?  How far would you get in that time biking at 10 mph (and is that a reasonable biking speed)?**"
      ]
    },
    {
      "cell_type": "code",
      "metadata": {
        "id": "Tn6kM5tXZAhz",
        "colab_type": "code",
        "outputId": "c75f84b6-91b6-46c6-e763-376e427fb9c4",
        "colab": {
          "base_uri": "https://localhost:8080/",
          "height": 84
        }
      },
      "source": [
        "# Since log10(x) = y means that x = 10**y, log10(Trip Duration [s]) = citi[\"logdur\"].median()\n",
        "# So, Trip Duration [s] = 10 ** citi[\"logdur\"].median()\n",
        "# Convert the median of the distribution of log10(Trip Duration) back into seconds\n",
        "10 ** (citi[\"logdur\"].median())\n",
        "# Convert that number to minutes\n",
        "10 ** (citi[\"logdur\"].median()) / 60\n",
        "\n",
        "# Answer 1: What is the duration of this trip in minutes? \n",
        "tline = (10 ** citi[\"logdur\"].median()) / 60\n",
        "print(\"The duration of this trip in minutes which will be used for the short/long dividing line is {0} minutes\".format(round(tline, 0)))\n",
        "# Answer 2: Does that seem like a reasonable time for commuting?\n",
        "print(\"Yes, it seems lik reasonable time for commuting\")\n",
        "\n",
        "# Answer 3: How far would you get in that time biking at 10 mph?\n",
        "dline = ((10 ** citi[\"logdur\"].median()) / 60**2) * 10\n",
        "print(\"The distance of this trip biking at 10mph which will be used for the short/long dividing line is {0} miles\".format(round(dline, 2)))\n",
        "# Answer 4: and is that a reasonable biking speed?\n",
        "print(\"Yes, it seems like a reasonable biking speed\")"
      ],
      "execution_count": 0,
      "outputs": [
        {
          "output_type": "stream",
          "text": [
            "The duration of this trip in minutes which will be used for the short/long dividing line is 7.0 minutes\n",
            "Yes, it seems lik reasonable time for commuting\n",
            "The distance of this trip biking at 10mph which will be used for the short/long dividing line is 1.14 miles\n",
            "Yes, it seems like a reasonable biking speed\n"
          ],
          "name": "stdout"
        }
      ]
    },
    {
      "cell_type": "markdown",
      "metadata": {
        "id": "MZJKAesj4Ux3",
        "colab_type": "text"
      },
      "source": [
        "**Add two columns to your `citi` dataframe: a column called \"short_trip\" that is `True` when the trip duration is less than dividing line above and `False` otherwise, and a column called \"long_trip\" that is `True` when the duration is greater than or equal to the dividing line above but `False` otherwise.**"
      ]
    },
    {
      "cell_type": "code",
      "metadata": {
        "id": "zkmj0VPmxbaR",
        "colab_type": "code",
        "outputId": "29d20bd3-0dc2-418b-d738-d041ea438368",
        "colab": {
          "base_uri": "https://localhost:8080/",
          "height": 417
        }
      },
      "source": [
        "citi[\"trip[min]\"] = 10 ** (citi[\"logdur\"]) / 60\n",
        "citi[\"short_trip\"] = citi[\"trip[min]\"] < tline\n",
        "citi[\"long_trip\"] = citi[\"trip[min]\"] >= tline\n",
        "citi.head()"
      ],
      "execution_count": 0,
      "outputs": [
        {
          "output_type": "execute_result",
          "data": {
            "text/html": [
              "<div>\n",
              "<style scoped>\n",
              "    .dataframe tbody tr th:only-of-type {\n",
              "        vertical-align: middle;\n",
              "    }\n",
              "\n",
              "    .dataframe tbody tr th {\n",
              "        vertical-align: top;\n",
              "    }\n",
              "\n",
              "    .dataframe thead th {\n",
              "        text-align: right;\n",
              "    }\n",
              "</style>\n",
              "<table border=\"1\" class=\"dataframe\">\n",
              "  <thead>\n",
              "    <tr style=\"text-align: right;\">\n",
              "      <th></th>\n",
              "      <th>Trip Duration</th>\n",
              "      <th>Start Time</th>\n",
              "      <th>Stop Time</th>\n",
              "      <th>Start Station ID</th>\n",
              "      <th>Start Station Name</th>\n",
              "      <th>Start Station Latitude</th>\n",
              "      <th>Start Station Longitude</th>\n",
              "      <th>End Station ID</th>\n",
              "      <th>End Station Name</th>\n",
              "      <th>End Station Latitude</th>\n",
              "      <th>End Station Longitude</th>\n",
              "      <th>Bike ID</th>\n",
              "      <th>User Type</th>\n",
              "      <th>Birth Year</th>\n",
              "      <th>Gender</th>\n",
              "      <th>age</th>\n",
              "      <th>logdur</th>\n",
              "      <th>trip[min]</th>\n",
              "      <th>short_trip</th>\n",
              "      <th>long_trip</th>\n",
              "    </tr>\n",
              "  </thead>\n",
              "  <tbody>\n",
              "    <tr>\n",
              "      <th>0</th>\n",
              "      <td>2084</td>\n",
              "      <td>2016-04-01 00:16:13</td>\n",
              "      <td>2016-04-01 00:50:58</td>\n",
              "      <td>3203</td>\n",
              "      <td>Hamilton Park</td>\n",
              "      <td>40.727596</td>\n",
              "      <td>-74.044247</td>\n",
              "      <td>3209</td>\n",
              "      <td>Brunswick St</td>\n",
              "      <td>40.724176</td>\n",
              "      <td>-74.050656</td>\n",
              "      <td>24500</td>\n",
              "      <td>Subscriber</td>\n",
              "      <td>1979.0</td>\n",
              "      <td>1</td>\n",
              "      <td>37.0</td>\n",
              "      <td>3.318898</td>\n",
              "      <td>34.733333</td>\n",
              "      <td>False</td>\n",
              "      <td>True</td>\n",
              "    </tr>\n",
              "    <tr>\n",
              "      <th>1</th>\n",
              "      <td>324</td>\n",
              "      <td>2016-04-01 00:32:48</td>\n",
              "      <td>2016-04-01 00:38:13</td>\n",
              "      <td>3202</td>\n",
              "      <td>Newport PATH</td>\n",
              "      <td>40.727224</td>\n",
              "      <td>-74.033759</td>\n",
              "      <td>3203</td>\n",
              "      <td>Hamilton Park</td>\n",
              "      <td>40.727596</td>\n",
              "      <td>-74.044247</td>\n",
              "      <td>24475</td>\n",
              "      <td>Subscriber</td>\n",
              "      <td>1954.0</td>\n",
              "      <td>1</td>\n",
              "      <td>62.0</td>\n",
              "      <td>2.510545</td>\n",
              "      <td>5.400000</td>\n",
              "      <td>True</td>\n",
              "      <td>False</td>\n",
              "    </tr>\n",
              "    <tr>\n",
              "      <th>2</th>\n",
              "      <td>387</td>\n",
              "      <td>2016-04-01 02:00:33</td>\n",
              "      <td>2016-04-01 02:07:00</td>\n",
              "      <td>3220</td>\n",
              "      <td>5 Corners Library</td>\n",
              "      <td>40.734961</td>\n",
              "      <td>-74.059503</td>\n",
              "      <td>3215</td>\n",
              "      <td>Central Ave</td>\n",
              "      <td>40.746730</td>\n",
              "      <td>-74.049251</td>\n",
              "      <td>24503</td>\n",
              "      <td>Subscriber</td>\n",
              "      <td>1975.0</td>\n",
              "      <td>1</td>\n",
              "      <td>41.0</td>\n",
              "      <td>2.587711</td>\n",
              "      <td>6.450000</td>\n",
              "      <td>True</td>\n",
              "      <td>False</td>\n",
              "    </tr>\n",
              "    <tr>\n",
              "      <th>3</th>\n",
              "      <td>140</td>\n",
              "      <td>2016-04-01 02:11:43</td>\n",
              "      <td>2016-04-01 02:14:03</td>\n",
              "      <td>3194</td>\n",
              "      <td>McGinley Square</td>\n",
              "      <td>40.725340</td>\n",
              "      <td>-74.067622</td>\n",
              "      <td>3195</td>\n",
              "      <td>Sip Ave</td>\n",
              "      <td>40.730743</td>\n",
              "      <td>-74.063784</td>\n",
              "      <td>24446</td>\n",
              "      <td>Subscriber</td>\n",
              "      <td>1981.0</td>\n",
              "      <td>1</td>\n",
              "      <td>35.0</td>\n",
              "      <td>2.146128</td>\n",
              "      <td>2.333333</td>\n",
              "      <td>True</td>\n",
              "      <td>False</td>\n",
              "    </tr>\n",
              "    <tr>\n",
              "      <th>4</th>\n",
              "      <td>142</td>\n",
              "      <td>2016-04-01 02:18:01</td>\n",
              "      <td>2016-04-01 02:20:23</td>\n",
              "      <td>3195</td>\n",
              "      <td>Sip Ave</td>\n",
              "      <td>40.730743</td>\n",
              "      <td>-74.063784</td>\n",
              "      <td>3194</td>\n",
              "      <td>McGinley Square</td>\n",
              "      <td>40.725340</td>\n",
              "      <td>-74.067622</td>\n",
              "      <td>24446</td>\n",
              "      <td>Subscriber</td>\n",
              "      <td>1981.0</td>\n",
              "      <td>1</td>\n",
              "      <td>35.0</td>\n",
              "      <td>2.152288</td>\n",
              "      <td>2.366667</td>\n",
              "      <td>True</td>\n",
              "      <td>False</td>\n",
              "    </tr>\n",
              "  </tbody>\n",
              "</table>\n",
              "</div>"
            ],
            "text/plain": [
              "   Trip Duration           Start Time  ... short_trip  long_trip\n",
              "0           2084  2016-04-01 00:16:13  ...      False       True\n",
              "1            324  2016-04-01 00:32:48  ...       True      False\n",
              "2            387  2016-04-01 02:00:33  ...       True      False\n",
              "3            140  2016-04-01 02:11:43  ...       True      False\n",
              "4            142  2016-04-01 02:18:01  ...       True      False\n",
              "\n",
              "[5 rows x 20 columns]"
            ]
          },
          "metadata": {
            "tags": []
          },
          "execution_count": 37
        }
      ]
    },
    {
      "cell_type": "markdown",
      "metadata": {
        "id": "3lfTZYna7sm0",
        "colab_type": "text"
      },
      "source": [
        "Now, we're going to use a pandas dataframe trick that is quite useful (and related to similar functionality in other data analysis software) to \"group\" the data \"by\" the age using `citi`'s `.groupby()` method.  It also needs a function to perform on the groups which outputs another data frame.  If you've accomplished the above correctly, this line of code should execute without an error:"
      ]
    },
    {
      "cell_type": "code",
      "metadata": {
        "id": "_qVvPMW57uUa",
        "colab_type": "code",
        "outputId": "34c8c600-1e6a-426a-cd60-a790af96e0fa",
        "colab": {
          "base_uri": "https://localhost:8080/",
          "height": 278
        }
      },
      "source": [
        "citig = citi.groupby(\"age\").sum()\n",
        "citig.head()"
      ],
      "execution_count": 0,
      "outputs": [
        {
          "output_type": "execute_result",
          "data": {
            "text/html": [
              "<div>\n",
              "<style scoped>\n",
              "    .dataframe tbody tr th:only-of-type {\n",
              "        vertical-align: middle;\n",
              "    }\n",
              "\n",
              "    .dataframe tbody tr th {\n",
              "        vertical-align: top;\n",
              "    }\n",
              "\n",
              "    .dataframe thead th {\n",
              "        text-align: right;\n",
              "    }\n",
              "</style>\n",
              "<table border=\"1\" class=\"dataframe\">\n",
              "  <thead>\n",
              "    <tr style=\"text-align: right;\">\n",
              "      <th></th>\n",
              "      <th>Trip Duration</th>\n",
              "      <th>Start Station ID</th>\n",
              "      <th>Start Station Latitude</th>\n",
              "      <th>Start Station Longitude</th>\n",
              "      <th>End Station ID</th>\n",
              "      <th>End Station Latitude</th>\n",
              "      <th>End Station Longitude</th>\n",
              "      <th>Bike ID</th>\n",
              "      <th>Birth Year</th>\n",
              "      <th>Gender</th>\n",
              "      <th>logdur</th>\n",
              "      <th>trip[min]</th>\n",
              "      <th>short_trip</th>\n",
              "      <th>long_trip</th>\n",
              "    </tr>\n",
              "    <tr>\n",
              "      <th>age</th>\n",
              "      <th></th>\n",
              "      <th></th>\n",
              "      <th></th>\n",
              "      <th></th>\n",
              "      <th></th>\n",
              "      <th></th>\n",
              "      <th></th>\n",
              "      <th></th>\n",
              "      <th></th>\n",
              "      <th></th>\n",
              "      <th></th>\n",
              "      <th></th>\n",
              "      <th></th>\n",
              "      <th></th>\n",
              "    </tr>\n",
              "  </thead>\n",
              "  <tbody>\n",
              "    <tr>\n",
              "      <th>17.0</th>\n",
              "      <td>3393</td>\n",
              "      <td>15980</td>\n",
              "      <td>203.630178</td>\n",
              "      <td>-370.263740</td>\n",
              "      <td>15980</td>\n",
              "      <td>203.630178</td>\n",
              "      <td>-370.263740</td>\n",
              "      <td>122472</td>\n",
              "      <td>9995.0</td>\n",
              "      <td>5</td>\n",
              "      <td>13.760617</td>\n",
              "      <td>56.550000</td>\n",
              "      <td>1.0</td>\n",
              "      <td>4.0</td>\n",
              "    </tr>\n",
              "    <tr>\n",
              "      <th>18.0</th>\n",
              "      <td>9242</td>\n",
              "      <td>28797</td>\n",
              "      <td>366.675084</td>\n",
              "      <td>-666.375402</td>\n",
              "      <td>28812</td>\n",
              "      <td>366.611724</td>\n",
              "      <td>-666.386814</td>\n",
              "      <td>221001</td>\n",
              "      <td>17982.0</td>\n",
              "      <td>18</td>\n",
              "      <td>27.041874</td>\n",
              "      <td>154.033333</td>\n",
              "      <td>0.0</td>\n",
              "      <td>9.0</td>\n",
              "    </tr>\n",
              "    <tr>\n",
              "      <th>19.0</th>\n",
              "      <td>1125</td>\n",
              "      <td>3203</td>\n",
              "      <td>40.727596</td>\n",
              "      <td>-74.044247</td>\n",
              "      <td>3203</td>\n",
              "      <td>40.727596</td>\n",
              "      <td>-74.044247</td>\n",
              "      <td>24607</td>\n",
              "      <td>1997.0</td>\n",
              "      <td>2</td>\n",
              "      <td>3.051153</td>\n",
              "      <td>18.750000</td>\n",
              "      <td>0.0</td>\n",
              "      <td>1.0</td>\n",
              "    </tr>\n",
              "    <tr>\n",
              "      <th>20.0</th>\n",
              "      <td>23395</td>\n",
              "      <td>111869</td>\n",
              "      <td>1425.350754</td>\n",
              "      <td>-2592.103091</td>\n",
              "      <td>112063</td>\n",
              "      <td>1425.279581</td>\n",
              "      <td>-2591.629175</td>\n",
              "      <td>858796</td>\n",
              "      <td>69860.0</td>\n",
              "      <td>70</td>\n",
              "      <td>95.968006</td>\n",
              "      <td>389.916667</td>\n",
              "      <td>8.0</td>\n",
              "      <td>27.0</td>\n",
              "    </tr>\n",
              "    <tr>\n",
              "      <th>21.0</th>\n",
              "      <td>20720</td>\n",
              "      <td>76717</td>\n",
              "      <td>977.407891</td>\n",
              "      <td>-1776.809458</td>\n",
              "      <td>73898</td>\n",
              "      <td>977.440750</td>\n",
              "      <td>-1776.802818</td>\n",
              "      <td>590006</td>\n",
              "      <td>47880.0</td>\n",
              "      <td>26</td>\n",
              "      <td>62.197159</td>\n",
              "      <td>345.333333</td>\n",
              "      <td>13.0</td>\n",
              "      <td>11.0</td>\n",
              "    </tr>\n",
              "  </tbody>\n",
              "</table>\n",
              "</div>"
            ],
            "text/plain": [
              "      Trip Duration  Start Station ID  ...  short_trip  long_trip\n",
              "age                                    ...                       \n",
              "17.0           3393             15980  ...         1.0        4.0\n",
              "18.0           9242             28797  ...         0.0        9.0\n",
              "19.0           1125              3203  ...         0.0        1.0\n",
              "20.0          23395            111869  ...         8.0       27.0\n",
              "21.0          20720             76717  ...        13.0       11.0\n",
              "\n",
              "[5 rows x 14 columns]"
            ]
          },
          "metadata": {
            "tags": []
          },
          "execution_count": 38
        }
      ]
    },
    {
      "cell_type": "markdown",
      "metadata": {
        "id": "z2c5V0Ph7ueY",
        "colab_type": "text"
      },
      "source": [
        "This new dataframe should now have an index that is the ages and two columns (called \"short_trip\" and \"long_trip\") that are the sums of short and long trips for that age group.  **Get the total number of trips for that age group by adding those together.**"
      ]
    },
    {
      "cell_type": "code",
      "metadata": {
        "id": "8EQUXYcs3Uqa",
        "colab_type": "code",
        "outputId": "95361228-7bfa-479c-faf7-b999ec73430f",
        "colab": {
          "base_uri": "https://localhost:8080/",
          "height": 118
        }
      },
      "source": [
        "# Case 1\n",
        "citig[\"totg\"] = citig[\"short_trip\"] + citig[\"long_trip\"]\n",
        "totg = citig[\"totg\"].sum()\n",
        "print(\"Total number of trips for that age group is shown in 'totg' column and the total number is {0}\".format(totg))\n",
        "print(\"\")\n",
        "# Case2\n",
        "print(\"[Recheck]\")\n",
        "short_tot = citig[\"short_trip\"].sum()\n",
        "print(\"Total number of short trips is {0}\". format(short_tot))\n",
        "long_tot = citig[\"long_trip\"].sum()\n",
        "print(\"Total number of long trips is {0}\".format(long_tot))\n",
        "tot_trip = short_tot + long_tot \n",
        "print(\"Total number of trips for that age group is {0}\".format(tot_trip))"
      ],
      "execution_count": 0,
      "outputs": [
        {
          "output_type": "stream",
          "text": [
            "Total number of trips for that age group is shown in 'totg' column and the total number is 14593.0\n",
            "\n",
            "[Recheck]\n",
            "Total number of short trips is 8030.0\n",
            "Total number of long trips is 6563.0\n",
            "Total number of trips for that age group is 14593.0\n"
          ],
          "name": "stdout"
        }
      ]
    },
    {
      "cell_type": "markdown",
      "metadata": {
        "id": "_VRi2Dv187P6",
        "colab_type": "text"
      },
      "source": [
        "**Plot the fraction of trips that are short as a function of age group.**$^{\\dagger}$\n",
        "\n",
        "<small>$^{\\dagger}$ you can access the index values of a dataframe like so: age_group = citig.index</small>"
      ]
    },
    {
      "cell_type": "code",
      "metadata": {
        "id": "5ZROkrtC-qsV",
        "colab_type": "code",
        "outputId": "6a8438e9-0de0-4359-fdb1-4b9944b55798",
        "colab": {
          "base_uri": "https://localhost:8080/",
          "height": 278
        }
      },
      "source": [
        "citig[\"age_groups\"] = citig.index\n",
        "\n",
        "# Case1: fraction of trips that are short = short trips / total number of trips\n",
        "citig[\"shrt/tot\"] = citig[\"short_trip\"] / tot_trip\n",
        "citig.head()"
      ],
      "execution_count": 0,
      "outputs": [
        {
          "output_type": "execute_result",
          "data": {
            "text/html": [
              "<div>\n",
              "<style scoped>\n",
              "    .dataframe tbody tr th:only-of-type {\n",
              "        vertical-align: middle;\n",
              "    }\n",
              "\n",
              "    .dataframe tbody tr th {\n",
              "        vertical-align: top;\n",
              "    }\n",
              "\n",
              "    .dataframe thead th {\n",
              "        text-align: right;\n",
              "    }\n",
              "</style>\n",
              "<table border=\"1\" class=\"dataframe\">\n",
              "  <thead>\n",
              "    <tr style=\"text-align: right;\">\n",
              "      <th></th>\n",
              "      <th>Trip Duration</th>\n",
              "      <th>Start Station ID</th>\n",
              "      <th>Start Station Latitude</th>\n",
              "      <th>Start Station Longitude</th>\n",
              "      <th>End Station ID</th>\n",
              "      <th>End Station Latitude</th>\n",
              "      <th>End Station Longitude</th>\n",
              "      <th>Bike ID</th>\n",
              "      <th>Birth Year</th>\n",
              "      <th>Gender</th>\n",
              "      <th>logdur</th>\n",
              "      <th>trip[min]</th>\n",
              "      <th>short_trip</th>\n",
              "      <th>long_trip</th>\n",
              "      <th>totg</th>\n",
              "      <th>age_groups</th>\n",
              "      <th>shrt/tot</th>\n",
              "    </tr>\n",
              "    <tr>\n",
              "      <th>age</th>\n",
              "      <th></th>\n",
              "      <th></th>\n",
              "      <th></th>\n",
              "      <th></th>\n",
              "      <th></th>\n",
              "      <th></th>\n",
              "      <th></th>\n",
              "      <th></th>\n",
              "      <th></th>\n",
              "      <th></th>\n",
              "      <th></th>\n",
              "      <th></th>\n",
              "      <th></th>\n",
              "      <th></th>\n",
              "      <th></th>\n",
              "      <th></th>\n",
              "      <th></th>\n",
              "    </tr>\n",
              "  </thead>\n",
              "  <tbody>\n",
              "    <tr>\n",
              "      <th>17.0</th>\n",
              "      <td>3393</td>\n",
              "      <td>15980</td>\n",
              "      <td>203.630178</td>\n",
              "      <td>-370.263740</td>\n",
              "      <td>15980</td>\n",
              "      <td>203.630178</td>\n",
              "      <td>-370.263740</td>\n",
              "      <td>122472</td>\n",
              "      <td>9995.0</td>\n",
              "      <td>5</td>\n",
              "      <td>13.760617</td>\n",
              "      <td>56.550000</td>\n",
              "      <td>1.0</td>\n",
              "      <td>4.0</td>\n",
              "      <td>5.0</td>\n",
              "      <td>17.0</td>\n",
              "      <td>0.000069</td>\n",
              "    </tr>\n",
              "    <tr>\n",
              "      <th>18.0</th>\n",
              "      <td>9242</td>\n",
              "      <td>28797</td>\n",
              "      <td>366.675084</td>\n",
              "      <td>-666.375402</td>\n",
              "      <td>28812</td>\n",
              "      <td>366.611724</td>\n",
              "      <td>-666.386814</td>\n",
              "      <td>221001</td>\n",
              "      <td>17982.0</td>\n",
              "      <td>18</td>\n",
              "      <td>27.041874</td>\n",
              "      <td>154.033333</td>\n",
              "      <td>0.0</td>\n",
              "      <td>9.0</td>\n",
              "      <td>9.0</td>\n",
              "      <td>18.0</td>\n",
              "      <td>0.000000</td>\n",
              "    </tr>\n",
              "    <tr>\n",
              "      <th>19.0</th>\n",
              "      <td>1125</td>\n",
              "      <td>3203</td>\n",
              "      <td>40.727596</td>\n",
              "      <td>-74.044247</td>\n",
              "      <td>3203</td>\n",
              "      <td>40.727596</td>\n",
              "      <td>-74.044247</td>\n",
              "      <td>24607</td>\n",
              "      <td>1997.0</td>\n",
              "      <td>2</td>\n",
              "      <td>3.051153</td>\n",
              "      <td>18.750000</td>\n",
              "      <td>0.0</td>\n",
              "      <td>1.0</td>\n",
              "      <td>1.0</td>\n",
              "      <td>19.0</td>\n",
              "      <td>0.000000</td>\n",
              "    </tr>\n",
              "    <tr>\n",
              "      <th>20.0</th>\n",
              "      <td>23395</td>\n",
              "      <td>111869</td>\n",
              "      <td>1425.350754</td>\n",
              "      <td>-2592.103091</td>\n",
              "      <td>112063</td>\n",
              "      <td>1425.279581</td>\n",
              "      <td>-2591.629175</td>\n",
              "      <td>858796</td>\n",
              "      <td>69860.0</td>\n",
              "      <td>70</td>\n",
              "      <td>95.968006</td>\n",
              "      <td>389.916667</td>\n",
              "      <td>8.0</td>\n",
              "      <td>27.0</td>\n",
              "      <td>35.0</td>\n",
              "      <td>20.0</td>\n",
              "      <td>0.000548</td>\n",
              "    </tr>\n",
              "    <tr>\n",
              "      <th>21.0</th>\n",
              "      <td>20720</td>\n",
              "      <td>76717</td>\n",
              "      <td>977.407891</td>\n",
              "      <td>-1776.809458</td>\n",
              "      <td>73898</td>\n",
              "      <td>977.440750</td>\n",
              "      <td>-1776.802818</td>\n",
              "      <td>590006</td>\n",
              "      <td>47880.0</td>\n",
              "      <td>26</td>\n",
              "      <td>62.197159</td>\n",
              "      <td>345.333333</td>\n",
              "      <td>13.0</td>\n",
              "      <td>11.0</td>\n",
              "      <td>24.0</td>\n",
              "      <td>21.0</td>\n",
              "      <td>0.000891</td>\n",
              "    </tr>\n",
              "  </tbody>\n",
              "</table>\n",
              "</div>"
            ],
            "text/plain": [
              "      Trip Duration  Start Station ID  ...  age_groups  shrt/tot\n",
              "age                                    ...                      \n",
              "17.0           3393             15980  ...        17.0  0.000069\n",
              "18.0           9242             28797  ...        18.0  0.000000\n",
              "19.0           1125              3203  ...        19.0  0.000000\n",
              "20.0          23395            111869  ...        20.0  0.000548\n",
              "21.0          20720             76717  ...        21.0  0.000891\n",
              "\n",
              "[5 rows x 17 columns]"
            ]
          },
          "metadata": {
            "tags": []
          },
          "execution_count": 40
        }
      ]
    },
    {
      "cell_type": "code",
      "metadata": {
        "id": "ssqA-FxW7hpA",
        "colab_type": "code",
        "outputId": "8499e241-210f-4fb7-d925-784a85fee1bd",
        "colab": {
          "base_uri": "https://localhost:8080/",
          "height": 278
        }
      },
      "source": [
        "# Case2: fraction of trips that are short = short trips / total trips(age group) \n",
        "citig[\"shrt/totg\"] = citig[\"short_trip\"] / citig[\"totg\"]\n",
        "citig.head()"
      ],
      "execution_count": 0,
      "outputs": [
        {
          "output_type": "execute_result",
          "data": {
            "text/html": [
              "<div>\n",
              "<style scoped>\n",
              "    .dataframe tbody tr th:only-of-type {\n",
              "        vertical-align: middle;\n",
              "    }\n",
              "\n",
              "    .dataframe tbody tr th {\n",
              "        vertical-align: top;\n",
              "    }\n",
              "\n",
              "    .dataframe thead th {\n",
              "        text-align: right;\n",
              "    }\n",
              "</style>\n",
              "<table border=\"1\" class=\"dataframe\">\n",
              "  <thead>\n",
              "    <tr style=\"text-align: right;\">\n",
              "      <th></th>\n",
              "      <th>Trip Duration</th>\n",
              "      <th>Start Station ID</th>\n",
              "      <th>Start Station Latitude</th>\n",
              "      <th>Start Station Longitude</th>\n",
              "      <th>End Station ID</th>\n",
              "      <th>End Station Latitude</th>\n",
              "      <th>End Station Longitude</th>\n",
              "      <th>Bike ID</th>\n",
              "      <th>Birth Year</th>\n",
              "      <th>Gender</th>\n",
              "      <th>logdur</th>\n",
              "      <th>trip[min]</th>\n",
              "      <th>short_trip</th>\n",
              "      <th>long_trip</th>\n",
              "      <th>totg</th>\n",
              "      <th>age_groups</th>\n",
              "      <th>shrt/tot</th>\n",
              "      <th>shrt/totg</th>\n",
              "    </tr>\n",
              "    <tr>\n",
              "      <th>age</th>\n",
              "      <th></th>\n",
              "      <th></th>\n",
              "      <th></th>\n",
              "      <th></th>\n",
              "      <th></th>\n",
              "      <th></th>\n",
              "      <th></th>\n",
              "      <th></th>\n",
              "      <th></th>\n",
              "      <th></th>\n",
              "      <th></th>\n",
              "      <th></th>\n",
              "      <th></th>\n",
              "      <th></th>\n",
              "      <th></th>\n",
              "      <th></th>\n",
              "      <th></th>\n",
              "      <th></th>\n",
              "    </tr>\n",
              "  </thead>\n",
              "  <tbody>\n",
              "    <tr>\n",
              "      <th>17.0</th>\n",
              "      <td>3393</td>\n",
              "      <td>15980</td>\n",
              "      <td>203.630178</td>\n",
              "      <td>-370.263740</td>\n",
              "      <td>15980</td>\n",
              "      <td>203.630178</td>\n",
              "      <td>-370.263740</td>\n",
              "      <td>122472</td>\n",
              "      <td>9995.0</td>\n",
              "      <td>5</td>\n",
              "      <td>13.760617</td>\n",
              "      <td>56.550000</td>\n",
              "      <td>1.0</td>\n",
              "      <td>4.0</td>\n",
              "      <td>5.0</td>\n",
              "      <td>17.0</td>\n",
              "      <td>0.000069</td>\n",
              "      <td>0.200000</td>\n",
              "    </tr>\n",
              "    <tr>\n",
              "      <th>18.0</th>\n",
              "      <td>9242</td>\n",
              "      <td>28797</td>\n",
              "      <td>366.675084</td>\n",
              "      <td>-666.375402</td>\n",
              "      <td>28812</td>\n",
              "      <td>366.611724</td>\n",
              "      <td>-666.386814</td>\n",
              "      <td>221001</td>\n",
              "      <td>17982.0</td>\n",
              "      <td>18</td>\n",
              "      <td>27.041874</td>\n",
              "      <td>154.033333</td>\n",
              "      <td>0.0</td>\n",
              "      <td>9.0</td>\n",
              "      <td>9.0</td>\n",
              "      <td>18.0</td>\n",
              "      <td>0.000000</td>\n",
              "      <td>0.000000</td>\n",
              "    </tr>\n",
              "    <tr>\n",
              "      <th>19.0</th>\n",
              "      <td>1125</td>\n",
              "      <td>3203</td>\n",
              "      <td>40.727596</td>\n",
              "      <td>-74.044247</td>\n",
              "      <td>3203</td>\n",
              "      <td>40.727596</td>\n",
              "      <td>-74.044247</td>\n",
              "      <td>24607</td>\n",
              "      <td>1997.0</td>\n",
              "      <td>2</td>\n",
              "      <td>3.051153</td>\n",
              "      <td>18.750000</td>\n",
              "      <td>0.0</td>\n",
              "      <td>1.0</td>\n",
              "      <td>1.0</td>\n",
              "      <td>19.0</td>\n",
              "      <td>0.000000</td>\n",
              "      <td>0.000000</td>\n",
              "    </tr>\n",
              "    <tr>\n",
              "      <th>20.0</th>\n",
              "      <td>23395</td>\n",
              "      <td>111869</td>\n",
              "      <td>1425.350754</td>\n",
              "      <td>-2592.103091</td>\n",
              "      <td>112063</td>\n",
              "      <td>1425.279581</td>\n",
              "      <td>-2591.629175</td>\n",
              "      <td>858796</td>\n",
              "      <td>69860.0</td>\n",
              "      <td>70</td>\n",
              "      <td>95.968006</td>\n",
              "      <td>389.916667</td>\n",
              "      <td>8.0</td>\n",
              "      <td>27.0</td>\n",
              "      <td>35.0</td>\n",
              "      <td>20.0</td>\n",
              "      <td>0.000548</td>\n",
              "      <td>0.228571</td>\n",
              "    </tr>\n",
              "    <tr>\n",
              "      <th>21.0</th>\n",
              "      <td>20720</td>\n",
              "      <td>76717</td>\n",
              "      <td>977.407891</td>\n",
              "      <td>-1776.809458</td>\n",
              "      <td>73898</td>\n",
              "      <td>977.440750</td>\n",
              "      <td>-1776.802818</td>\n",
              "      <td>590006</td>\n",
              "      <td>47880.0</td>\n",
              "      <td>26</td>\n",
              "      <td>62.197159</td>\n",
              "      <td>345.333333</td>\n",
              "      <td>13.0</td>\n",
              "      <td>11.0</td>\n",
              "      <td>24.0</td>\n",
              "      <td>21.0</td>\n",
              "      <td>0.000891</td>\n",
              "      <td>0.541667</td>\n",
              "    </tr>\n",
              "  </tbody>\n",
              "</table>\n",
              "</div>"
            ],
            "text/plain": [
              "      Trip Duration  Start Station ID  ...  shrt/tot  shrt/totg\n",
              "age                                    ...                     \n",
              "17.0           3393             15980  ...  0.000069   0.200000\n",
              "18.0           9242             28797  ...  0.000000   0.000000\n",
              "19.0           1125              3203  ...  0.000000   0.000000\n",
              "20.0          23395            111869  ...  0.000548   0.228571\n",
              "21.0          20720             76717  ...  0.000891   0.541667\n",
              "\n",
              "[5 rows x 18 columns]"
            ]
          },
          "metadata": {
            "tags": []
          },
          "execution_count": 41
        }
      ]
    },
    {
      "cell_type": "code",
      "metadata": {
        "id": "1y-UHv6X8dpY",
        "colab_type": "code",
        "outputId": "3d739d9e-a0bf-4f99-e567-987cd6519626",
        "colab": {
          "base_uri": "https://localhost:8080/",
          "height": 312
        }
      },
      "source": [
        "# Plotting Case 1 \n",
        "ax = citig.plot(\"age_groups\", \"shrt/tot\", legend=False, figsize=[10,4])\n",
        "line = ax.plot\n",
        "\n",
        "plt.ylabel(\"Fraction of short trips\")\n",
        "plt.xlabel(\"Age group\")\n",
        "plt.title(\"The fraction of short trips (total trips) as a function of age group\")"
      ],
      "execution_count": 0,
      "outputs": [
        {
          "output_type": "execute_result",
          "data": {
            "text/plain": [
              "Text(0.5, 1.0, 'The fraction of short trips (total trips) as a function of age group')"
            ]
          },
          "metadata": {
            "tags": []
          },
          "execution_count": 42
        },
        {
          "output_type": "display_data",
          "data": {
            "image/png": "[encoded data removed]",
            "text/plain": [
              "<Figure size 720x288 with 1 Axes>"
            ]
          },
          "metadata": {
            "tags": []
          }
        }
      ]
    },
    {
      "cell_type": "code",
      "metadata": {
        "id": "911t5jhPcm8B",
        "colab_type": "code",
        "outputId": "7eea65c4-b950-4bbd-db82-f1fb27eb1fe8",
        "colab": {
          "base_uri": "https://localhost:8080/",
          "height": 312
        }
      },
      "source": [
        "# Plotting Case 2 \n",
        "ax2 = citig.plot(\"age_groups\", \"shrt/totg\", legend=False, figsize=[10,4], color=\"grey\")\n",
        "plt.ylabel(\"Fraction of short trips\")\n",
        "plt.xlabel(\"Age group\")\n",
        "plt.title(\"The fraction of short trips (total trips of age group)\")"
      ],
      "execution_count": 0,
      "outputs": [
        {
          "output_type": "execute_result",
          "data": {
            "text/plain": [
              "Text(0.5, 1.0, 'The fraction of short trips (total trips of age group)')"
            ]
          },
          "metadata": {
            "tags": []
          },
          "execution_count": 43
        },
        {
          "output_type": "display_data",
          "data": {
            "image/png": "[encoded data removed]",
            "text/plain": [
              "<Figure size 720x288 with 1 Axes>"
            ]
          },
          "metadata": {
            "tags": []
          }
        }
      ]
    },
    {
      "cell_type": "markdown",
      "metadata": {
        "id": "p5sktAiJlrBX",
        "colab_type": "text"
      },
      "source": [
        "**What is the age group that is predominantly using citi bikes for commuting?  How did you make that determination?  What are the assumptions that went into finding this model?**"
      ]
    },
    {
      "cell_type": "code",
      "metadata": {
        "id": "ahPx_bn9SbH8",
        "colab_type": "code",
        "outputId": "b1ec09c3-e419-438d-b511-02f58e9a53b2",
        "colab": {
          "base_uri": "https://localhost:8080/",
          "height": 160
        }
      },
      "source": [
        "citig[citig[\"shrt/tot\"] == citig[\"shrt/tot\"].max()]"
      ],
      "execution_count": 0,
      "outputs": [
        {
          "output_type": "execute_result",
          "data": {
            "text/html": [
              "<div>\n",
              "<style scoped>\n",
              "    .dataframe tbody tr th:only-of-type {\n",
              "        vertical-align: middle;\n",
              "    }\n",
              "\n",
              "    .dataframe tbody tr th {\n",
              "        vertical-align: top;\n",
              "    }\n",
              "\n",
              "    .dataframe thead th {\n",
              "        text-align: right;\n",
              "    }\n",
              "</style>\n",
              "<table border=\"1\" class=\"dataframe\">\n",
              "  <thead>\n",
              "    <tr style=\"text-align: right;\">\n",
              "      <th></th>\n",
              "      <th>Trip Duration</th>\n",
              "      <th>Start Station ID</th>\n",
              "      <th>Start Station Latitude</th>\n",
              "      <th>Start Station Longitude</th>\n",
              "      <th>End Station ID</th>\n",
              "      <th>End Station Latitude</th>\n",
              "      <th>End Station Longitude</th>\n",
              "      <th>Bike ID</th>\n",
              "      <th>Birth Year</th>\n",
              "      <th>Gender</th>\n",
              "      <th>logdur</th>\n",
              "      <th>trip[min]</th>\n",
              "      <th>short_trip</th>\n",
              "      <th>long_trip</th>\n",
              "      <th>totg</th>\n",
              "      <th>age_groups</th>\n",
              "      <th>shrt/tot</th>\n",
              "      <th>shrt/totg</th>\n",
              "    </tr>\n",
              "    <tr>\n",
              "      <th>age</th>\n",
              "      <th></th>\n",
              "      <th></th>\n",
              "      <th></th>\n",
              "      <th></th>\n",
              "      <th></th>\n",
              "      <th></th>\n",
              "      <th></th>\n",
              "      <th></th>\n",
              "      <th></th>\n",
              "      <th></th>\n",
              "      <th></th>\n",
              "      <th></th>\n",
              "      <th></th>\n",
              "      <th></th>\n",
              "      <th></th>\n",
              "      <th></th>\n",
              "      <th></th>\n",
              "      <th></th>\n",
              "    </tr>\n",
              "  </thead>\n",
              "  <tbody>\n",
              "    <tr>\n",
              "      <th>35.0</th>\n",
              "      <td>413220</td>\n",
              "      <td>2943053</td>\n",
              "      <td>37466.713696</td>\n",
              "      <td>-68124.086759</td>\n",
              "      <td>2938454</td>\n",
              "      <td>37465.757909</td>\n",
              "      <td>-68123.825151</td>\n",
              "      <td>22590392</td>\n",
              "      <td>1822520.0</td>\n",
              "      <td>1153</td>\n",
              "      <td>2328.606278</td>\n",
              "      <td>6887.0</td>\n",
              "      <td>593.0</td>\n",
              "      <td>327.0</td>\n",
              "      <td>920.0</td>\n",
              "      <td>35.0</td>\n",
              "      <td>0.040636</td>\n",
              "      <td>0.644565</td>\n",
              "    </tr>\n",
              "  </tbody>\n",
              "</table>\n",
              "</div>"
            ],
            "text/plain": [
              "      Trip Duration  Start Station ID  ...  shrt/tot  shrt/totg\n",
              "age                                    ...                     \n",
              "35.0         413220           2943053  ...  0.040636   0.644565\n",
              "\n",
              "[1 rows x 18 columns]"
            ]
          },
          "metadata": {
            "tags": []
          },
          "execution_count": 44
        }
      ]
    },
    {
      "cell_type": "markdown",
      "metadata": {
        "id": "UTfDGhlxlwfr",
        "colab_type": "text"
      },
      "source": [
        "**1.   What is the age group that is predominantly using citi bikes for commuting?** \n",
        "According to the graph, the age group around 35 is the most predominant group using citi bikes for commuting. The function above also shows that the age group of 35 is the most predominant group.  \n",
        "\n",
        "**2.   How did you make that determination?** \n",
        "I can make this decision based on the graph of 'the fraction of short trips (total trips) as a function of age group'. The result from the data result regarding the maximum value of the fraction of short trip is also showing the same result.  \n",
        "\n",
        "**3.   What are the assumptions that went into finding this model?**\n",
        "This analysis is based on the assumption that the data of commuting time is based on the riders who are using the Citi Bike only for the short time, perhaps using for commuting. However, the data is collected in 2016, which means that the group age can be different at the current year. \n"
      ]
    },
    {
      "cell_type": "markdown",
      "metadata": {
        "id": "VGwQfqBl5KxN",
        "colab_type": "text"
      },
      "source": [
        "### EXTRA CREDIT - Fit a model parameter by hand (aka: \"fit by eye\") **(GGD: +5)**"
      ]
    },
    {
      "cell_type": "markdown",
      "metadata": {
        "id": "YYYX30Zm5Rb2",
        "colab_type": "text"
      },
      "source": [
        "Let's approximate the number of short trips as a function of age group by a parabola.  Here's the function we'll use:"
      ]
    },
    {
      "cell_type": "code",
      "metadata": {
        "id": "tTbX9C21AkxN",
        "colab_type": "code",
        "colab": {}
      },
      "source": [
        "# Note: I changed the coefficient of the model\n",
        "\n",
        "def short_by_age(age_groups, peak_age, peak_value):\n",
        "  \"\"\"\n",
        "  Generate a model for the fraction of trips that are short as a \n",
        "  function of age group. \n",
        "  \"\"\"\n",
        "  \n",
        "  model = -2e-4 * (age_groups - peak_age)**2 + peak_value\n",
        "  return model"
      ],
      "execution_count": 0,
      "outputs": []
    },
    {
      "cell_type": "markdown",
      "metadata": {
        "id": "7ojWFVFiBJND",
        "colab_type": "text"
      },
      "source": [
        "**Use the above function to fit the peak_age and peak_value parameters \"by eye\".**  By that I mean, choose some values, plot it, chose a new value and plot it to see if it fits better by eye, then repeat until you have something that looks reasonable."
      ]
    },
    {
      "cell_type": "code",
      "metadata": {
        "id": "idadFrjq8A5T",
        "colab_type": "code",
        "colab": {}
      },
      "source": [
        "subset = citig[[\"age_groups\", \"short_trip\", \"long_trip\", \"totg\", \"shrt/tot\", \"shrt/totg\"]]"
      ],
      "execution_count": 0,
      "outputs": []
    },
    {
      "cell_type": "code",
      "metadata": {
        "id": "YaJ6HL_qcng5",
        "colab_type": "code",
        "outputId": "597cf71c-3fea-4b1b-e5cf-61067a02bc6c",
        "colab": {
          "base_uri": "https://localhost:8080/",
          "height": 362
        }
      },
      "source": [
        "# Case 1 \n",
        "\n",
        "# vertex\n",
        "peak_value1 = subset[subset[\"shrt/tot\"] == citig[\"shrt/tot\"].max()]\n",
        "print(peak_value1)\n",
        "print(\"\")\n",
        "\n",
        "# plot\n",
        "txt = \"Fraction of short trips\" \n",
        "ax = subset.plot(\"age_groups\", \"shrt/tot\", legend=False, figsize=[10,4], label=txt)\n",
        "\n",
        "# parabola\n",
        "model = short_by_age(subset[\"age_groups\"], 35, 0.040636)\n",
        "ltxt = \"Trendline = -2e-4 * (age groups - peak age)**2 + peak value\"\n",
        "plt.plot(subset[\"age_groups\"], model, label=ltxt, color=\"orange\")\n",
        "\n",
        "# label\n",
        "ax.legend()\n",
        "plt.ylabel(\"Fraction of short trips\")\n",
        "plt.xlabel(\"Age group\")\n",
        "plt.title(\"The fraction of short trips as of total trips\")\n",
        "\n",
        "# axis - graph magnification\n",
        "plt.axis([17, 75, -0.002, 0.05])\n",
        "plt.show()"
      ],
      "execution_count": 0,
      "outputs": [
        {
          "output_type": "stream",
          "text": [
            "      age_groups  short_trip  long_trip   totg  shrt/tot  shrt/totg\n",
            "age                                                                \n",
            "35.0        35.0       593.0      327.0  920.0  0.040636   0.644565\n",
            "\n"
          ],
          "name": "stdout"
        },
        {
          "output_type": "display_data",
          "data": {
            "image/png": "[encoded data removed]",
            "text/plain": [
              "<Figure size 720x288 with 1 Axes>"
            ]
          },
          "metadata": {
            "tags": []
          }
        }
      ]
    },
    {
      "cell_type": "code",
      "metadata": {
        "id": "jP68UVloDXX6",
        "colab_type": "code",
        "outputId": "3c0bf2f3-bfeb-49a9-be41-b8c9c0b229bb",
        "colab": {
          "base_uri": "https://localhost:8080/",
          "height": 362
        }
      },
      "source": [
        "# Case 2\n",
        "\n",
        "# vertex\n",
        "peak_value2 = subset[subset[\"shrt/totg\"] == citig[\"shrt/totg\"].max()]\n",
        "print(peak_value2)\n",
        "print(\"\")\n",
        "\n",
        "# plot\n",
        "txt = \"Fraction of short trips\" \n",
        "ax = subset.plot(\"age_groups\", \"shrt/totg\", legend=False, figsize=[10,4], color = \"grey\", label=txt)\n",
        "\n",
        "# parabola\n",
        "model = short_by_age(subset[\"age_groups\"], 75, 1)\n",
        "ltxt = \"Trendline = -2e-4 * (age groups - peak age)**2 + peak value\"\n",
        "plt.plot(subset[\"age_groups\"], model, label=ltxt, color=\"orange\")\n",
        "\n",
        "# label\n",
        "ax.legend()\n",
        "plt.ylabel(\"Fraction of short trips\")\n",
        "plt.xlabel(\"Age group\")\n",
        "plt.title(\"The fraction of short trips as of total trips of age group\")\n",
        "\n",
        "# axis - graph magnification \n",
        "plt.axis([17, 75, -0.1, 1.1])\n",
        "plt.show()"
      ],
      "execution_count": 0,
      "outputs": [
        {
          "output_type": "stream",
          "text": [
            "      age_groups  short_trip  long_trip  totg  shrt/tot  shrt/totg\n",
            "age                                                               \n",
            "75.0        75.0         8.0        0.0   8.0  0.000548        1.0\n",
            "\n"
          ],
          "name": "stdout"
        },
        {
          "output_type": "display_data",
          "data": {
            "image/png": "[encoded data removed]",
            "text/plain": [
              "<Figure size 720x288 with 1 Axes>"
            ]
          },
          "metadata": {
            "tags": []
          }
        }
      ]
    },
    {
      "cell_type": "code",
      "metadata": {
        "id": "SZhRjK0zEEu0",
        "colab_type": "code",
        "colab": {}
      },
      "source": [
        ""
      ],
      "execution_count": 0,
      "outputs": []
    }
  ]
}